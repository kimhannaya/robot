{
 "cells": [
  {
   "cell_type": "code",
   "execution_count": null,
   "id": "92f96fa7-1534-4a7a-a987-9e72f398a495",
   "metadata": {},
   "outputs": [],
   "source": [
    "# 함수\n",
    "# 반복되는 기능"
   ]
  },
  {
   "cell_type": "code",
   "execution_count": 6,
   "id": "0b338fdf-01a3-4dcc-9f66-f765ea64758e",
   "metadata": {},
   "outputs": [
    {
     "name": "stdout",
     "output_type": "stream",
     "text": [
      "True\n",
      "False\n"
     ]
    }
   ],
   "source": [
    "# 1. is_divisor(num1, num2)\n",
    "# 만약, num2가 num1의 약수라면 True\n",
    "# 약수가 아니라면, False를 반환하는 \n",
    "\n",
    "# 함수 정의!!\n",
    "# 함수 이름에 is -> 반환 값 논리형\n",
    "# 변수 이름에 is -> 논리형 데이터!!\n",
    "def is_divisor(num1 : int, num2 : int) -> bool:\n",
    "    \"\"\"num2가 num1의 약수인지 판별\"\"\" # docstring (Shift + Tab)\n",
    "    return num1 % num2 == 0\n",
    "\n",
    "print(is_divisor(10, 2)) # True\n",
    "print(is_divisor(10, 3)) # False"
   ]
  },
  {
   "cell_type": "code",
   "execution_count": 8,
   "id": "e3065f08-4182-44b7-ac27-e37684a2fa68",
   "metadata": {},
   "outputs": [
    {
     "name": "stdout",
     "output_type": "stream",
     "text": [
      "10의 약수 : 1 2 5 10 \n",
      "12의 약수 : 1 2 3 4 6 12 \n"
     ]
    }
   ],
   "source": [
    "# 2. 약수를 전부 출력\n",
    "# print_divisors(num)\n",
    "# 만약, num이 10이라면\n",
    "# 10의 약수 : 1 2 5 10\n",
    "# 만약, num이 12라면\n",
    "# 12의 약수 : 1 2 3 4 6 12\n",
    "\n",
    "# 함수\n",
    "def print_divisors(num : int):\n",
    "    # num이 10이라면???\n",
    "    print(f\"{num}의 약수 : \", end=\"\")\n",
    "\n",
    "    for i in range(1, num + 1):\n",
    "        if num % i == 0:\n",
    "            print(i, end=\" \")\n",
    "    print()\n",
    "print_divisors(10)\n",
    "print_divisors(12)"
   ]
  },
  {
   "cell_type": "markdown",
   "id": "9a85a2ae-6d18-43cd-90cb-e313ee993363",
   "metadata": {},
   "source": []
  },
  {
   "cell_type": "code",
   "execution_count": 10,
   "id": "df1eec32-438e-4908-99b1-352e799c99f2",
   "metadata": {},
   "outputs": [
    {
     "name": "stdout",
     "output_type": "stream",
     "text": [
      "18\n",
      "28\n"
     ]
    }
   ],
   "source": [
    "# 3. 약수의 총합!!\n",
    "# get_sum_of_divisors(num)\n",
    "\n",
    "# hint: 2번 문제에서 print하는 대신\n",
    "# 누적 합하여서\n",
    "# 해당 누적합한 변수를 반환(return)\n",
    "\n",
    "def get_sum_of_divisors(num):\n",
    "    result = 0\n",
    "    for i in range(1, num + 1):\n",
    "        if is_divisor(num, i):\n",
    "            result += i\n",
    "    return result\n",
    "\n",
    "print(get_sum_of_divisors(10)) # 18 출력!!\n",
    "print(get_sum_of_divisors(12)) # 28 출력!!"
   ]
  },
  {
   "cell_type": "code",
   "execution_count": 13,
   "id": "ced6f827-d178-4a95-b5cc-a43bd18b0db6",
   "metadata": {},
   "outputs": [
    {
     "name": "stdout",
     "output_type": "stream",
     "text": [
      "False\n",
      "False\n",
      "True\n"
     ]
    }
   ],
   "source": [
    "# 4. 완전수를 판별하는 함수\n",
    "# is_perfect_number(num)\n",
    "# 만약, num이 완전수라면 -> True\n",
    "# 완전수가 아니라면 -> False\n",
    "\n",
    "# 완전수(perfect number)란?\n",
    "# 자기 자신을 제외한 양의 약수의 합이 \n",
    "# 다시 자기 자신이 되는 수!!!\n",
    "# 10 : 1 + 2 + 5 = 8이므로 (X)\n",
    "# 12 : 1 + 2 + 3 + 4 + 6 = 16 (X)\n",
    "# 28 : 1 + 2 + 4 + 7 + 14 = 28 (O)\n",
    "\n",
    "def is_perfect_number(num):\n",
    "    return get_sum_of_divisors(num) == num * 2\n",
    "\n",
    "print(is_perfect_number(10)) # False\n",
    "print(is_perfect_number(12)) # False\n",
    "print(is_perfect_number(28)) # True"
   ]
  },
  {
   "cell_type": "code",
   "execution_count": 26,
   "id": "bcc8eee3-70a6-4653-9265-d82a7f454143",
   "metadata": {},
   "outputs": [
    {
     "name": "stdout",
     "output_type": "stream",
     "text": [
      "496\n",
      "8128\n"
     ]
    }
   ],
   "source": [
    "# 5. 그 다음 오는 완전수를 구해보자!!\n",
    "# 1번째 완전수 : 6 (1 + 2 + 3)\n",
    "# 2번째 완전수 : 28 (1 + 2 + 4 + 7 + 14)\n",
    "# 3번째 완전수 : ??? (세 자리 수)\n",
    "# 4번째 완전수 : ???? (네 자리 수)\n",
    "\n",
    "# 3번째 완전수\n",
    "# 4번째 완전수\n",
    "\n",
    "# 단, 5번째 완전수 : 8자리여서\n",
    "# 우리 로직으로 해결 X\n",
    "\n",
    "for i in range(100, 1000):\n",
    "    if is_perfect_number(i):\n",
    "        print(i)\n",
    "\n",
    "for i in range(1000, 10000):\n",
    "    if is_perfect_number(i):\n",
    "        print(i)"
   ]
  },
  {
   "cell_type": "code",
   "execution_count": 27,
   "id": "98a5cb42-5627-4194-a158-f52c090454aa",
   "metadata": {},
   "outputs": [],
   "source": [
    "def is_divisor(num1 : int, num2 : int) -> bool:\n",
    "    \"\"\"num2가 num1의 약수인지 판별\"\"\" # docstring (Shift + Tab)\n",
    "    return num1 % num2 == 0\n",
    "\n",
    "def print_divisors(num : int):\n",
    "    # num이 10이라면???\n",
    "    print(f\"{num}의 약수 : \", end=\"\")\n",
    "\n",
    "    for i in range(1, num + 1):\n",
    "        if num % i == 0:\n",
    "            print(i, end=\" \")\n",
    "    print()\n",
    "\n",
    "def get_sum_of_divisors(num):\n",
    "    result = 0\n",
    "    for i in range(1, num // 2 + 1):\n",
    "        if is_divisor(num, i):\n",
    "            result += i\n",
    "    result += num\n",
    "    return result\n",
    "\n",
    "def is_perfect_number(num):\n",
    "    return get_sum_of_divisors(num) == num * 2"
   ]
  },
  {
   "cell_type": "code",
   "execution_count": 30,
   "id": "b823d347-0260-4ac8-9f32-386949c44355",
   "metadata": {},
   "outputs": [
    {
     "data": {
      "text/plain": [
       "True"
      ]
     },
     "execution_count": 30,
     "metadata": {},
     "output_type": "execute_result"
    }
   ],
   "source": [
    "is_perfect_number(8128)"
   ]
  },
  {
   "cell_type": "code",
   "execution_count": 29,
   "id": "15eefbed-dde6-4498-9b64-1480a44ca913",
   "metadata": {},
   "outputs": [
    {
     "name": "stdout",
     "output_type": "stream",
     "text": [
      "8128의 약수 : 1 2 4 8 16 32 64 127 254 508 1016 2032 4064 8128 \n"
     ]
    }
   ],
   "source": [
    "print_divisors(8128)"
   ]
  },
  {
   "cell_type": "code",
   "execution_count": 28,
   "id": "14b4ef65-59be-46b3-b970-f094b3666bf4",
   "metadata": {},
   "outputs": [
    {
     "name": "stderr",
     "output_type": "stream",
     "text": [
      " 83%|██████████████████████████████████████████████████████████████▏            | 74577/90000 [02:29<00:30, 499.25it/s]\n"
     ]
    },
    {
     "ename": "KeyboardInterrupt",
     "evalue": "",
     "output_type": "error",
     "traceback": [
      "\u001b[1;31m---------------------------------------------------------------------------\u001b[0m",
      "\u001b[1;31mKeyboardInterrupt\u001b[0m                         Traceback (most recent call last)",
      "Cell \u001b[1;32mIn[28], line 6\u001b[0m\n\u001b[0;32m      3\u001b[0m \u001b[38;5;28;01mfrom\u001b[39;00m\u001b[38;5;250m \u001b[39m\u001b[38;5;21;01mtqdm\u001b[39;00m\u001b[38;5;250m \u001b[39m\u001b[38;5;28;01mimport\u001b[39;00m tqdm\n\u001b[0;32m      5\u001b[0m \u001b[38;5;28;01mfor\u001b[39;00m i \u001b[38;5;129;01min\u001b[39;00m tqdm(\u001b[38;5;28mrange\u001b[39m(\u001b[38;5;241m10000\u001b[39m, \u001b[38;5;241m100000\u001b[39m)):\n\u001b[1;32m----> 6\u001b[0m     \u001b[38;5;28;01mif\u001b[39;00m \u001b[43mis_perfect_number\u001b[49m\u001b[43m(\u001b[49m\u001b[43mi\u001b[49m\u001b[43m)\u001b[49m:\n\u001b[0;32m      7\u001b[0m         \u001b[38;5;28mprint\u001b[39m(i)\n",
      "Cell \u001b[1;32mIn[27], line 23\u001b[0m, in \u001b[0;36mis_perfect_number\u001b[1;34m(num)\u001b[0m\n\u001b[0;32m     22\u001b[0m \u001b[38;5;28;01mdef\u001b[39;00m\u001b[38;5;250m \u001b[39m\u001b[38;5;21mis_perfect_number\u001b[39m(num):\n\u001b[1;32m---> 23\u001b[0m     \u001b[38;5;28;01mreturn\u001b[39;00m \u001b[43mget_sum_of_divisors\u001b[49m\u001b[43m(\u001b[49m\u001b[43mnum\u001b[49m\u001b[43m)\u001b[49m \u001b[38;5;241m==\u001b[39m num \u001b[38;5;241m*\u001b[39m \u001b[38;5;241m2\u001b[39m\n",
      "Cell \u001b[1;32mIn[27], line 17\u001b[0m, in \u001b[0;36mget_sum_of_divisors\u001b[1;34m(num)\u001b[0m\n\u001b[0;32m     15\u001b[0m result \u001b[38;5;241m=\u001b[39m \u001b[38;5;241m0\u001b[39m\n\u001b[0;32m     16\u001b[0m \u001b[38;5;28;01mfor\u001b[39;00m i \u001b[38;5;129;01min\u001b[39;00m \u001b[38;5;28mrange\u001b[39m(\u001b[38;5;241m1\u001b[39m, num \u001b[38;5;241m/\u001b[39m\u001b[38;5;241m/\u001b[39m \u001b[38;5;241m2\u001b[39m \u001b[38;5;241m+\u001b[39m \u001b[38;5;241m1\u001b[39m):\n\u001b[1;32m---> 17\u001b[0m     \u001b[38;5;28;01mif\u001b[39;00m \u001b[43mis_divisor\u001b[49m\u001b[43m(\u001b[49m\u001b[43mnum\u001b[49m\u001b[43m,\u001b[49m\u001b[43m \u001b[49m\u001b[43mi\u001b[49m\u001b[43m)\u001b[49m:\n\u001b[0;32m     18\u001b[0m         result \u001b[38;5;241m+\u001b[39m\u001b[38;5;241m=\u001b[39m i\n\u001b[0;32m     19\u001b[0m result \u001b[38;5;241m+\u001b[39m\u001b[38;5;241m=\u001b[39m num\n",
      "Cell \u001b[1;32mIn[27], line 3\u001b[0m, in \u001b[0;36mis_divisor\u001b[1;34m(num1, num2)\u001b[0m\n\u001b[0;32m      1\u001b[0m \u001b[38;5;28;01mdef\u001b[39;00m\u001b[38;5;250m \u001b[39m\u001b[38;5;21mis_divisor\u001b[39m(num1 : \u001b[38;5;28mint\u001b[39m, num2 : \u001b[38;5;28mint\u001b[39m) \u001b[38;5;241m-\u001b[39m\u001b[38;5;241m>\u001b[39m \u001b[38;5;28mbool\u001b[39m:\n\u001b[0;32m      2\u001b[0m \u001b[38;5;250m    \u001b[39m\u001b[38;5;124;03m\"\"\"num2가 num1의 약수인지 판별\"\"\"\u001b[39;00m \u001b[38;5;66;03m# docstring (Shift + Tab)\u001b[39;00m\n\u001b[1;32m----> 3\u001b[0m     \u001b[38;5;28;01mreturn\u001b[39;00m \u001b[43mnum1\u001b[49m\u001b[43m \u001b[49m\u001b[38;5;241;43m%\u001b[39;49m\u001b[43m \u001b[49m\u001b[43mnum2\u001b[49m\u001b[43m \u001b[49m\u001b[38;5;241;43m==\u001b[39;49m\u001b[43m \u001b[49m\u001b[38;5;241;43m0\u001b[39;49m\n",
      "\u001b[1;31mKeyboardInterrupt\u001b[0m: "
     ]
    }
   ],
   "source": [
    "# 5번째 완전수를 구하기 위해\n",
    "# 5자리 아닐까?\n",
    "from tqdm import tqdm\n",
    "\n",
    "for i in tqdm(range(10000, 100000)):\n",
    "    if is_perfect_number(i):\n",
    "        print(i)"
   ]
  },
  {
   "cell_type": "code",
   "execution_count": 37,
   "id": "41658afe-6637-419f-8830-c8e46d317cfb",
   "metadata": {},
   "outputs": [
    {
     "data": {
      "text/plain": [
       "38"
      ]
     },
     "execution_count": 37,
     "metadata": {},
     "output_type": "execute_result"
    }
   ],
   "source": [
    "# 가변 매개변수\n",
    "def add_number(*args):\n",
    "    result = 0\n",
    "    for num in args:\n",
    "        result += num\n",
    "    return result\n",
    "\n",
    "add_number(1, 2, 3, 4, 5, 11, 12)"
   ]
  },
  {
   "cell_type": "code",
   "execution_count": 38,
   "id": "e5ff27ce-27f0-4ad7-987d-0e811b7d23fc",
   "metadata": {},
   "outputs": [
    {
     "name": "stdout",
     "output_type": "stream",
     "text": [
      "(15, 5)\n"
     ]
    }
   ],
   "source": [
    "def cal_number(num1, num2):\n",
    "    return num1 + num2, num1 - num2\n",
    "\n",
    "print(cal_number(10, 5))\n",
    "\n",
    "# 함수의 리턴값이 2개이다 (X)\n",
    "# 함수는 리턴 값이 반드시 1개"
   ]
  },
  {
   "cell_type": "code",
   "execution_count": 43,
   "id": "bab53847-df30-477d-afd2-b94d30ebc021",
   "metadata": {},
   "outputs": [
    {
     "name": "stdout",
     "output_type": "stream",
     "text": [
      "32\n",
      "25\n"
     ]
    }
   ],
   "source": [
    "# 함수의 기본 값 설정\n",
    "def my_pow(num1, num2=2):\n",
    "    result = 1\n",
    "    for _ in range(num2):\n",
    "        result *= num1\n",
    "    return result\n",
    "print(my_pow(2, 5))\n",
    "print(my_pow(5))"
   ]
  },
  {
   "cell_type": "code",
   "execution_count": 46,
   "id": "34abc3ee-eff7-4489-ba86-41cb42be8d21",
   "metadata": {},
   "outputs": [
    {
     "name": "stdout",
     "output_type": "stream",
     "text": [
      "15\n",
      "30\n"
     ]
    }
   ],
   "source": [
    "# day4.ipynb과 cal.py가 같은 경로에 있다!!\n",
    "# 모듈화!! \n",
    "# 함수, 클래스 -> 간단하게 .py만들어서 배포 -> import \n",
    "\n",
    "import cal # cal.py를 로드!!\n",
    "print(cal.add(10, 5))\n",
    "\n",
    "from cal import add\n",
    "print(add(20, 10))"
   ]
  },
  {
   "cell_type": "code",
   "execution_count": 52,
   "id": "b6ae9d42-f67f-4db7-abc6-2a53835727a7",
   "metadata": {},
   "outputs": [],
   "source": [
    "# 객체 지향 프로그래밍 (Object Oriented Programming)\n",
    "# 독립된 객체들 간의 메시지를 주고 받음으로써 프로그램을 구성하는 방식\n",
    "\n",
    "# 객체의 설계도 : class\n",
    "# 시계, 바나나\n",
    "# 아~ 클래스명은 대문자로 시작하는구나!!\n",
    "class Clock:\n",
    "    # Data\n",
    "    hour = 11   # 시\n",
    "    minute = 40 # 분\n",
    "    second = 50 # 초\n",
    "    # Logic\n",
    "\n",
    "    # self : 클래스 이름을 반환!!\n",
    "    # 클래스 내 함수 정의 시 첫 번째 매개변수로 설정!!\n",
    "    # 클래스 내 변수 호출 시 self.변수이름\n",
    "    def show_time(self):\n",
    "        hour = 12\n",
    "        print(f\"{self.hour}시 {self.minute}분 {self.second}초\")\n",
    "\n",
    "class Banana:\n",
    "    color = \"노랗다\"\n",
    "    species = \"과일\"\n",
    "    \n",
    "    def who_many_eat(self):\n",
    "        print(\"원숭이\")\n",
    "\n",
    "    def how_eat(self):\n",
    "        print(\"껍질을 벗겨서\")\n",
    "\n",
    "    def show_info(self):\n",
    "        print(f\"색깔 : {self.color}, 종 : {self.species}\")"
   ]
  },
  {
   "cell_type": "code",
   "execution_count": 55,
   "id": "fd8c2ad7-0914-4b14-8613-f4fe0371da09",
   "metadata": {},
   "outputs": [
    {
     "name": "stdout",
     "output_type": "stream",
     "text": [
      "원숭이\n",
      "껍질을 벗겨서\n",
      "색깔 : 노랗다, 종 : 과일\n",
      "색깔 : 초록색, 종 : 과일\n",
      "색깔 : 노랗다, 종 : 과일\n"
     ]
    }
   ],
   "source": [
    "b1 = Banana()\n",
    "b1.who_many_eat()\n",
    "b1.how_eat()\n",
    "b1.show_info()\n",
    "\n",
    "b1.color = \"초록색\"\n",
    "b1.show_info()\n",
    "\n",
    "b2 = Banana()\n",
    "b2.show_info()"
   ]
  },
  {
   "cell_type": "code",
   "execution_count": 51,
   "id": "868a6c4d-1a88-4015-9cbe-84f3a4ae18a4",
   "metadata": {},
   "outputs": [
    {
     "name": "stdout",
     "output_type": "stream",
     "text": [
      "11시 40분 50초\n"
     ]
    }
   ],
   "source": [
    "나만의시계 = Clock()\n",
    "나만의시계.show_time()"
   ]
  },
  {
   "cell_type": "code",
   "execution_count": null,
   "id": "86d1c521-50d3-407d-ab40-2654172eba58",
   "metadata": {},
   "outputs": [],
   "source": [
    "# 객체 지향 프로그래밍 특징\n",
    "# 1) 추상화(Abastraction)\n",
    "# - 객체의 공통적인 속성을 추출하는 행위\n",
    "\n",
    "# 2) 캡슐화(Encapsultation)"
   ]
  },
  {
   "cell_type": "code",
   "execution_count": 62,
   "id": "f3e5392f-1f5b-44a9-91b5-0dccaaefdc25",
   "metadata": {},
   "outputs": [],
   "source": [
    "class Bank:\n",
    "    # 클래스에서 Data, Logic\n",
    "    # field : 멤버 변수, 속성, 특징, 특성\n",
    "    # function : 멤버 함수, 동작, 행위, 기능, 메소드\n",
    "\n",
    "    # field + function : memeber\n",
    "    \n",
    "    # 접근 제어자 (Access Modifier)\n",
    "    # 외부에서 변수(함수)를 바라볼 수 있는 범위를 설정!!\n",
    "    # public     : 누구가 어디에서나\n",
    "    # _protected : 상속 관계 + 같은 패키지(폴더)\n",
    "    # __private  : 같은 클래스 내!!\n",
    "    \n",
    "    __money = 0\n",
    "    \n",
    "    # 입금, 출금, 잔액 확인\n",
    "    def deposit(self, money):\n",
    "        self.__money += money\n",
    "\n",
    "    def withdraw(self, money):\n",
    "        self.__money -= money\n",
    "\n",
    "    def show_me_the_money(self):\n",
    "        print(f\"현재 잔액 : {self.__money}원\")"
   ]
  },
  {
   "cell_type": "code",
   "execution_count": 63,
   "id": "365e063d-09eb-4210-814a-c5ea66822ea8",
   "metadata": {},
   "outputs": [
    {
     "name": "stdout",
     "output_type": "stream",
     "text": [
      "현재 잔액 : 0원\n",
      "현재 잔액 : 1000000원\n",
      "현재 잔액 : 330000원\n",
      "현재 잔액 : 330000원\n"
     ]
    }
   ],
   "source": [
    "나만의계좌 = Bank()\n",
    "나만의계좌.show_me_the_money()\n",
    "나만의계좌.deposit(1000000)\n",
    "나만의계좌.show_me_the_money()\n",
    "나만의계좌.withdraw(670000)\n",
    "나만의계좌.show_me_the_money()\n",
    "\n",
    "나만의계좌.money = 1_000_000_000\n",
    "나만의계좌.show_me_the_money()\n",
    "\n",
    "# Bank 클래스의 속성을\n",
    "# 외부 사용자가 접근할 수 있다면\n",
    "# 캡슐화!!"
   ]
  },
  {
   "cell_type": "code",
   "execution_count": 82,
   "id": "cde4be40-07fe-4930-a211-25ba4f2e5e41",
   "metadata": {},
   "outputs": [],
   "source": [
    "# 생성자(Constructor)\n",
    "\n",
    "# 클래스를 만드는 이유? \n",
    "# name = \"나예호\"\n",
    "# age = 20\n",
    "# mbti = \"ENFJ\"\n",
    "\n",
    "# 나만의 사용자 정의 자료형\n",
    "# VO(Value Object)\n",
    "\n",
    "class Contact:\n",
    "\n",
    "    # __init__는 클래스가 생성될 때 호출!!\n",
    "    \n",
    "    def __init__(self, name, age, mbti):\n",
    "        self.__name = name\n",
    "        self.__age = age\n",
    "        self.__mbti = mbti\n",
    "\n",
    "    # getter : class의 field를 반환하는 함수!!\n",
    "    def get_age(self):\n",
    "        return self.__age\n",
    "\n",
    "    # setter : class의 field를 외부에서 수정하는 함수!!\n",
    "    def set_age(self, age):\n",
    "        self.__age = age\n",
    "\n",
    "    def __str__(self):\n",
    "        return f\"이름 : {self.__name}, 나이 : {self.__age}(세), MBTI : {self.__mbti}\""
   ]
  },
  {
   "cell_type": "code",
   "execution_count": 84,
   "id": "3704498d-3145-4ba5-b403-62cb29ab22ba",
   "metadata": {},
   "outputs": [
    {
     "name": "stdout",
     "output_type": "stream",
     "text": [
      "[2, 3, 4, 5, 6]\n"
     ]
    }
   ],
   "source": [
    "list3 = [2, 3, 4, 5, 6]\n",
    "print(list3)"
   ]
  },
  {
   "cell_type": "code",
   "execution_count": 85,
   "id": "87fbe781-865c-4e92-b279-07bfef8bb06a",
   "metadata": {},
   "outputs": [
    {
     "name": "stdout",
     "output_type": "stream",
     "text": [
      "이름 : 나예호, 나이 : 21(세), MBTI : ENFJ\n",
      "이름 : 수지, 나이 : 31(세), MBTI : INFP\n"
     ]
    }
   ],
   "source": [
    "c1 = Contact(\"나예호\", 20, \"ENFJ\")\n",
    "c2 = Contact(\"수지\", 30, \"INFP\")\n",
    "\n",
    "contact_list = [c1, c2]\n",
    "for contact in contact_list:\n",
    "    contact.set_age(contact.get_age() + 1)\n",
    "\n",
    "for contact in contact_list:\n",
    "    print(contact)"
   ]
  },
  {
   "cell_type": "code",
   "execution_count": 87,
   "id": "c491c76d-b4ec-41a5-8687-c337caa7cb1a",
   "metadata": {},
   "outputs": [
    {
     "name": "stdout",
     "output_type": "stream",
     "text": [
      "이름 : 나예호, 나이 : 21(세), MBTI : ENFJ\n"
     ]
    }
   ],
   "source": [
    "print(c1)"
   ]
  },
  {
   "cell_type": "code",
   "execution_count": 88,
   "id": "f2a0ac33-5726-463b-84a5-6792273ece02",
   "metadata": {},
   "outputs": [
    {
     "ename": "TypeError",
     "evalue": "__init__() missing 3 required positional arguments: 'name', 'age', and 'mbti'",
     "output_type": "error",
     "traceback": [
      "\u001b[1;31m---------------------------------------------------------------------------\u001b[0m",
      "\u001b[1;31mTypeError\u001b[0m                                 Traceback (most recent call last)",
      "Cell \u001b[1;32mIn[88], line 1\u001b[0m\n\u001b[1;32m----> 1\u001b[0m c3 \u001b[38;5;241m=\u001b[39m \u001b[43mContact\u001b[49m\u001b[43m(\u001b[49m\u001b[43m)\u001b[49m\n",
      "\u001b[1;31mTypeError\u001b[0m: __init__() missing 3 required positional arguments: 'name', 'age', and 'mbti'"
     ]
    }
   ],
   "source": [
    "c3 = Contact()\n"
   ]
  },
  {
   "cell_type": "code",
   "execution_count": 89,
   "id": "3146641a-68a9-471b-b176-bae4b6d43826",
   "metadata": {},
   "outputs": [],
   "source": [
    "# 상속(Inheritance)\n",
    "# 기존에 만들어졌던 클래스의 멤버를 물려받아 재사용\n",
    "\n",
    "# 부모 클래스의 멤버를 물려 받아\n",
    "# 자식 클래스에서 재활용!!\n",
    "\n",
    "# 부모 클래스(Super Class, 상위 클래스)\n",
    "# 자식 클래스(Sub Class, 하위 클래스)\n",
    "\n",
    "# Python 객체지향의 다형성!!\n",
    "# 함수 Overriding\n",
    "# 자식 클래스에서 부모로부터 받은 함수를 재정의\n",
    "\n",
    "\n",
    "\n",
    "# 동물 \n",
    "# 강아지, 토끼, 고양이, 말\n",
    "class Dog:\n",
    "    외모 = \"귀엽다\"\n",
    "    성격 = \"충직\"\n",
    "    문 = \"척추동물\"\n",
    "\n",
    "    def mammal(self):\n",
    "        print(\"포유류\")\n",
    "\n",
    "    def eat(self):\n",
    "        print(\"사료 먹는다\")\n",
    "\n",
    "    def cry(self):\n",
    "        print(\"월월\")\n",
    "\n",
    "    def __str__(self):\n",
    "        return f\"외모 : {self.외모}, 성격 : {self.성격}, 문 : {self.문}\""
   ]
  },
  {
   "cell_type": "code",
   "execution_count": 93,
   "id": "494cd9a1-26a0-49cd-aa51-865a86f84db3",
   "metadata": {},
   "outputs": [
    {
     "name": "stdout",
     "output_type": "stream",
     "text": [
      "외모 : 귀엽다, 성격 : 충직, 문 : 척추동물\n",
      "포유류\n",
      "월월\n",
      "사료 먹는다\n"
     ]
    }
   ],
   "source": [
    "꽃님이 = Dog()\n",
    "print(꽃님이)\n",
    "꽃님이.mammal()\n",
    "꽃님이.cry()\n",
    "꽃님이.eat()"
   ]
  },
  {
   "cell_type": "code",
   "execution_count": 97,
   "id": "1d1d24e8-0151-402c-9f2f-0da72bbd52b2",
   "metadata": {},
   "outputs": [],
   "source": [
    "class Mammal:\n",
    "\n",
    "    def mammal(self):\n",
    "        print(\"포유류\")\n",
    "\n",
    "    def eat(self):\n",
    "        print(\"무언가 먹는다\")\n",
    "\n",
    "    def cry(self):\n",
    "        print(\"어떻게 울지?\")"
   ]
  },
  {
   "cell_type": "code",
   "execution_count": 102,
   "id": "82506cb8-b60b-498e-b770-4145fb16fd81",
   "metadata": {},
   "outputs": [
    {
     "name": "stdout",
     "output_type": "stream",
     "text": [
      "외모 : 귀엽다, 수염이 있다, 성격 : 까칠하다, 문 : 척삭동물\n",
      "포유류\n",
      "야옹\n",
      "사료 냠냠\n"
     ]
    }
   ],
   "source": [
    "나비 = Cat()\n",
    "print(나비)\n",
    "나비.mammal()\n",
    "나비.cry()\n",
    "나비.eat()"
   ]
  },
  {
   "cell_type": "code",
   "execution_count": null,
   "id": "f156db61-958e-4e00-a4a8-e25d50a11c6d",
   "metadata": {},
   "outputs": [],
   "source": [
    "# 부모 클래스\n",
    "# 자식 클래스"
   ]
  },
  {
   "cell_type": "code",
   "execution_count": null,
   "id": "6b4fba94-de65-42a3-83fe-6c51ee21503d",
   "metadata": {},
   "outputs": [],
   "source": []
  },
  {
   "cell_type": "code",
   "execution_count": null,
   "id": "150610e3-44a5-45f2-9334-9b11348e05ca",
   "metadata": {},
   "outputs": [],
   "source": []
  },
  {
   "cell_type": "code",
   "execution_count": null,
   "id": "1d3c6383-506c-4c58-bb65-66b61025a01e",
   "metadata": {},
   "outputs": [],
   "source": []
  },
  {
   "cell_type": "code",
   "execution_count": 101,
   "id": "e3173996-92f0-4f34-b4c0-de45c03339a5",
   "metadata": {},
   "outputs": [],
   "source": [
    "# class 클래스명(부모 클래스)\n",
    "class Cat(Mammal):\n",
    "    외모 = \"귀엽다, 수염이 있다\"\n",
    "    성격 = \"까칠하다\"\n",
    "    문 = \"척삭동물\"\n",
    "\n",
    "    def cry(self):\n",
    "        print(\"야옹\")\n",
    "\n",
    "    def eat(self):\n",
    "        print(\"사료 냠냠\")\n",
    "\n",
    "    def __str__(self):\n",
    "        return f\"외모 : {self.외모}, 성격 : {self.성격}, 문 : {self.문}\"  "
   ]
  },
  {
   "cell_type": "code",
   "execution_count": 94,
   "id": "38310af4-6655-4588-a053-4cb06c4d8a78",
   "metadata": {},
   "outputs": [],
   "source": [
    "class Rabbit:\n",
    "    외모 = \"귀엽다, 귀가 길다\"\n",
    "    성격 = \"겁이 많다\"\n",
    "    문 = \"척삭동물\"\n",
    "\n",
    "    def mammal(self):\n",
    "        print(\"포유류\")\n",
    "\n",
    "    def cry(self):\n",
    "        print(\"삑삑\")\n",
    "\n",
    "    def eat(self):\n",
    "        print(\"풀\")\n",
    "\n",
    "    def __str__(self):\n",
    "        return f\"외모 : {self.외모}, 성격 : {self.성격}, 문 : {self.문}\""
   ]
  },
  {
   "cell_type": "code",
   "execution_count": 96,
   "id": "5ac7640f-cf8f-4fd7-9076-f3088bca3415",
   "metadata": {},
   "outputs": [
    {
     "name": "stdout",
     "output_type": "stream",
     "text": [
      "외모 : 귀엽다, 귀가 길다, 성격 : 겁이 많다, 문 : 척삭동물\n",
      "포유류\n",
      "삑삑\n",
      "풀\n"
     ]
    }
   ],
   "source": [
    "새초미 = Rabbit()\n",
    "print(새초미)\n",
    "새초미.mammal()\n",
    "새초미.cry()\n",
    "새초미.eat()"
   ]
  },
  {
   "cell_type": "code",
   "execution_count": null,
   "id": "2bc18131-130d-444b-9381-a848157258e7",
   "metadata": {},
   "outputs": [],
   "source": [
    "# 영화진흥위원회 API "
   ]
  },
  {
   "cell_type": "code",
   "execution_count": 103,
   "id": "f2d28092-fdac-4b06-b428-efc24f167b78",
   "metadata": {},
   "outputs": [
    {
     "data": {
      "text/plain": [
       "<Response [200]>"
      ]
     },
     "execution_count": 103,
     "metadata": {},
     "output_type": "execute_result"
    }
   ],
   "source": [
    "# 딕셔너리 재밌는 실습\n",
    "import requests\n",
    "MY_API_KEY = \"7077141e402b34395ff1bda2f711ff5c\"\n",
    "date = \"20250904\"\n",
    "url_movie = f\"https://kobis.or.kr/kobisopenapi/webservice/rest/boxoffice/searchDailyBoxOfficeList.json?key={MY_API_KEY}&targetDt={date}\"\n",
    "\n",
    "response = requests.get(url_movie)\n",
    "response"
   ]
  },
  {
   "cell_type": "code",
   "execution_count": 106,
   "id": "6ffd03ea-d550-4a2b-a66c-aa8348718b4f",
   "metadata": {},
   "outputs": [],
   "source": [
    "# 영화 관련 자료형\n",
    "class Movie:\n",
    "\n",
    "    def __init__(self, rank, movieNm, audiCnt, audiAcc):\n",
    "        self.rank = rank       # 순위\n",
    "        self.movieNm = movieNm # 영화 이름\n",
    "        self.audiCnt = audiCnt # 일별 관객수\n",
    "        self.audiAcc = audiAcc # 누적 관객수\n",
    "\n",
    "    def __str__(self):\n",
    "        return f\"{self.rank}위 : {self.movieNm}({self.audiCnt}명/{self.audiAcc}명)\""
   ]
  },
  {
   "cell_type": "code",
   "execution_count": null,
   "id": "8e350bf1-5928-4229-b7c8-cad3a3c62c82",
   "metadata": {},
   "outputs": [],
   "source": []
  },
  {
   "cell_type": "code",
   "execution_count": 110,
   "id": "f863eb2f-956e-4ea7-9b95-99a42bea0306",
   "metadata": {},
   "outputs": [],
   "source": [
    "movie_list = []\n",
    "\n",
    "for i in range(10):\n",
    "    rank = result[\"boxOfficeResult\"][\"dailyBoxOfficeList\"][i][\"rank\"]\n",
    "    movieNm = result[\"boxOfficeResult\"][\"dailyBoxOfficeList\"][i][\"movieNm\"]\n",
    "    audiCnt = result[\"boxOfficeResult\"][\"dailyBoxOfficeList\"][i][\"audiCnt\"]\n",
    "    audiAcc = result[\"boxOfficeResult\"][\"dailyBoxOfficeList\"][i][\"audiAcc\"]\n",
    "\n",
    "    movie = Movie(rank, movieNm, audiCnt, audiAcc)\n",
    "    movie_list.append(movie)"
   ]
  },
  {
   "cell_type": "code",
   "execution_count": 112,
   "id": "d7f81bcc-9c40-4204-86a0-cbdb39481465",
   "metadata": {},
   "outputs": [
    {
     "name": "stdout",
     "output_type": "stream",
     "text": [
      "1위 : 극장판 귀멸의 칼날: 무한성편(62691명/3458748명)\n",
      "2위 : 컨저링: 마지막 의식(28524명/68447명)\n",
      "3위 : F1 더 무비(13230명/4826681명)\n",
      "4위 : 좀비딸(12983명/5411863명)\n",
      "5위 : 투게더(4515명/15019명)\n",
      "6위 : 첫사랑 엔딩(3468명/84391명)\n",
      "7위 : 악마가 이사왔다(1535명/425187명)\n",
      "8위 : 긴키 지방의 어느 장소에 대하여(1307명/260195명)\n",
      "9위 : 노바디2(1200명/53902명)\n",
      "10위 : 이티(1044명/11492명)\n"
     ]
    }
   ],
   "source": [
    "for movie in movie_list:\n",
    "    print(movie)"
   ]
  },
  {
   "cell_type": "code",
   "execution_count": 104,
   "id": "19635f83-f945-48eb-9eca-34f4d8a025f8",
   "metadata": {},
   "outputs": [
    {
     "data": {
      "text/plain": [
       "{'boxOfficeResult': {'boxofficeType': '일별 박스오피스',\n",
       "  'showRange': '20250904~20250904',\n",
       "  'dailyBoxOfficeList': [{'rnum': '1',\n",
       "    'rank': '1',\n",
       "    'rankInten': '0',\n",
       "    'rankOldAndNew': 'OLD',\n",
       "    'movieCd': '20253289',\n",
       "    'movieNm': '극장판 귀멸의 칼날: 무한성편',\n",
       "    'openDt': '2025-08-22',\n",
       "    'salesAmt': '678112700',\n",
       "    'salesShare': '46.6',\n",
       "    'salesInten': '-159857340',\n",
       "    'salesChange': '-19.1',\n",
       "    'salesAcc': '37355740290',\n",
       "    'audiCnt': '62691',\n",
       "    'audiInten': '-16830',\n",
       "    'audiChange': '-21.2',\n",
       "    'audiAcc': '3458748',\n",
       "    'scrnCnt': '1581',\n",
       "    'showCnt': '4874'},\n",
       "   {'rnum': '2',\n",
       "    'rank': '2',\n",
       "    'rankInten': '0',\n",
       "    'rankOldAndNew': 'OLD',\n",
       "    'movieCd': '20256702',\n",
       "    'movieNm': '컨저링: 마지막 의식',\n",
       "    'openDt': '2025-09-03',\n",
       "    'salesAmt': '286788930',\n",
       "    'salesShare': '19.7',\n",
       "    'salesInten': '-110533380',\n",
       "    'salesChange': '-27.8',\n",
       "    'salesAcc': '687648240',\n",
       "    'audiCnt': '28524',\n",
       "    'audiInten': '-11054',\n",
       "    'audiChange': '-27.9',\n",
       "    'audiAcc': '68447',\n",
       "    'scrnCnt': '835',\n",
       "    'showCnt': '2151'},\n",
       "   {'rnum': '3',\n",
       "    'rank': '3',\n",
       "    'rankInten': '0',\n",
       "    'rankOldAndNew': 'OLD',\n",
       "    'movieCd': '20254501',\n",
       "    'movieNm': 'F1 더 무비',\n",
       "    'openDt': '2025-06-25',\n",
       "    'salesAmt': '132347510',\n",
       "    'salesShare': '9.1',\n",
       "    'salesInten': '-9109970',\n",
       "    'salesChange': '-6.4',\n",
       "    'salesAcc': '51794204600',\n",
       "    'audiCnt': '13230',\n",
       "    'audiInten': '-1377',\n",
       "    'audiChange': '-9.4',\n",
       "    'audiAcc': '4826681',\n",
       "    'scrnCnt': '644',\n",
       "    'showCnt': '1330'},\n",
       "   {'rnum': '4',\n",
       "    'rank': '4',\n",
       "    'rankInten': '0',\n",
       "    'rankOldAndNew': 'OLD',\n",
       "    'movieCd': '20241941',\n",
       "    'movieNm': '좀비딸',\n",
       "    'openDt': '2025-07-30',\n",
       "    'salesAmt': '119587700',\n",
       "    'salesShare': '8.2',\n",
       "    'salesInten': '-14043000',\n",
       "    'salesChange': '-10.5',\n",
       "    'salesAcc': '51273160590',\n",
       "    'audiCnt': '12983',\n",
       "    'audiInten': '-1619',\n",
       "    'audiChange': '-11.1',\n",
       "    'audiAcc': '5411863',\n",
       "    'scrnCnt': '675',\n",
       "    'showCnt': '1729'},\n",
       "   {'rnum': '5',\n",
       "    'rank': '5',\n",
       "    'rankInten': '0',\n",
       "    'rankOldAndNew': 'OLD',\n",
       "    'movieCd': '20256071',\n",
       "    'movieNm': '투게더',\n",
       "    'openDt': '2025-09-03',\n",
       "    'salesAmt': '34885600',\n",
       "    'salesShare': '2.4',\n",
       "    'salesInten': '-21448300',\n",
       "    'salesChange': '-38.1',\n",
       "    'salesAcc': '114325700',\n",
       "    'audiCnt': '4515',\n",
       "    'audiInten': '-3410',\n",
       "    'audiChange': '-43',\n",
       "    'audiAcc': '15019',\n",
       "    'scrnCnt': '239',\n",
       "    'showCnt': '603'},\n",
       "   {'rnum': '6',\n",
       "    'rank': '6',\n",
       "    'rankInten': '0',\n",
       "    'rankOldAndNew': 'OLD',\n",
       "    'movieCd': '20256281',\n",
       "    'movieNm': '첫사랑 엔딩',\n",
       "    'openDt': '2025-08-27',\n",
       "    'salesAmt': '32606400',\n",
       "    'salesShare': '2.2',\n",
       "    'salesInten': '-6098200',\n",
       "    'salesChange': '-15.8',\n",
       "    'salesAcc': '795122770',\n",
       "    'audiCnt': '3468',\n",
       "    'audiInten': '-603',\n",
       "    'audiChange': '-14.8',\n",
       "    'audiAcc': '84391',\n",
       "    'scrnCnt': '271',\n",
       "    'showCnt': '386'},\n",
       "   {'rnum': '7',\n",
       "    'rank': '7',\n",
       "    'rankInten': '3',\n",
       "    'rankOldAndNew': 'OLD',\n",
       "    'movieCd': '20210546',\n",
       "    'movieNm': '악마가 이사왔다',\n",
       "    'openDt': '2025-08-13',\n",
       "    'salesAmt': '12823700',\n",
       "    'salesShare': '0.9',\n",
       "    'salesInten': '-958400',\n",
       "    'salesChange': '-7',\n",
       "    'salesAcc': '4035317910',\n",
       "    'audiCnt': '1535',\n",
       "    'audiInten': '18',\n",
       "    'audiChange': '1.2',\n",
       "    'audiAcc': '425187',\n",
       "    'scrnCnt': '88',\n",
       "    'showCnt': '109'},\n",
       "   {'rnum': '8',\n",
       "    'rank': '8',\n",
       "    'rankInten': '1',\n",
       "    'rankOldAndNew': 'OLD',\n",
       "    'movieCd': '20256701',\n",
       "    'movieNm': '긴키 지방의 어느 장소에 대하여',\n",
       "    'openDt': '2025-08-13',\n",
       "    'salesAmt': '13145900',\n",
       "    'salesShare': '0.9',\n",
       "    'salesInten': '-2389400',\n",
       "    'salesChange': '-15.4',\n",
       "    'salesAcc': '2655711490',\n",
       "    'audiCnt': '1307',\n",
       "    'audiInten': '-251',\n",
       "    'audiChange': '-16.1',\n",
       "    'audiAcc': '260195',\n",
       "    'scrnCnt': '156',\n",
       "    'showCnt': '188'},\n",
       "   {'rnum': '9',\n",
       "    'rank': '9',\n",
       "    'rankInten': '3',\n",
       "    'rankOldAndNew': 'OLD',\n",
       "    'movieCd': '20256202',\n",
       "    'movieNm': '노바디2',\n",
       "    'openDt': '2025-08-27',\n",
       "    'salesAmt': '10973700',\n",
       "    'salesShare': '0.8',\n",
       "    'salesInten': '-1010600',\n",
       "    'salesChange': '-8.4',\n",
       "    'salesAcc': '477331800',\n",
       "    'audiCnt': '1200',\n",
       "    'audiInten': '-129',\n",
       "    'audiChange': '-9.7',\n",
       "    'audiAcc': '53902',\n",
       "    'scrnCnt': '199',\n",
       "    'showCnt': '277'},\n",
       "   {'rnum': '10',\n",
       "    'rank': '10',\n",
       "    'rankInten': '-3',\n",
       "    'rankOldAndNew': 'OLD',\n",
       "    'movieCd': '20020328',\n",
       "    'movieNm': '이티',\n",
       "    'openDt': '1984-06-23',\n",
       "    'salesAmt': '10006600',\n",
       "    'salesShare': '0.7',\n",
       "    'salesInten': '-13074100',\n",
       "    'salesChange': '-56.6',\n",
       "    'salesAcc': '94402800',\n",
       "    'audiCnt': '1044',\n",
       "    'audiInten': '-1365',\n",
       "    'audiChange': '-56.7',\n",
       "    'audiAcc': '11492',\n",
       "    'scrnCnt': '110',\n",
       "    'showCnt': '174'}]}}"
      ]
     },
     "execution_count": 104,
     "metadata": {},
     "output_type": "execute_result"
    }
   ],
   "source": [
    "result = response.json()\n",
    "result"
   ]
  },
  {
   "cell_type": "code",
   "execution_count": null,
   "id": "8f53cdc7-7c90-4b5f-8ef9-5fa96d1368f9",
   "metadata": {},
   "outputs": [],
   "source": [
    "# 자료구조 (Data Structure)\n",
    "# 자료들을 효율적으로 다루기 위한 방법\n",
    "# 1) 선형 : 배열, 연결 리스트, 스택, 큐 \n",
    "# 2) 비선형 : 트리, 그래프 "
   ]
  },
  {
   "cell_type": "code",
   "execution_count": null,
   "id": "e1b0509f-5cb7-41a7-a5d9-0545a7c1464e",
   "metadata": {},
   "outputs": [],
   "source": [
    "# Python에서 배열을 표현해보자!!\n",
    "# 첨자를 사용!! \n",
    "# 인덱스가 0 ~ 순차적\n",
    "# 크기 고정!!\n",
    "\n"
   ]
  },
  {
   "cell_type": "code",
   "execution_count": 119,
   "id": "b8e4e11d-2b59-4c78-abea-7609c8974b8e",
   "metadata": {},
   "outputs": [],
   "source": [
    "class Array:\n",
    "    def __init__(self, *args):\n",
    "        self.data = args\n",
    "\n",
    "    def get(self, index):\n",
    "        return self.data[index]\n",
    "\n",
    "    def __str__(self):\n",
    "        return str(self.data)"
   ]
  },
  {
   "cell_type": "code",
   "execution_count": 120,
   "id": "a93215d3-5ad4-4fb8-acf2-d5eb4a22524c",
   "metadata": {},
   "outputs": [
    {
     "name": "stdout",
     "output_type": "stream",
     "text": [
      "(1, 2, 3, 4)\n"
     ]
    }
   ],
   "source": [
    "arr1 = Array(1, 2, 3, 4)\n",
    "arr1.get(2) # 2번 인덱스에 있는 값 return\n",
    "print(arr1)"
   ]
  },
  {
   "cell_type": "code",
   "execution_count": 121,
   "id": "fb67a311-14b7-4049-b0c3-e9df91cb09f1",
   "metadata": {},
   "outputs": [],
   "source": [
    "class Node:\n",
    "    def __init__(self, data):\n",
    "        self.data = data\n",
    "        self.next = None"
   ]
  },
  {
   "cell_type": "code",
   "execution_count": 136,
   "id": "3e29867c-951e-4031-90ce-b9a856c725b0",
   "metadata": {},
   "outputs": [],
   "source": [
    "# 연결 리스트 (Linked List)\n",
    "class LinkedList:\n",
    "    def __init__(self):\n",
    "        self.head = None\n",
    "\n",
    "    def append(self, data):\n",
    "        if self.head == None:\n",
    "            self.head = Node(data)\n",
    "        else:\n",
    "            curr = self.head # 현재 우리가 가리키고 있는 노드\n",
    "            while curr.next:\n",
    "                curr = curr.next\n",
    "            curr.next = Node(data)\n",
    "    def __str__(self):\n",
    "        result = \"\"\n",
    "        curr = self.head\n",
    "\n",
    "        while True:\n",
    "            result += str(curr.data)\n",
    "\n",
    "            if curr.next == None:\n",
    "                break\n",
    "            curr = curr.next\n",
    "            \n",
    "            result += \" -> \"\n",
    "            \n",
    "        return result\n",
    "        # 1 -> 2 -> 10 -> 100"
   ]
  },
  {
   "cell_type": "code",
   "execution_count": 138,
   "id": "6e7c2da8-4528-478b-be0a-0b7863f5d23f",
   "metadata": {},
   "outputs": [
    {
     "name": "stdout",
     "output_type": "stream",
     "text": [
      "1 -> 2 -> 10 -> 100 -> 20000\n"
     ]
    }
   ],
   "source": [
    "list1 = LinkedList()\n",
    "list1.append(1)\n",
    "list1.append(2)\n",
    "list1.append(10)\n",
    "list1.append(100)\n",
    "list1.append(20000)\n",
    "print(list1)"
   ]
  },
  {
   "cell_type": "code",
   "execution_count": null,
   "id": "da9f5272-6cb8-499c-a460-48bbac6dc0b4",
   "metadata": {},
   "outputs": [],
   "source": [
    "# 스택!!\n",
    "# Node 활용!!\n",
    "# Last In First Out (LIFO)\n",
    "# push(10)\n",
    "# pop() -> 가장 위 노드를 제거, 노드 data를 반환!!\n",
    "# peek() -> 가장 위 노드 data 반환!!\n",
    "# is_empty() -> 만약, 스택이 비어있으면 True, 비어있지 않으면 False"
   ]
  },
  {
   "cell_type": "code",
   "execution_count": 142,
   "id": "9a7def94-7c6b-4bb1-8de6-2445ac035786",
   "metadata": {},
   "outputs": [],
   "source": [
    "class Node:\n",
    "    def __init__(self, data):\n",
    "        self.data = data\n",
    "        self.next = None\n",
    "\n",
    "class Stack:\n",
    "    def __init__(self):\n",
    "        self.top = None\n",
    "\n",
    "    def push(self, data):\n",
    "        if self.top == None:\n",
    "            self.top = Node(data)\n",
    "        else:\n",
    "            curr = Node(data)\n",
    "            curr.next = self.top\n",
    "            self.top = curr\n",
    "\n",
    "    def pop(self):\n",
    "        # 가장 윗 노드 제거, 해당 data 반환\n",
    "        if self.top == None:\n",
    "            return None\n",
    "        else:\n",
    "            curr = self.top\n",
    "            self.top = self.top.next\n",
    "            return curr.data\n",
    "    def peek(self):\n",
    "        # 가장 윗 노드의 data 반환\n",
    "        if self.top == None:\n",
    "            return None\n",
    "        else:\n",
    "            curr = self.top\n",
    "            return curr.data\n",
    "\n",
    "    def is_empty(self):\n",
    "        return self.top == None\n",
    "\n",
    "    def __str__(self):\n",
    "        result = \"\"\n",
    "\n",
    "        curr = self.top\n",
    "\n",
    "        while True:\n",
    "            result += str(curr.data)\n",
    "            if curr.next == None:\n",
    "                break\n",
    "            curr = curr.next\n",
    "            result += \" -> \"\n",
    "            \n",
    "        return result"
   ]
  },
  {
   "cell_type": "code",
   "execution_count": 156,
   "id": "82bd5fae-bc27-4a28-95fc-1a1f063f520d",
   "metadata": {},
   "outputs": [
    {
     "name": "stdout",
     "output_type": "stream",
     "text": [
      "False\n"
     ]
    }
   ],
   "source": [
    "class Node:\n",
    "    def __init__(self, data):\n",
    "        self.data = data\n",
    "        self.next = None\n",
    "\n",
    "class Stack:\n",
    "    def __init__(self):\n",
    "        self.top = None\n",
    "\n",
    "    def push(self, data):\n",
    "        if self.top == None:\n",
    "            self.top = Node(data)\n",
    "        else:\n",
    "            curr = Node(data)\n",
    "            curr.next = self.top\n",
    "            self.top = curr\n",
    "\n",
    "    def pop(self):\n",
    "        # 가장 윗 노드 제거, 해당 data 반환\n",
    "        if self.top == None:\n",
    "            return None\n",
    "        else:\n",
    "            curr = self.top\n",
    "            self.top = self.top.next\n",
    "            return curr.data\n",
    "    def peek(self):\n",
    "        # 가장 윗 노드의 data 반환\n",
    "        if self.top == None:\n",
    "            return None\n",
    "        else:\n",
    "            curr = self.top\n",
    "            return curr.data\n",
    "\n",
    "    def is_empty(self):\n",
    "        return self.top == None\n",
    "\n",
    "    def __str__(self):\n",
    "        result = \"\"\n",
    "\n",
    "        curr = self.top\n",
    "\n",
    "        while True:\n",
    "            result += str(curr.data)\n",
    "            if curr.next == None:\n",
    "                break\n",
    "            curr = curr.next\n",
    "            result += \" -> \"\n",
    "            \n",
    "        return result\n",
    "\n",
    "def is_valid(valid):\n",
    "    is_vps = True\n",
    "    \n",
    "    braket = Stack()\n",
    "    for ps in valid:\n",
    "        if ps == \"(\":\n",
    "            braket.push(ps)\n",
    "        else:\n",
    "            if braket.pop() == \"(\":\n",
    "                continue\n",
    "            else:\n",
    "                is_vps = False\n",
    "                break\n",
    "    if not braket.is_empty():\n",
    "        is_vps = False\n",
    "    print(\"YES\" if is_vps else \"NO\")\n",
    "\n",
    "T = int(input())\n",
    "for _ in range(T):\n",
    "    valid = input()\n",
    "    is_valid(valid)"
   ]
  },
  {
   "cell_type": "code",
   "execution_count": 143,
   "id": "4916ad2e-a98b-4f9b-82cb-177f2d4491ce",
   "metadata": {},
   "outputs": [
    {
     "name": "stdout",
     "output_type": "stream",
     "text": [
      "30\n",
      "20\n",
      "20 -> 10\n"
     ]
    }
   ],
   "source": [
    "s = Stack()\n",
    "s.push(10)\n",
    "s.push(20)\n",
    "s.push(30)\n",
    "print(s.pop()) # 30\n",
    "print(s.peek()) # 20\n",
    "print(s)"
   ]
  }
 ],
 "metadata": {
  "kernelspec": {
   "display_name": "Python 3 (ipykernel)",
   "language": "python",
   "name": "python3"
  },
  "language_info": {
   "codemirror_mode": {
    "name": "ipython",
    "version": 3
   },
   "file_extension": ".py",
   "mimetype": "text/x-python",
   "name": "python",
   "nbconvert_exporter": "python",
   "pygments_lexer": "ipython3",
   "version": "3.9.23"
  }
 },
 "nbformat": 4,
 "nbformat_minor": 5
}
