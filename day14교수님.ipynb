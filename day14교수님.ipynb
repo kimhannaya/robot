{
 "cells": [
  {
   "cell_type": "code",
   "execution_count": 1,
   "id": "5900a3e0-aeb7-4f5f-8009-3b1db3395fa2",
   "metadata": {},
   "outputs": [
    {
     "ename": "AttributeError",
     "evalue": "module 'cv2' has no attribute 'destroyAllWindow'",
     "output_type": "error",
     "traceback": [
      "\u001b[1;31m---------------------------------------------------------------------------\u001b[0m",
      "\u001b[1;31mAttributeError\u001b[0m                            Traceback (most recent call last)",
      "Cell \u001b[1;32mIn[1], line 10\u001b[0m\n\u001b[0;32m      6\u001b[0m cv2\u001b[38;5;241m.\u001b[39mimshow(\u001b[38;5;124m\"\u001b[39m\u001b[38;5;124mdog\u001b[39m\u001b[38;5;124m\"\u001b[39m, dog)\n\u001b[0;32m      8\u001b[0m time\u001b[38;5;241m.\u001b[39msleep(\u001b[38;5;241m5\u001b[39m)\n\u001b[1;32m---> 10\u001b[0m \u001b[43mcv2\u001b[49m\u001b[38;5;241;43m.\u001b[39;49m\u001b[43mdestroyAllWindow\u001b[49m()\n\u001b[0;32m     11\u001b[0m cv2\u001b[38;5;241m.\u001b[39mwaitKey(\u001b[38;5;241m1\u001b[39m)\n",
      "\u001b[1;31mAttributeError\u001b[0m: module 'cv2' has no attribute 'destroyAllWindow'"
     ]
    }
   ],
   "source": [
    "import cv2\n",
    "import torch\n",
    "import time\n",
    "\n",
    "dog = cv2.imread(\"imgs/dog.jpg\")\n",
    "cv2.imshow(\"dog\", dog)\n",
    "\n",
    "time.sleep(5)\n",
    "\n",
    "cv2.d\n",
    "cv2.waitKey(1)"
   ]
  },
  {
   "cell_type": "code",
   "execution_count": 1,
   "id": "db7c30ec-3961-487c-8904-d67666883dbd",
   "metadata": {},
   "outputs": [
    {
     "data": {
      "text/plain": [
       "'C:\\\\Users\\\\Intel Master\\\\Desktop\\\\workspace'"
      ]
     },
     "execution_count": 1,
     "metadata": {},
     "output_type": "execute_result"
    }
   ],
   "source": [
    "# ! <- 아나콘다 프롬프트\n",
    "# % 프롬프트에 적용하는 느낌\n",
    "%pwd # print working directory (현재 위치 출력)"
   ]
  },
  {
   "cell_type": "code",
   "execution_count": 2,
   "id": "d6c2cce6-450c-4af2-9c71-7798034ae3cc",
   "metadata": {},
   "outputs": [],
   "source": [
    "%mkdir rps"
   ]
  },
  {
   "cell_type": "code",
   "execution_count": 7,
   "id": "14132c97-aa56-40bf-b389-f571cc02727f",
   "metadata": {},
   "outputs": [
    {
     "name": "stdout",
     "output_type": "stream",
     "text": [
      "C:\\Users\\Intel Master\\Desktop\\workspace\\rps\n"
     ]
    },
    {
     "name": "stderr",
     "output_type": "stream",
     "text": [
      "C:\\ProgramData\\anaconda3\\envs\\robot\\Lib\\site-packages\\IPython\\core\\magics\\osm.py:417: UserWarning: using dhist requires you to install the `pickleshare` library.\n",
      "  self.shell.db['dhist'] = compress_dhist(dhist)[-100:]\n"
     ]
    }
   ],
   "source": [
    "%cd rps/"
   ]
  },
  {
   "cell_type": "code",
   "execution_count": 8,
   "id": "7129f2fc-a1db-432c-85d7-4242da3322ae",
   "metadata": {},
   "outputs": [
    {
     "data": {
      "text/plain": [
       "'C:\\\\Users\\\\Intel Master\\\\Desktop\\\\workspace\\\\rps'"
      ]
     },
     "execution_count": 8,
     "metadata": {},
     "output_type": "execute_result"
    }
   ],
   "source": [
    "%pwd"
   ]
  },
  {
   "cell_type": "code",
   "execution_count": null,
   "id": "bf334cb9-3384-4b63-92ff-b96ff8b9d195",
   "metadata": {},
   "outputs": [],
   "source": [
    "!curl -L \"https://public.roboflow.com/ds/DUX7K0OK4a?key=isH2tZz9f2\" > roboflow.zip; unzip roboflow.zip; rm roboflow.zip"
   ]
  },
  {
   "cell_type": "code",
   "execution_count": 6,
   "id": "77cfa73b-0208-4305-9470-9cad0513f2fc",
   "metadata": {},
   "outputs": [
    {
     "name": "stdout",
     "output_type": "stream",
     "text": [
      "C:\\Users\\Intel Master\\Desktop\\workspace\n"
     ]
    },
    {
     "name": "stderr",
     "output_type": "stream",
     "text": [
      "C:\\ProgramData\\anaconda3\\envs\\robot\\Lib\\site-packages\\IPython\\core\\magics\\osm.py:417: UserWarning: using dhist requires you to install the `pickleshare` library.\n",
      "  self.shell.db['dhist'] = compress_dhist(dhist)[-100:]\n"
     ]
    }
   ],
   "source": [
    "%cd .."
   ]
  },
  {
   "cell_type": "code",
   "execution_count": 8,
   "id": "84741247-978f-4c30-b48f-3b55bb462f8a",
   "metadata": {},
   "outputs": [
    {
     "name": "stderr",
     "output_type": "stream",
     "text": [
      "fatal: destination path 'yolov5' already exists and is not an empty directory.\n"
     ]
    }
   ],
   "source": [
    "# Yolov5 git clone\n",
    "!git clone https://github.com/ultralytics/yolov5.git"
   ]
  },
  {
   "cell_type": "code",
   "execution_count": 9,
   "id": "d3eb07c8-91d2-4fc5-8155-164313073c67",
   "metadata": {},
   "outputs": [
    {
     "name": "stdout",
     "output_type": "stream",
     "text": [
      "C:\\Users\\Intel Master\\Desktop\\workspace\\yolov5\n"
     ]
    },
    {
     "name": "stderr",
     "output_type": "stream",
     "text": [
      "C:\\ProgramData\\anaconda3\\envs\\robot\\Lib\\site-packages\\IPython\\core\\magics\\osm.py:417: UserWarning: using dhist requires you to install the `pickleshare` library.\n",
      "  self.shell.db['dhist'] = compress_dhist(dhist)[-100:]\n"
     ]
    }
   ],
   "source": [
    "%cd yolov5/"
   ]
  },
  {
   "cell_type": "code",
   "execution_count": null,
   "id": "90c9895d-818a-4dc7-8124-cc660542d0bc",
   "metadata": {},
   "outputs": [],
   "source": [
    "# yolov5 다 다운로드 받으셨으면\n",
    "# 관련 라이브러리 버전별 설치!!\n",
    "# !pip install - r requirements.txt"
   ]
  },
  {
   "cell_type": "code",
   "execution_count": 11,
   "id": "792380be-4454-404e-81fd-0a05fdcc4975",
   "metadata": {},
   "outputs": [
    {
     "name": "stderr",
     "output_type": "stream",
     "text": [
      "YOLOv5  2025-9-18 Python-3.12.11 torch-2.8.0+cpu CPU\n"
     ]
    },
    {
     "name": "stdout",
     "output_type": "stream",
     "text": [
      "Setup complete  (8 CPUs, 31.9 GB RAM, 156.9/222.7 GB disk)\n"
     ]
    },
    {
     "data": {
      "text/plain": [
       "<module 'IPython.display' from 'C:\\\\ProgramData\\\\anaconda3\\\\envs\\\\robot\\\\Lib\\\\site-packages\\\\IPython\\\\display.py'>"
      ]
     },
     "execution_count": 11,
     "metadata": {},
     "output_type": "execute_result"
    }
   ],
   "source": [
    "# 분류 학습\n",
    "# PyTorch 버전 확인 및 Yolov5 환경 초기화\n",
    "import torch\n",
    "import utils\n",
    "utils.notebook_init()"
   ]
  },
  {
   "cell_type": "code",
   "execution_count": 12,
   "id": "1662cdd5-0810-4426-8b4b-6e9b56b8a2cf",
   "metadata": {},
   "outputs": [
    {
     "data": {
      "text/plain": [
       "'C:\\\\Users\\\\Intel Master\\\\Desktop\\\\workspace\\\\yolov5'"
      ]
     },
     "execution_count": 12,
     "metadata": {},
     "output_type": "execute_result"
    }
   ],
   "source": [
    "%pwd # yolov5 폴더라면 다음 아래 진행"
   ]
  },
  {
   "cell_type": "code",
   "execution_count": null,
   "id": "11027d5a-80ba-450a-93f5-35b2c396ad46",
   "metadata": {},
   "outputs": [],
   "source": [
    "!pip install -r requirements.txt comet_ml"
   ]
  },
  {
   "cell_type": "code",
   "execution_count": null,
   "id": "be35728f-f153-4c14-a193-56edc87ef507",
   "metadata": {},
   "outputs": [],
   "source": [
    "!python classify/train.py --model yolov5s.pt --data ../rps --epochs 5 --img 224 --batch-size 64"
   ]
  },
  {
   "cell_type": "code",
   "execution_count": 18,
   "id": "67e48eae-f3f5-4b43-a865-70b2d1f89e52",
   "metadata": {},
   "outputs": [
    {
     "name": "stderr",
     "output_type": "stream",
     "text": [
      "C:\\ProgramData\\anaconda3\\envs\\robot\\Lib\\site-packages\\requests\\__init__.py:86: RequestsDependencyWarning: Unable to find acceptable character detection dependency (chardet or charset_normalizer).\n",
      "  warnings.warn(\n",
      "\u001b[34m\u001b[1mclassify\\predict: \u001b[0mweights=['../best_50.pt'], source=0, data=data\\coco128.yaml, imgsz=[224, 224], device=, view_img=False, save_txt=False, nosave=False, augment=False, visualize=False, update=False, project=runs\\predict-cls, name=exp, exist_ok=False, half=False, dnn=False, vid_stride=1\n",
      "git: 'Master\\Desktop\\workspace\\yolov5' is not a git command. See 'git --help'.\n",
      "YOLOv5  2025-9-18 Python-3.12.11 torch-2.8.0+cpu CPU\n",
      "\n",
      "Traceback (most recent call last):\n",
      "  File \"C:\\Users\\Intel Master\\Desktop\\workspace\\yolov5\\classify\\predict.py\", line 241, in <module>\n",
      "    main(opt)\n",
      "  File \"C:\\Users\\Intel Master\\Desktop\\workspace\\yolov5\\classify\\predict.py\", line 236, in main\n",
      "    run(**vars(opt))\n",
      "  File \"C:\\ProgramData\\anaconda3\\envs\\robot\\Lib\\site-packages\\torch\\utils\\_contextlib.py\", line 120, in decorate_context\n",
      "    return func(*args, **kwargs)\n",
      "           ^^^^^^^^^^^^^^^^^^^^^\n",
      "  File \"C:\\Users\\Intel Master\\Desktop\\workspace\\yolov5\\classify\\predict.py\", line 103, in run\n",
      "    model = DetectMultiBackend(weights, device=device, dnn=dnn, data=data, fp16=half)\n",
      "            ^^^^^^^^^^^^^^^^^^^^^^^^^^^^^^^^^^^^^^^^^^^^^^^^^^^^^^^^^^^^^^^^^^^^^^^^^\n",
      "  File \"C:\\Users\\Intel Master\\Desktop\\workspace\\yolov5\\models\\common.py\", line 489, in __init__\n",
      "    model = attempt_load(weights if isinstance(weights, list) else w, device=device, inplace=True, fuse=fuse)\n",
      "            ^^^^^^^^^^^^^^^^^^^^^^^^^^^^^^^^^^^^^^^^^^^^^^^^^^^^^^^^^^^^^^^^^^^^^^^^^^^^^^^^^^^^^^^^^^^^^^^^^\n",
      "  File \"C:\\Users\\Intel Master\\Desktop\\workspace\\yolov5\\models\\experimental.py\", line 99, in attempt_load\n",
      "    ckpt = torch_load(attempt_download(w), map_location=\"cpu\")  # load\n",
      "           ^^^^^^^^^^^^^^^^^^^^^^^^^^^^^^^^^^^^^^^^^^^^^^^^^^^\n",
      "  File \"C:\\ProgramData\\anaconda3\\envs\\robot\\Lib\\site-packages\\ultralytics\\utils\\patches.py\", line 120, in torch_load\n",
      "    return torch.load(*args, **kwargs)\n",
      "           ^^^^^^^^^^^^^^^^^^^^^^^^^^^\n",
      "  File \"C:\\ProgramData\\anaconda3\\envs\\robot\\Lib\\site-packages\\torch\\serialization.py\", line 1530, in load\n",
      "    return _load(\n",
      "           ^^^^^^\n",
      "  File \"C:\\ProgramData\\anaconda3\\envs\\robot\\Lib\\site-packages\\torch\\serialization.py\", line 2119, in _load\n",
      "    result = unpickler.load()\n",
      "             ^^^^^^^^^^^^^^^^\n",
      "  File \"C:\\ProgramData\\anaconda3\\envs\\robot\\Lib\\pathlib.py\", line 1422, in __new__\n",
      "    raise NotImplementedError(\n",
      "NotImplementedError: cannot instantiate 'PosixPath' on your system\n"
     ]
    }
   ],
   "source": [
    "!python classify/predict.py --weights ../best_50.pt --source 0"
   ]
  },
  {
   "cell_type": "code",
   "execution_count": 5,
   "id": "f8f42ee3-396e-444f-a447-8e7f3aac58d4",
   "metadata": {},
   "outputs": [
    {
     "data": {
      "text/plain": [
       "-1"
      ]
     },
     "execution_count": 5,
     "metadata": {},
     "output_type": "execute_result"
    }
   ],
   "source": [
    "# OpenCV 를 활용하여 best_50.pt를 적용해보자\n",
    "import torch\n",
    "import cv2\n",
    "import numpy as np\n",
    "\n",
    "import time\n",
    "nayeho = cv2.imread(\"imgs/nayeho.jpg\")\n",
    "cv2.imshow(\"face\", nayeho)\n",
    "\n",
    "time.sleep(5)\n",
    "\n",
    "cv2.destroyAllWindows()\n",
    "cv2.waitKey(1)"
   ]
  },
  {
   "cell_type": "code",
   "execution_count": null,
   "id": "07eca6d0-bd1e-440d-9456-9a2a5b5c16b2",
   "metadata": {},
   "outputs": [],
   "source": []
  },
  {
   "cell_type": "code",
   "execution_count": null,
   "id": "04099d1e-ed7e-4cc9-9658-030debe4ef6c",
   "metadata": {},
   "outputs": [],
   "source": []
  }
 ],
 "metadata": {
  "kernelspec": {
   "display_name": "Python 3 (ipykernel)",
   "language": "python",
   "name": "python3"
  },
  "language_info": {
   "codemirror_mode": {
    "name": "ipython",
    "version": 3
   },
   "file_extension": ".py",
   "mimetype": "text/x-python",
   "name": "python",
   "nbconvert_exporter": "python",
   "pygments_lexer": "ipython3",
   "version": "3.9.23"
  }
 },
 "nbformat": 4,
 "nbformat_minor": 5
}
