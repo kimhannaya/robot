{
 "cells": [
  {
   "cell_type": "code",
   "execution_count": null,
   "id": "b895274a-bb7a-4d1d-8b54-930af7d11357",
   "metadata": {},
   "outputs": [],
   "source": [
    "import torch\n",
    "import cv2\n",
    "import numpy as np"
   ]
  },
  {
   "cell_type": "code",
   "execution_count": null,
   "id": "41067c2f-bfef-402b-a90c-8e1c091f92fb",
   "metadata": {},
   "outputs": [],
   "source": [
    "dog = cv2.imread(\"imgs/dog.jpg\")\n",
    "if dog is not None:\n",
    "    cv2.imshow(\"exam1\", dog)\n",
    "    cv2.waitKey(0) # 사용자가 어떤 키든 입력하길 기다림\n",
    "    \n",
    "    cv2.destroyAllWindows()\n",
    "    cv2.waitKey(1)\n",
    "else:\n",
    "    print(\"이미지가 없습니다\")"
   ]
  },
  {
   "cell_type": "code",
   "execution_count": null,
   "id": "a3b49a3b-fd39-4a36-81d8-eeb8a7418785",
   "metadata": {},
   "outputs": [],
   "source": [
    "!pip install ultralytics\n",
    "!pip install pandas\n",
    "!pip install tqdm\n",
    "!pip install seaborn"
   ]
  },
  {
   "cell_type": "code",
   "execution_count": null,
   "id": "4bc9aa74-d075-4cd6-9358-525247147b06",
   "metadata": {},
   "outputs": [],
   "source": [
    "import torch\n",
    "import cv2\n",
    "import numpy as np\n",
    "model = torch.hub.load(\"ultralytics/yolov5\", \"yolov5s\")\n",
    "\n",
    "# torch 활용해서 yolov5 모델 로드하기\n",
    "\n",
    "\n",
    "# yolov5s : 가장 작고 빠른 모델\n",
    "# yolov5m : 중간 크기 모델\n",
    "# yolov5l : 큰 모델\n",
    "# yolov5x : 가장 크고 정확도가 높은 모델\n",
    "# x로 갈 수록 정확도 높아지지만 느려짐"
   ]
  },
  {
   "cell_type": "code",
   "execution_count": null,
   "id": "80e391b7-7ae4-4cc4-8331-ca186dd673f0",
   "metadata": {},
   "outputs": [],
   "source": [
    "import torch\n",
    "import cv2\n",
    "import numpy as np\n",
    "import yaml\n",
    "\n",
    "model = torch.hub.load(\"ultralytics/yolov5\", \"yolov5s\")\n",
    "\n",
    "with open(\"yolov5/data/coco.yaml\", \"r\", encoding=\"UTF-8\") as file:\n",
    "    data = yaml.full_load(file)\n",
    "\n",
    "# 이미지를 띄울 때 해당 객체를 바운딩 박스 그려보자\n",
    "# Yolov5 이용해서\n",
    "dog = cv2.imread(\"imgs/dog.jpg\")\n",
    "result = model(dog)\n",
    "detect = result.xyxyn[0].numpy()\n",
    "\n",
    "# 네모를 그리기 위해 가로가 얼마인지, 세로가 얼마인지\n",
    "x_shape = dog.shape[1] # 가로가 인덱스 1이다\n",
    "y_shape = dog.shape[0] # 세로가 인덱스 0이다\n",
    "\n",
    "for i in range(len(detect)):\n",
    "    # 감지된 객체 수 만큼 for문 동작\n",
    "    # (x1, y1) : 좌상단, (x2, y2) : 우하단\n",
    "    x1 = int(detect[i, 0] * x_shape)\n",
    "    y1 = int(detect[i, 1] * y_shape)\n",
    "    x2 = int(detect[i, 2] * x_shape)\n",
    "    y2 = int(detect[i, 3] * y_shape)\n",
    "\n",
    "    # rectangle(이미지, 좌상단, 우하단, 색상(BGR), 두께)\n",
    "    cv2.rectangle(dog, (x1, y1), (x2, y2), (0, 0, 255), 2)\n",
    "\n",
    "    class_name = data[\"names\"][detect[i][5]]\n",
    "    confidence = detect[i][4]\n",
    "    text = f\"{class_name} {confidence:.2f}\"\n",
    "\n",
    "    # putText(이미지, 입력할 문자열, 위치, 폰트, 폰트 크기, 색, 폰트 두께)\n",
    "    cv2.putText(dog, text, (x1, y1 + 30), cv2.FONT_HERSHEY_PLAIN, 2, (0, 0, 255), 2)\n",
    "\n",
    "cv2.imshow(\"dog\", dog)\n",
    "cv2.waitKey(0)\n",
    "\n",
    "cv2.destroyAllWindows()\n",
    "cv2.waitKey(1)    "
   ]
  },
  {
   "cell_type": "code",
   "execution_count": null,
   "id": "51dc51f5-e992-476a-b324-6e9c2c384742",
   "metadata": {},
   "outputs": [],
   "source": []
  },
  {
   "cell_type": "code",
   "execution_count": 26,
   "id": "12e22660-ce41-49da-bf27-aca9a1505767",
   "metadata": {},
   "outputs": [
    {
     "name": "stderr",
     "output_type": "stream",
     "text": [
      "C:\\Users\\Intel Master/.cache\\torch\\hub\\ultralytics_yolov5_master\\models\\common.py:906: FutureWarning: `torch.cuda.amp.autocast(args...)` is deprecated. Please use `torch.amp.autocast('cuda', args...)` instead.\n",
      "  with amp.autocast(autocast):\n"
     ]
    },
    {
     "data": {
      "text/plain": [
       "np.float32(16.0)"
      ]
     },
     "execution_count": 26,
     "metadata": {},
     "output_type": "execute_result"
    }
   ],
   "source": [
    "result = model(dog)\n",
    "detect = result.xyxyn[0].numpy() # (xmin, ymin, xmax, ymax, confidence, class)\n",
    "detect[0][5]"
   ]
  },
  {
   "cell_type": "code",
   "execution_count": 31,
   "id": "983b6ebd-4422-4cda-a44a-cc682cc1eec7",
   "metadata": {},
   "outputs": [
    {
     "name": "stdout",
     "output_type": "stream",
     "text": [
      "dog\n"
     ]
    }
   ],
   "source": [
    "import yaml\n",
    "\n",
    "with open(\"yolov5/data/coco.yaml\", \"r\", encoding=\"UTF-8\") as file:\n",
    "    data = yaml.full_load(file)\n",
    "    print(data[\"names\"][16])\n",
    "data[\"names\"][detect[0][5]]"
   ]
  },
  {
   "cell_type": "code",
   "execution_count": 50,
   "id": "a4be6f25-80e8-4866-93ad-599ae95f3ba4",
   "metadata": {},
   "outputs": [
    {
     "name": "stderr",
     "output_type": "stream",
     "text": [
      "C:\\Users\\Intel Master/.cache\\torch\\hub\\ultralytics_yolov5_master\\models\\common.py:906: FutureWarning: `torch.cuda.amp.autocast(args...)` is deprecated. Please use `torch.amp.autocast('cuda', args...)` instead.\n",
      "  with amp.autocast(autocast):\n"
     ]
    },
    {
     "data": {
      "text/plain": [
       "-1"
      ]
     },
     "execution_count": 50,
     "metadata": {},
     "output_type": "execute_result"
    }
   ],
   "source": [
    "# 이미지를 띄울 때 해당 객체를 바운딩 박스 그려보자\n",
    "# Yolov5 이용해서\n",
    "dog = cv2.imread(\"imgs/dog.jpg\")\n",
    "result = model(dog)\n",
    "detect = result.xyxyn[0].numpy()\n",
    "\n",
    "# 네모를 그리기 위해 가로가 얼마인지, 세로가 얼마인지\n",
    "x_shape = dog.shape[1] # 가로가 인덱스 1이다\n",
    "y_shape = dog.shape[0] # 세로가 인덱스 0이다\n",
    "\n",
    "for i in range(len(detect)):\n",
    "    # 감지된 객체 수 만큼 for문 동작\n",
    "    # (x1, y1) : 좌상단, (x2, y2) : 우하단\n",
    "    x1 = int(detect[i, 0] * x_shape)\n",
    "    y1 = int(detect[i, 1] * y_shape)\n",
    "    x2 = int(detect[i, 2] * x_shape)\n",
    "    y2 = int(detect[i, 3] * y_shape)\n",
    "\n",
    "    # rectangle(이미지, 좌상단, 우하단, 색상(BGR), 두께)\n",
    "    cv2.rectangle(dog, (x1, y1), (x2, y2), (0, 0, 255), 2)\n",
    "\n",
    "    class_name = data[\"names\"][detect[i][5]]\n",
    "    confidence = detect[i][4]\n",
    "    text = f\"{class_name} {confidence:.2f}\"\n",
    "\n",
    "    # putText(이미지, 입력할 문자열, 위치, 폰트, 폰트 크기, 색, 폰트 두께)\n",
    "    cv2.putText(dog, text, (x1, y1 + 30), cv2.FONT_HERSHEY_PLAIN, 2, (0, 0, 255), 2)\n",
    "\n",
    "cv2.imshow(\"dog\", dog)\n",
    "cv2.waitKey(0)\n",
    "\n",
    "cv2.destroyAllWindows()\n",
    "cv2.waitKey(1)    "
   ]
  },
  {
   "cell_type": "code",
   "execution_count": 38,
   "id": "542dd7e6-e99e-4bc8-a0e8-cb8d6d80b327",
   "metadata": {},
   "outputs": [
    {
     "data": {
      "text/plain": [
       "array([    0.22093,     0.17793,     0.68446,     0.97182,     0.89384,          16], dtype=float32)"
      ]
     },
     "execution_count": 38,
     "metadata": {},
     "output_type": "execute_result"
    }
   ],
   "source": [
    "detect[0]"
   ]
  },
  {
   "cell_type": "code",
   "execution_count": null,
   "id": "7c8bf024-ca4b-4d87-a774-748418a4d81f",
   "metadata": {},
   "outputs": [],
   "source": [
    "# 1장 1장 Dog, Cat 바운딩 박스 그렸는데\n",
    "# 드디어, 웹 캠과 연결하여 실시간 객체 인식\n",
    "# model yolov5s, weight 기본, 학습한 weight "
   ]
  },
  {
   "cell_type": "code",
   "execution_count": 11,
   "id": "105a5c24-3cd0-4e05-8d93-6f5afa55e375",
   "metadata": {},
   "outputs": [
    {
     "ename": "TypeError",
     "evalue": "ERROR  best_50_win.pt appears to be an Ultralytics YOLOv5 model originally trained with https://github.com/ultralytics/yolov5.\nThis model is NOT forwards compatible with YOLOv8 at https://github.com/ultralytics/ultralytics.\nRecommend fixes are to train a new model using the latest 'ultralytics' package or to run a command with an official Ultralytics model, i.e. 'yolo predict model=yolo11n.pt'",
     "output_type": "error",
     "traceback": [
      "\u001b[1;31m---------------------------------------------------------------------------\u001b[0m",
      "\u001b[1;31mModuleNotFoundError\u001b[0m                       Traceback (most recent call last)",
      "File \u001b[1;32mC:\\ProgramData\\anaconda3\\envs\\detect\\lib\\site-packages\\ultralytics\\nn\\tasks.py:1448\u001b[0m, in \u001b[0;36mtorch_safe_load\u001b[1;34m(weight, safe_only)\u001b[0m\n\u001b[0;32m   1447\u001b[0m         \u001b[38;5;28;01melse\u001b[39;00m:\n\u001b[1;32m-> 1448\u001b[0m             ckpt \u001b[38;5;241m=\u001b[39m \u001b[43mtorch_load\u001b[49m\u001b[43m(\u001b[49m\u001b[43mfile\u001b[49m\u001b[43m,\u001b[49m\u001b[43m \u001b[49m\u001b[43mmap_location\u001b[49m\u001b[38;5;241;43m=\u001b[39;49m\u001b[38;5;124;43m\"\u001b[39;49m\u001b[38;5;124;43mcpu\u001b[39;49m\u001b[38;5;124;43m\"\u001b[39;49m\u001b[43m)\u001b[49m\n\u001b[0;32m   1450\u001b[0m \u001b[38;5;28;01mexcept\u001b[39;00m \u001b[38;5;167;01mModuleNotFoundError\u001b[39;00m \u001b[38;5;28;01mas\u001b[39;00m e:  \u001b[38;5;66;03m# e.name is missing module name\u001b[39;00m\n",
      "File \u001b[1;32mC:\\ProgramData\\anaconda3\\envs\\detect\\lib\\site-packages\\ultralytics\\utils\\patches.py:120\u001b[0m, in \u001b[0;36mtorch_load\u001b[1;34m(*args, **kwargs)\u001b[0m\n\u001b[0;32m    118\u001b[0m     kwargs[\u001b[38;5;124m\"\u001b[39m\u001b[38;5;124mweights_only\u001b[39m\u001b[38;5;124m\"\u001b[39m] \u001b[38;5;241m=\u001b[39m \u001b[38;5;28;01mFalse\u001b[39;00m\n\u001b[1;32m--> 120\u001b[0m \u001b[38;5;28;01mreturn\u001b[39;00m torch\u001b[38;5;241m.\u001b[39mload(\u001b[38;5;241m*\u001b[39margs, \u001b[38;5;241m*\u001b[39m\u001b[38;5;241m*\u001b[39mkwargs)\n",
      "File \u001b[1;32mC:\\ProgramData\\anaconda3\\envs\\detect\\lib\\site-packages\\torch\\serialization.py:1530\u001b[0m, in \u001b[0;36mload\u001b[1;34m(f, map_location, pickle_module, weights_only, mmap, **pickle_load_args)\u001b[0m\n\u001b[0;32m   1529\u001b[0m                 \u001b[38;5;28;01mraise\u001b[39;00m pickle\u001b[38;5;241m.\u001b[39mUnpicklingError(_get_wo_message(\u001b[38;5;28mstr\u001b[39m(e))) \u001b[38;5;28;01mfrom\u001b[39;00m\u001b[38;5;250m \u001b[39m\u001b[38;5;28;01mNone\u001b[39;00m\n\u001b[1;32m-> 1530\u001b[0m         \u001b[38;5;28;01mreturn\u001b[39;00m _load(\n\u001b[0;32m   1531\u001b[0m             opened_zipfile,\n\u001b[0;32m   1532\u001b[0m             map_location,\n\u001b[0;32m   1533\u001b[0m             pickle_module,\n\u001b[0;32m   1534\u001b[0m             overall_storage\u001b[38;5;241m=\u001b[39moverall_storage,\n\u001b[0;32m   1535\u001b[0m             \u001b[38;5;241m*\u001b[39m\u001b[38;5;241m*\u001b[39mpickle_load_args,\n\u001b[0;32m   1536\u001b[0m         )\n\u001b[0;32m   1537\u001b[0m \u001b[38;5;28;01mif\u001b[39;00m mmap:\n",
      "File \u001b[1;32mC:\\ProgramData\\anaconda3\\envs\\detect\\lib\\site-packages\\torch\\serialization.py:2119\u001b[0m, in \u001b[0;36m_load\u001b[1;34m(zip_file, map_location, pickle_module, pickle_file, overall_storage, **pickle_load_args)\u001b[0m\n\u001b[0;32m   2118\u001b[0m _serialization_tls\u001b[38;5;241m.\u001b[39mmap_location \u001b[38;5;241m=\u001b[39m map_location\n\u001b[1;32m-> 2119\u001b[0m result \u001b[38;5;241m=\u001b[39m \u001b[43munpickler\u001b[49m\u001b[38;5;241;43m.\u001b[39;49m\u001b[43mload\u001b[49m\u001b[43m(\u001b[49m\u001b[43m)\u001b[49m\n\u001b[0;32m   2120\u001b[0m _serialization_tls\u001b[38;5;241m.\u001b[39mmap_location \u001b[38;5;241m=\u001b[39m \u001b[38;5;28;01mNone\u001b[39;00m\n",
      "File \u001b[1;32mC:\\ProgramData\\anaconda3\\envs\\detect\\lib\\site-packages\\torch\\serialization.py:2108\u001b[0m, in \u001b[0;36m_load.<locals>.UnpicklerWrapper.find_class\u001b[1;34m(self, mod_name, name)\u001b[0m\n\u001b[0;32m   2107\u001b[0m mod_name \u001b[38;5;241m=\u001b[39m load_module_mapping\u001b[38;5;241m.\u001b[39mget(mod_name, mod_name)\n\u001b[1;32m-> 2108\u001b[0m \u001b[38;5;28;01mreturn\u001b[39;00m \u001b[38;5;28;43msuper\u001b[39;49m\u001b[43m(\u001b[49m\u001b[43m)\u001b[49m\u001b[38;5;241;43m.\u001b[39;49m\u001b[43mfind_class\u001b[49m\u001b[43m(\u001b[49m\u001b[43mmod_name\u001b[49m\u001b[43m,\u001b[49m\u001b[43m \u001b[49m\u001b[43mname\u001b[49m\u001b[43m)\u001b[49m\n",
      "\u001b[1;31mModuleNotFoundError\u001b[0m: No module named 'models'",
      "\nThe above exception was the direct cause of the following exception:\n",
      "\u001b[1;31mTypeError\u001b[0m                                 Traceback (most recent call last)",
      "Cell \u001b[1;32mIn[11], line 7\u001b[0m\n\u001b[0;32m      4\u001b[0m \u001b[38;5;28;01mimport\u001b[39;00m\u001b[38;5;250m \u001b[39m\u001b[38;5;21;01mtorch\u001b[39;00m\n\u001b[0;32m      6\u001b[0m \u001b[38;5;66;03m# 내 pt가 있으면 그거 쓰면 됨!!\u001b[39;00m\n\u001b[1;32m----> 7\u001b[0m model \u001b[38;5;241m=\u001b[39m \u001b[43mYOLO\u001b[49m\u001b[43m(\u001b[49m\u001b[38;5;124;43m\"\u001b[39;49m\u001b[38;5;124;43mbest_50_win.pt\u001b[39;49m\u001b[38;5;124;43m\"\u001b[39;49m\u001b[43m)\u001b[49m\n\u001b[0;32m      8\u001b[0m class_name_list \u001b[38;5;241m=\u001b[39m [\u001b[38;5;124m\"\u001b[39m\u001b[38;5;124mrock\u001b[39m\u001b[38;5;124m\"\u001b[39m, \u001b[38;5;124m\"\u001b[39m\u001b[38;5;124mpaper\u001b[39m\u001b[38;5;124m\"\u001b[39m, \u001b[38;5;124m\"\u001b[39m\u001b[38;5;124mscissors\u001b[39m\u001b[38;5;124m\"\u001b[39m]\n\u001b[0;32m      9\u001b[0m \u001b[38;5;66;03m# 웹 캠 열자\u001b[39;00m\n",
      "File \u001b[1;32mC:\\ProgramData\\anaconda3\\envs\\detect\\lib\\site-packages\\ultralytics\\models\\yolo\\model.py:83\u001b[0m, in \u001b[0;36mYOLO.__init__\u001b[1;34m(self, model, task, verbose)\u001b[0m\n\u001b[0;32m     80\u001b[0m     \u001b[38;5;28mself\u001b[39m\u001b[38;5;241m.\u001b[39m\u001b[38;5;18m__dict__\u001b[39m \u001b[38;5;241m=\u001b[39m new_instance\u001b[38;5;241m.\u001b[39m\u001b[38;5;18m__dict__\u001b[39m\n\u001b[0;32m     81\u001b[0m \u001b[38;5;28;01melse\u001b[39;00m:\n\u001b[0;32m     82\u001b[0m     \u001b[38;5;66;03m# Continue with default YOLO initialization\u001b[39;00m\n\u001b[1;32m---> 83\u001b[0m     \u001b[38;5;28;43msuper\u001b[39;49m\u001b[43m(\u001b[49m\u001b[43m)\u001b[49m\u001b[38;5;241;43m.\u001b[39;49m\u001b[38;5;21;43m__init__\u001b[39;49m\u001b[43m(\u001b[49m\u001b[43mmodel\u001b[49m\u001b[38;5;241;43m=\u001b[39;49m\u001b[43mmodel\u001b[49m\u001b[43m,\u001b[49m\u001b[43m \u001b[49m\u001b[43mtask\u001b[49m\u001b[38;5;241;43m=\u001b[39;49m\u001b[43mtask\u001b[49m\u001b[43m,\u001b[49m\u001b[43m \u001b[49m\u001b[43mverbose\u001b[49m\u001b[38;5;241;43m=\u001b[39;49m\u001b[43mverbose\u001b[49m\u001b[43m)\u001b[49m\n\u001b[0;32m     84\u001b[0m     \u001b[38;5;28;01mif\u001b[39;00m \u001b[38;5;28mhasattr\u001b[39m(\u001b[38;5;28mself\u001b[39m\u001b[38;5;241m.\u001b[39mmodel, \u001b[38;5;124m\"\u001b[39m\u001b[38;5;124mmodel\u001b[39m\u001b[38;5;124m\"\u001b[39m) \u001b[38;5;129;01mand\u001b[39;00m \u001b[38;5;124m\"\u001b[39m\u001b[38;5;124mRTDETR\u001b[39m\u001b[38;5;124m\"\u001b[39m \u001b[38;5;129;01min\u001b[39;00m \u001b[38;5;28mself\u001b[39m\u001b[38;5;241m.\u001b[39mmodel\u001b[38;5;241m.\u001b[39mmodel[\u001b[38;5;241m-\u001b[39m\u001b[38;5;241m1\u001b[39m]\u001b[38;5;241m.\u001b[39m_get_name():  \u001b[38;5;66;03m# if RTDETR head\u001b[39;00m\n\u001b[0;32m     85\u001b[0m         \u001b[38;5;28;01mfrom\u001b[39;00m\u001b[38;5;250m \u001b[39m\u001b[38;5;21;01multralytics\u001b[39;00m\u001b[38;5;250m \u001b[39m\u001b[38;5;28;01mimport\u001b[39;00m RTDETR\n",
      "File \u001b[1;32mC:\\ProgramData\\anaconda3\\envs\\detect\\lib\\site-packages\\ultralytics\\engine\\model.py:153\u001b[0m, in \u001b[0;36mModel.__init__\u001b[1;34m(self, model, task, verbose)\u001b[0m\n\u001b[0;32m    151\u001b[0m     \u001b[38;5;28mself\u001b[39m\u001b[38;5;241m.\u001b[39m_new(model, task\u001b[38;5;241m=\u001b[39mtask, verbose\u001b[38;5;241m=\u001b[39mverbose)\n\u001b[0;32m    152\u001b[0m \u001b[38;5;28;01melse\u001b[39;00m:\n\u001b[1;32m--> 153\u001b[0m     \u001b[38;5;28;43mself\u001b[39;49m\u001b[38;5;241;43m.\u001b[39;49m\u001b[43m_load\u001b[49m\u001b[43m(\u001b[49m\u001b[43mmodel\u001b[49m\u001b[43m,\u001b[49m\u001b[43m \u001b[49m\u001b[43mtask\u001b[49m\u001b[38;5;241;43m=\u001b[39;49m\u001b[43mtask\u001b[49m\u001b[43m)\u001b[49m\n\u001b[0;32m    155\u001b[0m \u001b[38;5;66;03m# Delete super().training for accessing self.model.training\u001b[39;00m\n\u001b[0;32m    156\u001b[0m \u001b[38;5;28;01mdel\u001b[39;00m \u001b[38;5;28mself\u001b[39m\u001b[38;5;241m.\u001b[39mtraining\n",
      "File \u001b[1;32mC:\\ProgramData\\anaconda3\\envs\\detect\\lib\\site-packages\\ultralytics\\engine\\model.py:297\u001b[0m, in \u001b[0;36mModel._load\u001b[1;34m(self, weights, task)\u001b[0m\n\u001b[0;32m    294\u001b[0m weights \u001b[38;5;241m=\u001b[39m checks\u001b[38;5;241m.\u001b[39mcheck_model_file_from_stem(weights)  \u001b[38;5;66;03m# add suffix, i.e. yolo11n -> yolo11n.pt\u001b[39;00m\n\u001b[0;32m    296\u001b[0m \u001b[38;5;28;01mif\u001b[39;00m \u001b[38;5;28mstr\u001b[39m(weights)\u001b[38;5;241m.\u001b[39mrpartition(\u001b[38;5;124m\"\u001b[39m\u001b[38;5;124m.\u001b[39m\u001b[38;5;124m\"\u001b[39m)[\u001b[38;5;241m-\u001b[39m\u001b[38;5;241m1\u001b[39m] \u001b[38;5;241m==\u001b[39m \u001b[38;5;124m\"\u001b[39m\u001b[38;5;124mpt\u001b[39m\u001b[38;5;124m\"\u001b[39m:\n\u001b[1;32m--> 297\u001b[0m     \u001b[38;5;28mself\u001b[39m\u001b[38;5;241m.\u001b[39mmodel, \u001b[38;5;28mself\u001b[39m\u001b[38;5;241m.\u001b[39mckpt \u001b[38;5;241m=\u001b[39m \u001b[43mload_checkpoint\u001b[49m\u001b[43m(\u001b[49m\u001b[43mweights\u001b[49m\u001b[43m)\u001b[49m\n\u001b[0;32m    298\u001b[0m     \u001b[38;5;28mself\u001b[39m\u001b[38;5;241m.\u001b[39mtask \u001b[38;5;241m=\u001b[39m \u001b[38;5;28mself\u001b[39m\u001b[38;5;241m.\u001b[39mmodel\u001b[38;5;241m.\u001b[39mtask\n\u001b[0;32m    299\u001b[0m     \u001b[38;5;28mself\u001b[39m\u001b[38;5;241m.\u001b[39moverrides \u001b[38;5;241m=\u001b[39m \u001b[38;5;28mself\u001b[39m\u001b[38;5;241m.\u001b[39mmodel\u001b[38;5;241m.\u001b[39margs \u001b[38;5;241m=\u001b[39m \u001b[38;5;28mself\u001b[39m\u001b[38;5;241m.\u001b[39m_reset_ckpt_args(\u001b[38;5;28mself\u001b[39m\u001b[38;5;241m.\u001b[39mmodel\u001b[38;5;241m.\u001b[39margs)\n",
      "File \u001b[1;32mC:\\ProgramData\\anaconda3\\envs\\detect\\lib\\site-packages\\ultralytics\\nn\\tasks.py:1501\u001b[0m, in \u001b[0;36mload_checkpoint\u001b[1;34m(weight, device, inplace, fuse)\u001b[0m\n\u001b[0;32m   1487\u001b[0m \u001b[38;5;28;01mdef\u001b[39;00m\u001b[38;5;250m \u001b[39m\u001b[38;5;21mload_checkpoint\u001b[39m(weight, device\u001b[38;5;241m=\u001b[39m\u001b[38;5;28;01mNone\u001b[39;00m, inplace\u001b[38;5;241m=\u001b[39m\u001b[38;5;28;01mTrue\u001b[39;00m, fuse\u001b[38;5;241m=\u001b[39m\u001b[38;5;28;01mFalse\u001b[39;00m):\n\u001b[0;32m   1488\u001b[0m \u001b[38;5;250m    \u001b[39m\u001b[38;5;124;03m\"\"\"\u001b[39;00m\n\u001b[0;32m   1489\u001b[0m \u001b[38;5;124;03m    Load a single model weights.\u001b[39;00m\n\u001b[0;32m   1490\u001b[0m \n\u001b[1;32m   (...)\u001b[0m\n\u001b[0;32m   1499\u001b[0m \u001b[38;5;124;03m        ckpt (dict): Model checkpoint dictionary.\u001b[39;00m\n\u001b[0;32m   1500\u001b[0m \u001b[38;5;124;03m    \"\"\"\u001b[39;00m\n\u001b[1;32m-> 1501\u001b[0m     ckpt, weight \u001b[38;5;241m=\u001b[39m \u001b[43mtorch_safe_load\u001b[49m\u001b[43m(\u001b[49m\u001b[43mweight\u001b[49m\u001b[43m)\u001b[49m  \u001b[38;5;66;03m# load ckpt\u001b[39;00m\n\u001b[0;32m   1502\u001b[0m     args \u001b[38;5;241m=\u001b[39m {\u001b[38;5;241m*\u001b[39m\u001b[38;5;241m*\u001b[39mDEFAULT_CFG_DICT, \u001b[38;5;241m*\u001b[39m\u001b[38;5;241m*\u001b[39m(ckpt\u001b[38;5;241m.\u001b[39mget(\u001b[38;5;124m\"\u001b[39m\u001b[38;5;124mtrain_args\u001b[39m\u001b[38;5;124m\"\u001b[39m, {}))}  \u001b[38;5;66;03m# combine model and default args, preferring model args\u001b[39;00m\n\u001b[0;32m   1503\u001b[0m     model \u001b[38;5;241m=\u001b[39m (ckpt\u001b[38;5;241m.\u001b[39mget(\u001b[38;5;124m\"\u001b[39m\u001b[38;5;124mema\u001b[39m\u001b[38;5;124m\"\u001b[39m) \u001b[38;5;129;01mor\u001b[39;00m ckpt[\u001b[38;5;124m\"\u001b[39m\u001b[38;5;124mmodel\u001b[39m\u001b[38;5;124m\"\u001b[39m])\u001b[38;5;241m.\u001b[39mfloat()  \u001b[38;5;66;03m# FP32 model\u001b[39;00m\n",
      "File \u001b[1;32mC:\\ProgramData\\anaconda3\\envs\\detect\\lib\\site-packages\\ultralytics\\nn\\tasks.py:1452\u001b[0m, in \u001b[0;36mtorch_safe_load\u001b[1;34m(weight, safe_only)\u001b[0m\n\u001b[0;32m   1450\u001b[0m \u001b[38;5;28;01mexcept\u001b[39;00m \u001b[38;5;167;01mModuleNotFoundError\u001b[39;00m \u001b[38;5;28;01mas\u001b[39;00m e:  \u001b[38;5;66;03m# e.name is missing module name\u001b[39;00m\n\u001b[0;32m   1451\u001b[0m     \u001b[38;5;28;01mif\u001b[39;00m e\u001b[38;5;241m.\u001b[39mname \u001b[38;5;241m==\u001b[39m \u001b[38;5;124m\"\u001b[39m\u001b[38;5;124mmodels\u001b[39m\u001b[38;5;124m\"\u001b[39m:\n\u001b[1;32m-> 1452\u001b[0m         \u001b[38;5;28;01mraise\u001b[39;00m \u001b[38;5;167;01mTypeError\u001b[39;00m(\n\u001b[0;32m   1453\u001b[0m             emojis(\n\u001b[0;32m   1454\u001b[0m                 \u001b[38;5;124mf\u001b[39m\u001b[38;5;124m\"\u001b[39m\u001b[38;5;124mERROR ❌️ \u001b[39m\u001b[38;5;132;01m{\u001b[39;00mweight\u001b[38;5;132;01m}\u001b[39;00m\u001b[38;5;124m appears to be an Ultralytics YOLOv5 model originally trained \u001b[39m\u001b[38;5;124m\"\u001b[39m\n\u001b[0;32m   1455\u001b[0m                 \u001b[38;5;124mf\u001b[39m\u001b[38;5;124m\"\u001b[39m\u001b[38;5;124mwith https://github.com/ultralytics/yolov5.\u001b[39m\u001b[38;5;130;01m\\n\u001b[39;00m\u001b[38;5;124mThis model is NOT forwards compatible with \u001b[39m\u001b[38;5;124m\"\u001b[39m\n\u001b[0;32m   1456\u001b[0m                 \u001b[38;5;124mf\u001b[39m\u001b[38;5;124m\"\u001b[39m\u001b[38;5;124mYOLOv8 at https://github.com/ultralytics/ultralytics.\u001b[39m\u001b[38;5;124m\"\u001b[39m\n\u001b[0;32m   1457\u001b[0m                 \u001b[38;5;124mf\u001b[39m\u001b[38;5;124m\"\u001b[39m\u001b[38;5;130;01m\\n\u001b[39;00m\u001b[38;5;124mRecommend fixes are to train a new model using the latest \u001b[39m\u001b[38;5;124m'\u001b[39m\u001b[38;5;124multralytics\u001b[39m\u001b[38;5;124m'\u001b[39m\u001b[38;5;124m package or to \u001b[39m\u001b[38;5;124m\"\u001b[39m\n\u001b[0;32m   1458\u001b[0m                 \u001b[38;5;124mf\u001b[39m\u001b[38;5;124m\"\u001b[39m\u001b[38;5;124mrun a command with an official Ultralytics model, i.e. \u001b[39m\u001b[38;5;124m'\u001b[39m\u001b[38;5;124myolo predict model=yolo11n.pt\u001b[39m\u001b[38;5;124m'\u001b[39m\u001b[38;5;124m\"\u001b[39m\n\u001b[0;32m   1459\u001b[0m             )\n\u001b[0;32m   1460\u001b[0m         ) \u001b[38;5;28;01mfrom\u001b[39;00m\u001b[38;5;250m \u001b[39m\u001b[38;5;21;01me\u001b[39;00m\n\u001b[0;32m   1461\u001b[0m     \u001b[38;5;28;01melif\u001b[39;00m e\u001b[38;5;241m.\u001b[39mname \u001b[38;5;241m==\u001b[39m \u001b[38;5;124m\"\u001b[39m\u001b[38;5;124mnumpy._core\u001b[39m\u001b[38;5;124m\"\u001b[39m:\n\u001b[0;32m   1462\u001b[0m         \u001b[38;5;28;01mraise\u001b[39;00m \u001b[38;5;167;01mModuleNotFoundError\u001b[39;00m(\n\u001b[0;32m   1463\u001b[0m             emojis(\n\u001b[0;32m   1464\u001b[0m                 \u001b[38;5;124mf\u001b[39m\u001b[38;5;124m\"\u001b[39m\u001b[38;5;124mERROR ❌️ \u001b[39m\u001b[38;5;132;01m{\u001b[39;00mweight\u001b[38;5;132;01m}\u001b[39;00m\u001b[38;5;124m requires numpy>=1.26.1, however numpy==\u001b[39m\u001b[38;5;132;01m{\u001b[39;00m\u001b[38;5;28m__import__\u001b[39m(\u001b[38;5;124m'\u001b[39m\u001b[38;5;124mnumpy\u001b[39m\u001b[38;5;124m'\u001b[39m)\u001b[38;5;241m.\u001b[39m__version__\u001b[38;5;132;01m}\u001b[39;00m\u001b[38;5;124m is installed.\u001b[39m\u001b[38;5;124m\"\u001b[39m\n\u001b[0;32m   1465\u001b[0m             )\n\u001b[0;32m   1466\u001b[0m         ) \u001b[38;5;28;01mfrom\u001b[39;00m\u001b[38;5;250m \u001b[39m\u001b[38;5;21;01me\u001b[39;00m\n",
      "\u001b[1;31mTypeError\u001b[0m: ERROR  best_50_win.pt appears to be an Ultralytics YOLOv5 model originally trained with https://github.com/ultralytics/yolov5.\nThis model is NOT forwards compatible with YOLOv8 at https://github.com/ultralytics/ultralytics.\nRecommend fixes are to train a new model using the latest 'ultralytics' package or to run a command with an official Ultralytics model, i.e. 'yolo predict model=yolo11n.pt'"
     ]
    }
   ],
   "source": [
    "import cv2\n",
    "from ultralytics import YOLO\n",
    "import yaml\n",
    "import torch\n",
    "\n",
    "# 내 pt가 있으면 그거 쓰면 됨!!\n",
    "model = YOLO(\"best_50_win.pt\")\n",
    "class_name_list = [\"rock\", \"paper\", \"scissors\"]\n",
    "# 웹 캠 열자\n",
    "cap = cv2.VideoCapture(0) # source는 먼저 연결된 카메라부터 0, 1, 2, ...\n",
    "\n",
    "if not cap.isOpened():\n",
    "    print(\"웹 캠을 열 수 없습니다\")\n",
    "else:\n",
    "    while True: # 이미지 연속으로 계속 로드!!\n",
    "        ret, frame = cap.read()\n",
    "        if not ret:\n",
    "            print(\"프레임을 읽을 수 없습니다\")\n",
    "            break\n",
    "\n",
    "        # 현재 프레임에 대해 model을 통해 객체 인식\n",
    "        results = model(frame) # 객체가 여러 개 감지 될 수 있음\n",
    "\n",
    "        # 감지된 결과를 하나씩 처리해보자\n",
    "        x_shape = frame.shape[1]\n",
    "        y_shape = frame.shape[0]\n",
    "        \n",
    "        for result in results:\n",
    "            # 코드 수정\n",
    "            # xyxyn[0] 대신 boxes 필드를 사용하여 정보 조금 더 쉽게 얻기\n",
    "            boxes = result.boxes # 해당 필드에는 x1, y1, x2, y2, conf, cls\n",
    "            for box in boxes:\n",
    "                x1, y1, x2, y2 = map(int, box.xyxy[0])\n",
    "                class_name = class_name_list[int(box.cls[0])]\n",
    "\n",
    "                cv2.rectangle(frame, (x1, y1), (x2, y2), (0, 0, 255), 2)\n",
    "                cv2.putText(frame, class_name, (x1, y1 + 30), cv2.FONT_HERSHEY_PLAIN,\n",
    "                                2, (0, 0, 255), 2)\n",
    "                \n",
    "        cv2.imshow(\"frame\", frame)\n",
    "        # 1ms 기다리는 와중에 사용자가 q를 누르면 break\n",
    "        if cv2.waitKey(1) & 0xFF == ord(\"q\"):\n",
    "            break\n",
    "cap.release() # 카메라 점유 해제\n",
    "cv2.destroyAllWindows()\n",
    "cv2.waitKey(1)"
   ]
  },
  {
   "cell_type": "code",
   "execution_count": null,
   "id": "9fa03ce7-793f-4b87-b2da-1cdcc9730e91",
   "metadata": {},
   "outputs": [],
   "source": []
  },
  {
   "cell_type": "code",
   "execution_count": null,
   "id": "ed75787f-a7b7-4c97-91da-9796ae67dfa0",
   "metadata": {},
   "outputs": [],
   "source": [
    "import cv2\n",
    "from ultralytics import YOLO\n",
    "import yaml\n",
    "import torch\n",
    "\n",
    "# 내 pt가 있으면 그거 쓰면 됨!!\n",
    "model = YOLO(\"yolov5s.pt\")\n",
    "# 웹 캠 열자\n",
    "cap = cv2.VideoCapture(0) # source는 먼저 연결된 카메라부터 0, 1, 2, ...\n",
    "\n",
    "if not cap.isOpened():\n",
    "    print(\"웹 캠을 열 수 없습니다\")\n",
    "else:\n",
    "    while True: # 이미지 연속으로 계속 로드!!\n",
    "        ret, frame = cap.read()\n",
    "        if not ret:\n",
    "            print(\"프레임을 읽을 수 없습니다\")\n",
    "            break\n",
    "\n",
    "        # 현재 프레임에 대해 model을 통해 객체 인식\n",
    "        results = model(frame) # 객체가 여러 개 감지 될 수 있음\n",
    "\n",
    "        # 감지된 결과를 하나씩 처리해보자\n",
    "        x_shape = frame.shape[1]\n",
    "        y_shape = frame.shape[0]\n",
    "        \n",
    "        for result in results:\n",
    "            # 코드 수정\n",
    "            # xyxyn[0] 대신 boxes 필드를 사용하여 정보 조금 더 쉽게 얻기\n",
    "            boxes = result.boxes # 해당 필드에는 x1, y1, x2, y2, conf, cls\n",
    "            for box in boxes:\n",
    "                x1, y1, x2, y2 = map(int, box.xyxy[0])\n",
    "                class_name = model.names[int(box.cls[0])]\n",
    "\n",
    "                cv2.rectangle(frame, (x1, y1), (x2, y2), (0, 0, 255), 2)\n",
    "                cv2.putText(frame, class_name, (x1, y1 + 30), cv2.FONT_HERSHEY_PLAIN,\n",
    "                                2, (0, 0, 255), 2)\n",
    "                \n",
    "            cv2.imshow(\"frame\", frame)\n",
    "            # 1ms 기다리는 와중에 사용자가 q를 누르면 break\n",
    "            if cv2.waitKey(1) & 0xFF == ord(\"q\"):\n",
    "                break\n",
    "cap.release() # 카메라 점유 해제\n",
    "cv2.destroyAllWindows()\n",
    "cv2.waitKey(1)"
   ]
  },
  {
   "cell_type": "code",
   "execution_count": null,
   "id": "27fce8fc-9fa6-4e0f-9ac4-b987e1e65d9b",
   "metadata": {},
   "outputs": [],
   "source": [
    "# 이미지를 띄울 때 해당 객체를 바운딩 박스 그려보자\n",
    "# Yolov5 이용해서\n",
    "model = YOLO(\"yolov5/runs/train-cls/exp/weights/best_5.pt\")\n",
    "hand = cv2.imread(\"rps/test/paper/paper-hires1_png.rf.bf14bb5fd86e4d28a00897e40459f192.jpg\")\n",
    "result = model(hand)\n",
    "detect = result.xyxyn[0].numpy()\n",
    "class_list = [\"rock\", \"paper\", \"scissor\"]\n",
    "\n",
    "# 네모를 그리기 위해 가로가 얼마인지, 세로가 얼마인지\n",
    "x_shape = dog.shape[1] # 가로가 인덱스 1이다\n",
    "y_shape = dog.shape[0] # 세로가 인덱스 0이다\n",
    "\n",
    "for i in range(len(detect)):\n",
    "    # 감지된 객체 수 만큼 for문 동작\n",
    "    # (x1, y1) : 좌상단, (x2, y2) : 우하단\n",
    "    x1 = int(detect[i, 0] * x_shape)\n",
    "    y1 = int(detect[i, 1] * y_shape)\n",
    "    x2 = int(detect[i, 2] * x_shape)\n",
    "    y2 = int(detect[i, 3] * y_shape)\n",
    "\n",
    "    # rectangle(이미지, 좌상단, 우하단, 색상(BGR), 두께)\n",
    "    cv2.rectangle(dog, (x1, y1), (x2, y2), (0, 0, 255), 2)\n",
    "\n",
    "    class_name = class_list[detect[i][5]]\n",
    "    confidence = detect[i][4]\n",
    "    text = f\"{class_name} {confidence:.2f}\"\n",
    "\n",
    "    # putText(이미지, 입력할 문자열, 위치, 폰트, 폰트 크기, 색, 폰트 두께)\n",
    "    cv2.putText(dog, text, (x1, y1 + 30), cv2.FONT_HERSHEY_PLAIN, 2, (0, 0, 255), 2)\n",
    "\n",
    "cv2.imshow(\"dog\", dog)\n",
    "cv2.waitKey(0)\n",
    "\n",
    "cv2.destroyAllWindows()\n",
    "cv2.waitKey(1)    "
   ]
  },
  {
   "cell_type": "code",
   "execution_count": null,
   "id": "0a163380-93e1-490e-8594-4c3cf4eaf255",
   "metadata": {},
   "outputs": [],
   "source": []
  },
  {
   "cell_type": "code",
   "execution_count": null,
   "id": "9fdd13c8-2901-4a0a-a65a-9dd2dde803af",
   "metadata": {},
   "outputs": [],
   "source": []
  },
  {
   "cell_type": "code",
   "execution_count": 14,
   "id": "ef60083d-94dc-4f04-bfc4-5ae0608ece58",
   "metadata": {},
   "outputs": [
    {
     "name": "stderr",
     "output_type": "stream",
     "text": [
      "Using cache found in C:\\Users\\Intel Master/.cache\\torch\\hub\\ultralytics_yolov5_master\n",
      "YOLOv5  2025-9-19 Python-3.9.23 torch-2.8.0+cpu CPU\n",
      "\n",
      "Fusing layers... \n",
      "YOLOv5s summary: 213 layers, 7225885 parameters, 0 gradients, 16.4 GFLOPs\n",
      "Adding AutoShape... \n",
      "C:\\Users\\Intel Master/.cache\\torch\\hub\\ultralytics_yolov5_master\\models\\common.py:906: FutureWarning: `torch.cuda.amp.autocast(args...)` is deprecated. Please use `torch.amp.autocast('cuda', args...)` instead.\n",
      "  with amp.autocast(autocast):\n"
     ]
    },
    {
     "data": {
      "text/plain": [
       "-1"
      ]
     },
     "execution_count": 14,
     "metadata": {},
     "output_type": "execute_result"
    }
   ],
   "source": [
    "# 실시간 객체 탐지 하기 위해 \n",
    "# YOLO 모델을 사용\n",
    "# 그 전 Fast-RNN 등 2번의 객체 탐지 과정이 필요\n",
    "# 객체가 어디에 있는지, 어떤 객체인지?\n",
    "# YOLO(You Only Look Once)\n",
    "# 빠르다!! 단, 정확도가 떨어진다... -> Version 올라감에 따라 개선\n",
    "\n",
    "# 1) Yolov5 활용해서\n",
    "# 객체 탐지 -> 바운딩 박스\n",
    "import torch\n",
    "import cv2\n",
    "import numpy as np\n",
    "import yaml\n",
    "\n",
    "# torch 사용해서 yolov5를 사용!!\n",
    "model = torch.hub.load(\"ultralytics/yolov5\", \"yolov5s\")\n",
    "\n",
    "with open(\"yolov5/data/coco.yaml\", \"r\", encoding=\"UTF-8\") as file:\n",
    "    data = yaml.full_load(file)\n",
    "\n",
    "# 이미지를 띄울 때 해당 객체를 바운딩 박스 그려보자\n",
    "# Yolov5 이용해서\n",
    "dog = cv2.imread(\"imgs/dog.jpg\")\n",
    "result = model(dog)\n",
    "detect = result.xyxyn[0].numpy()\n",
    "\n",
    "# 네모를 그리기 위해 가로가 얼마인지, 세로가 얼마인지\n",
    "x_shape = dog.shape[1] # 가로가 인덱스 1이다\n",
    "y_shape = dog.shape[0] # 세로가 인덱스 0이다\n",
    "\n",
    "for i in range(len(detect)):\n",
    "    # 감지된 객체 수 만큼 for문 동작\n",
    "    # (x1, y1) : 좌상단, (x2, y2) : 우하단\n",
    "    x1 = int(detect[i, 0] * x_shape)\n",
    "    y1 = int(detect[i, 1] * y_shape)\n",
    "    x2 = int(detect[i, 2] * x_shape)\n",
    "    y2 = int(detect[i, 3] * y_shape)\n",
    "\n",
    "    # rectangle(이미지, 좌상단, 우하단, 색상(BGR), 두께)\n",
    "    cv2.rectangle(dog, (x1, y1), (x2, y2), (0, 0, 255), 2)\n",
    "\n",
    "    class_name = data[\"names\"][detect[i][5]]\n",
    "    confidence = detect[i][4]\n",
    "    text = f\"{class_name} {confidence:.2f}\"\n",
    "\n",
    "    # putText(이미지, 입력할 문자열, 위치, 폰트, 폰트 크기, 색, 폰트 두께)\n",
    "    cv2.putText(dog, text, (x1, y1 + 30), cv2.FONT_HERSHEY_PLAIN, 2, (0, 0, 255), 2)\n",
    "\n",
    "cv2.imshow(\"dog\", dog)\n",
    "cv2.waitKey(0)\n",
    "\n",
    "cv2.destroyAllWindows()\n",
    "cv2.waitKey(1)    "
   ]
  },
  {
   "cell_type": "code",
   "execution_count": null,
   "id": "62dee98b-49d8-42fa-8860-003e2c895bf8",
   "metadata": {},
   "outputs": [],
   "source": [
    "import torch\n",
    "import cv2\n",
    "import numpy as np\n",
    "import yaml\n",
    "\n",
    "# torch 사용해서 yolov5를 사용!!\n",
    "model = torch.hub.load(\"ultralytics/yolov5\", \"yolov5s\")\n",
    "\n",
    "with open(\"yolov5/data/coco.yaml\", \"r\", encoding=\"UTF-8\") as file:\n",
    "    data = yaml.full_load(file)\n",
    "\n",
    "cap = cv2.VideoCapture(0)\n",
    "if not cap.isOpened():\n",
    "    print(\"카메라를 찾을 수 없습니다\")\n",
    "else:\n",
    "    while True:\n",
    "        ret, frame = cap.read()\n",
    "\n",
    "        if not ret:\n",
    "            print(\"프레임을 찾을 수 없습니다\")\n",
    "            break\n",
    "        \n",
    "        result = model(frame)\n",
    "        detect = result.xyxyn[0].numpy()\n",
    "        \n",
    "        # 네모를 그리기 위해 가로가 얼마인지, 세로가 얼마인지\n",
    "        x_shape = frame.shape[1] # 가로가 인덱스 1이다\n",
    "        y_shape = frame.shape[0] # 세로가 인덱스 0이다\n",
    "        \n",
    "        for i in range(len(detect)):\n",
    "            # 감지된 객체 수 만큼 for문 동작\n",
    "            # (x1, y1) : 좌상단, (x2, y2) : 우하단\n",
    "            x1 = int(detect[i, 0] * x_shape)\n",
    "            y1 = int(detect[i, 1] * y_shape)\n",
    "            x2 = int(detect[i, 2] * x_shape)\n",
    "            y2 = int(detect[i, 3] * y_shape)\n",
    "        \n",
    "            # rectangle(이미지, 좌상단, 우하단, 색상(BGR), 두께)\n",
    "            cv2.rectangle(frame, (x1, y1), (x2, y2), (0, 0, 255), 2)\n",
    "        \n",
    "            class_name = data[\"names\"][detect[i][5]]\n",
    "            confidence = detect[i][4]\n",
    "            text = f\"{class_name} {confidence:.2f}\"\n",
    "        \n",
    "            # putText(이미지, 입력할 문자열, 위치, 폰트, 폰트 크기, 색, 폰트 두께)\n",
    "            cv2.putText(frame, text, (x1, y1 + 30), cv2.FONT_HERSHEY_PLAIN, 2, (0, 0, 255), 2)\n",
    "\n",
    "        cv2.imshow(\"dog\", frame)\n",
    "        if cv2.waitKey(1) & 0xFF == ord(\"q\"):\n",
    "            break\n",
    "cap.release()\n",
    "cv2.destroyAllWindows()\n",
    "cv2.waitKey(1)    "
   ]
  },
  {
   "cell_type": "code",
   "execution_count": 6,
   "id": "16d02ca7-a153-4f57-96a0-adb0112d2d28",
   "metadata": {},
   "outputs": [
    {
     "name": "stderr",
     "output_type": "stream",
     "text": [
      "YOLOv5  2025-9-19 Python-3.9.23 torch-2.8.0+cpu CPU\n"
     ]
    },
    {
     "name": "stdout",
     "output_type": "stream",
     "text": [
      "Setup complete  (8 CPUs, 31.9 GB RAM, 160.3/222.7 GB disk)\n"
     ]
    },
    {
     "data": {
      "text/plain": [
       "<module 'IPython.display' from 'C:\\\\ProgramData\\\\anaconda3\\\\envs\\\\detect\\\\lib\\\\site-packages\\\\IPython\\\\display.py'>"
      ]
     },
     "execution_count": 6,
     "metadata": {},
     "output_type": "execute_result"
    }
   ],
   "source": [
    "import utils\n",
    "utils.notebook_init()"
   ]
  },
  {
   "cell_type": "code",
   "execution_count": 9,
   "id": "57ba32d7-0109-4483-abb9-8a05c7e4c5d2",
   "metadata": {},
   "outputs": [],
   "source": [
    "# 현재는 rps에 있는 폴더 이름을 보고 알아서 추측해서 진행\n",
    "# 좀 더 명확하게 yaml로 속성을 구성해서 진행해보자\n",
    "\n",
    "import yaml\n",
    "\n",
    "yaml_data = {\n",
    "    \"path\" : \"rps\",\n",
    "    \"train\" : \"rps/train\",\n",
    "    \"test\" : \"rps/test\",\n",
    "    \"valid\" : \"rps/valid\",\n",
    "    \"nc\" : 3,\n",
    "    \"names\" : [\"paper\", \"rock\", \"scissor\"]\n",
    "}\n",
    "\n",
    "with open(\"rps.yaml\", \"w\", encoding=\"UTF-8\") as file:\n",
    "    yaml.dump(yaml_data, file)"
   ]
  },
  {
   "cell_type": "code",
   "execution_count": 1,
   "id": "a3a1f781-c628-42e3-81c8-7754ba1b3775",
   "metadata": {},
   "outputs": [
    {
     "name": "stdout",
     "output_type": "stream",
     "text": [
      "C:\\Users\\Intel Master\\Desktop\\workspace\\yolov5\n"
     ]
    },
    {
     "name": "stderr",
     "output_type": "stream",
     "text": [
      "C:\\ProgramData\\anaconda3\\envs\\detect\\lib\\site-packages\\IPython\\core\\magics\\osm.py:417: UserWarning: using dhist requires you to install the `pickleshare` library.\n",
      "  self.shell.db['dhist'] = compress_dhist(dhist)[-100:]\n"
     ]
    }
   ],
   "source": [
    "%cd yolov5/"
   ]
  },
  {
   "cell_type": "code",
   "execution_count": null,
   "id": "c733b95d-b773-45d1-a546-17ff3ddbed84",
   "metadata": {
    "scrolled": true
   },
   "outputs": [],
   "source": [
    "!python classify/train.py --data../rps.yaml --img 224 --epochs 5 --batch-size 64"
   ]
  },
  {
   "cell_type": "code",
   "execution_count": 7,
   "id": "99214f96-9b88-420c-b043-e764bd5d029d",
   "metadata": {},
   "outputs": [
    {
     "name": "stderr",
     "output_type": "stream",
     "text": [
      "  % Total    % Received % Xferd  Average Speed   Time    Time     Time  Current\n",
      "                                 Dload  Upload   Total   Spent    Left  Speed\n",
      "\n",
      "  0     0    0     0    0     0      0      0 --:--:-- --:--:-- --:--:--     0\n",
      "100   910  100   910    0     0   1737      0 --:--:-- --:--:-- --:--:--  1743\n",
      "\n",
      "  0 58.4M    0 19039    0     0  19164      0  0:53:17 --:--:--  0:53:17 19164\n",
      "  0 58.4M    0  552k    0     0   284k      0  0:03:30  0:00:01  0:03:29  561k\n",
      "  4 58.4M    4 2638k    0     0   897k      0  0:01:06  0:00:02  0:01:04 1344k\n",
      "  7 58.4M    7 4478k    0     0  1138k      0  0:00:52  0:00:03  0:00:49 1516k\n",
      "  9 58.4M    9 5678k    0     0  1152k      0  0:00:51  0:00:04  0:00:47 1438k\n",
      " 12 58.4M   12 7246k    0     0  1222k      0  0:00:48  0:00:05  0:00:43 1464k\n",
      " 13 58.4M   13 8350k    0     0  1205k      0  0:00:49  0:00:06  0:00:43 1564k\n",
      " 16 58.4M   16  9.8M    0     0  1275k      0  0:00:46  0:00:07  0:00:39 1497k\n",
      " 19 58.4M   19 11.1M    0     0  1280k      0  0:00:46  0:00:08  0:00:38 1392k\n",
      " 22 58.4M   22 13.2M    0     0  1364k      0  0:00:43  0:00:09  0:00:34 1574k\n",
      " 28 58.4M   28 16.4M    0     0  1544k      0  0:00:38  0:00:10  0:00:28 1926k\n",
      " 31 58.4M   31 18.5M    0     0  1590k      0  0:00:37  0:00:11  0:00:26 2124k\n",
      " 35 58.4M   35 20.8M    0     0  1648k      0  0:00:36  0:00:12  0:00:24 2240k\n",
      " 38 58.4M   38 22.6M    0     0  1664k      0  0:00:35  0:00:13  0:00:22 2349k\n",
      " 40 58.4M   40 23.9M    0     0  1640k      0  0:00:36  0:00:14  0:00:22 2188k\n",
      " 43 58.4M   43 25.3M    0     0  1626k      0  0:00:36  0:00:15  0:00:21 1806k\n",
      " 45 58.4M   45 26.7M    0     0  1615k      0  0:00:37  0:00:16  0:00:21 1673k\n",
      " 47 58.4M   47 27.8M    0     0  1591k      0  0:00:37  0:00:17  0:00:20 1443k\n",
      " 48 58.4M   48 28.6M    0     0  1548k      0  0:00:38  0:00:18  0:00:20 1225k\n",
      " 51 58.4M   51 29.9M    0     0  1538k      0  0:00:38  0:00:19  0:00:19 1234k\n",
      " 53 58.4M   53 31.1M    0     0  1523k      0  0:00:39  0:00:20  0:00:19 1194k\n",
      " 55 58.4M   55 32.5M    0     0  1520k      0  0:00:39  0:00:21  0:00:18 1200k\n",
      " 58 58.4M   58 34.2M    0     0  1528k      0  0:00:39  0:00:22  0:00:17 1303k\n",
      " 60 58.4M   60 35.3M    0     0  1512k      0  0:00:39  0:00:23  0:00:16 1378k\n",
      " 61 58.4M   61 36.0M    0     0  1482k      0  0:00:40  0:00:24  0:00:16 1257k\n",
      " 64 58.4M   64 37.5M    0     0  1481k      0  0:00:40  0:00:25  0:00:15 1305k\n",
      " 66 58.4M   66 38.7M    0     0  1474k      0  0:00:40  0:00:26  0:00:14 1273k\n",
      " 67 58.4M   67 39.5M    0     0  1451k      0  0:00:41  0:00:27  0:00:14 1100k\n",
      " 68 58.4M   68 40.2M    0     0  1424k      0  0:00:42  0:00:28  0:00:14  998k\n",
      " 70 58.4M   70 41.0M    0     0  1397k      0  0:00:42  0:00:30  0:00:12  985k\n",
      " 72 58.4M   72 42.2M    0     0  1399k      0  0:00:42  0:00:30  0:00:12  972k\n",
      " 74 58.4M   74 43.5M    0     0  1398k      0  0:00:42  0:00:31  0:00:11  985k\n",
      " 77 58.4M   77 45.2M    0     0  1405k      0  0:00:42  0:00:32  0:00:10 1147k\n",
      " 79 58.4M   79 46.6M    0     0  1408k      0  0:00:42  0:00:33  0:00:09 1321k\n",
      " 81 58.4M   81 47.8M    0     0  1402k      0  0:00:42  0:00:34  0:00:08 1434k\n",
      " 83 58.4M   83 48.8M    0     0  1391k      0  0:00:43  0:00:35  0:00:08 1341k\n",
      " 85 58.4M   85 49.7M    0     0  1378k      0  0:00:43  0:00:36  0:00:07 1253k\n",
      " 86 58.4M   86 50.5M    0     0  1363k      0  0:00:43  0:00:37  0:00:06 1091k\n",
      " 88 58.4M   88 51.5M    0     0  1355k      0  0:00:44  0:00:38  0:00:06  995k\n",
      " 89 58.4M   89 52.2M    0     0  1340k      0  0:00:44  0:00:39  0:00:05  913k\n",
      " 91 58.4M   91 53.2M    0     0  1331k      0  0:00:44  0:00:40  0:00:04  907k\n",
      " 93 58.4M   93 54.5M    0     0  1332k      0  0:00:44  0:00:41  0:00:03  991k\n",
      " 95 58.4M   95 55.5M    0     0  1325k      0  0:00:45  0:00:42  0:00:03 1034k\n",
      " 97 58.4M   97 57.2M    0     0  1334k      0  0:00:44  0:00:43  0:00:01 1164k\n",
      "100 58.4M  100 58.4M    0     0  1342k      0  0:00:44  0:00:44 --:--:-- 1354k\n",
      "curl: (3) URL rejected: Bad hostname\n",
      "  % Total    % Received % Xferd  Average Speed   Time    Time     Time  Current\n",
      "                                 Dload  Upload   Total   Spent    Left  Speed\n",
      "\n",
      "  0     0    0     0    0     0      0      0 --:--:-- --:--:-- --:--:--     0\n",
      "  0     0    0     0    0     0      0      0 --:--:-- --:--:-- --:--:--     0\n",
      "  0     0    0     0    0     0      0      0 --:--:--  0:00:01 --:--:--     0\n",
      "  0     0    0     0    0     0      0      0 --:--:--  0:00:02 --:--:--     0curl: (6) Could not resolve host: unzip\n",
      "curl: (3) URL rejected: Bad hostname\n",
      "  % Total    % Received % Xferd  Average Speed   Time    Time     Time  Current\n",
      "                                 Dload  Upload   Total   Spent    Left  Speed\n",
      "\n",
      "  0     0    0     0    0     0      0      0 --:--:-- --:--:-- --:--:--     0\n",
      "  0     0    0     0    0     0      0      0 --:--:-- --:--:-- --:--:--     0\n",
      "  0     0    0     0    0     0      0      0 --:--:--  0:00:01 --:--:--     0curl: (6) Could not resolve host: rm\n",
      "  % Total    % Received % Xferd  Average Speed   Time    Time     Time  Current\n",
      "                                 Dload  Upload   Total   Spent    Left  Speed\n",
      "\n",
      "  0     0    0     0    0     0      0      0 --:--:-- --:--:-- --:--:--     0curl: (6) Could not resolve host: roboflow.zip\n"
     ]
    }
   ],
   "source": [
    "# labeling 된 이미지는 roboflow에서 가져올 수 있음\n",
    "\n",
    "!curl -L \"https://public.roboflow.com/ds/leUvTlEnUv?key=BDIrMXUtFC\" > roboflow.zip; unzip roboflow.zip; rm roboflow.zip"
   ]
  },
  {
   "cell_type": "code",
   "execution_count": 6,
   "id": "b156495e-a58e-4468-9a5e-b75d7820d297",
   "metadata": {},
   "outputs": [
    {
     "name": "stdout",
     "output_type": "stream",
     "text": [
      "C:\\Users\\Intel Master\\Desktop\\workspace\\pistol\n"
     ]
    }
   ],
   "source": [
    "%mkdir pistol\n",
    "%cd pistol"
   ]
  },
  {
   "cell_type": "code",
   "execution_count": 9,
   "id": "8954c8d8-6129-4716-ba0d-1088cab551bc",
   "metadata": {},
   "outputs": [
    {
     "name": "stdout",
     "output_type": "stream",
     "text": [
      "C:\\Users\\Intel Master\\Desktop\\workspace\n"
     ]
    }
   ],
   "source": [
    "%cd .."
   ]
  },
  {
   "cell_type": "code",
   "execution_count": 10,
   "id": "f265acfb-a3ab-4bac-95bd-4085676dfce3",
   "metadata": {},
   "outputs": [
    {
     "name": "stdout",
     "output_type": "stream",
     "text": [
      "C:\\Users\\Intel Master\\Desktop\\workspace\\yolov5\n"
     ]
    },
    {
     "name": "stderr",
     "output_type": "stream",
     "text": [
      "C:\\ProgramData\\anaconda3\\envs\\detect\\lib\\site-packages\\IPython\\core\\magics\\osm.py:417: UserWarning: using dhist requires you to install the `pickleshare` library.\n",
      "  self.shell.db['dhist'] = compress_dhist(dhist)[-100:]\n"
     ]
    }
   ],
   "source": [
    "%cd yolov5/"
   ]
  },
  {
   "cell_type": "code",
   "execution_count": null,
   "id": "c1e5a431-11eb-43bb-8a9d-9461206c077e",
   "metadata": {},
   "outputs": [],
   "source": [
    "!python classify/train.py --data../rps.yaml --img 224 --epochs 5 --batch-size 64"
   ]
  },
  {
   "cell_type": "code",
   "execution_count": null,
   "id": "4147e202-9890-4b58-942a-4f9bc7c7dac8",
   "metadata": {},
   "outputs": [],
   "source": [
    "!python classify/train.py --data ../pistol/data.yaml --img 224 --epochs 5 --batch-size 64"
   ]
  },
  {
   "cell_type": "code",
   "execution_count": null,
   "id": "07d5479f-16e7-4e5e-9295-3f482b5ab9f9",
   "metadata": {},
   "outputs": [],
   "source": [
    "# 이미지를 다운로드 받아보자\n",
    "# 인터넷에서\n",
    "# 자동으로\n",
    "\n",
    "# 스크래핑(정적, html) vs 크롤링(동적, 이동하면서)\n",
    "\n",
    "# 아이유 사진 500장 다운로드 받아주세요"
   ]
  },
  {
   "cell_type": "code",
   "execution_count": null,
   "id": "e24d2527-8afd-4ea7-957a-4c2c53c7fb2c",
   "metadata": {},
   "outputs": [],
   "source": [
    "!pip install selenium"
   ]
  },
  {
   "cell_type": "code",
   "execution_count": 18,
   "id": "64eb1bb6-50f4-42a9-bbcd-ec7f5231751c",
   "metadata": {},
   "outputs": [],
   "source": [
    "from selenium import webdriver as wb\n",
    "from selenium.webdriver.common.by import By\n",
    "from selenium.webdriver.common.keys import Keys"
   ]
  },
  {
   "cell_type": "code",
   "execution_count": 21,
   "id": "155cca0f-9532-4704-ba68-efb390d462aa",
   "metadata": {},
   "outputs": [],
   "source": [
    "url = \"https://www.naver.com\"\n",
    "driver = wb.Chrome()\n",
    "driver.get(url)"
   ]
  },
  {
   "cell_type": "code",
   "execution_count": null,
   "id": "b168fcda-da07-4649-bc5d-b37d839f32e6",
   "metadata": {},
   "outputs": [],
   "source": [
    "# 해당 태그를 선택하기 위한 방법\n",
    "# 1) id가 있다면 id를 찾는다 : #id\n",
    "# 2) class를 찾는다         : .class_name\n",
    "# 3) 태그를 찾는다           : tag\n",
    "\n",
    "# 4) 계층 선택자로 찾는다"
   ]
  },
  {
   "cell_type": "code",
   "execution_count": null,
   "id": "7be01f9d-7136-4224-a685-ccb8e187a530",
   "metadata": {},
   "outputs": [],
   "source": []
  },
  {
   "cell_type": "code",
   "execution_count": 25,
   "id": "50f42fab-4179-4930-beb7-b8f27a3fd1ef",
   "metadata": {},
   "outputs": [],
   "source": [
    "search = driver.find_element(By.CSS_SELECTOR, \"#query\")\n",
    "search.send_keys(\"화곡역 맛집\")\n",
    "search.send_keys(Keys.ENTER)"
   ]
  },
  {
   "cell_type": "code",
   "execution_count": 26,
   "id": "743ffef7-de81-4c54-a528-fc745a43e062",
   "metadata": {},
   "outputs": [],
   "source": [
    "driver.close()"
   ]
  },
  {
   "cell_type": "code",
   "execution_count": 27,
   "id": "6bbd8443-6ae2-4411-9568-387901eb445e",
   "metadata": {},
   "outputs": [],
   "source": [
    "# 이미지 검색\n",
    "from selenium import webdriver as wb\n",
    "from selenium.webdriver.common.by import By\n",
    "from selenium.webdriver.common.keys import Keys\n",
    "\n",
    "driver = wb.Chrome()\n",
    "url_image = \"https://search.naver.com/search.naver?where=image\"\n",
    "driver.get(url_image)"
   ]
  },
  {
   "cell_type": "code",
   "execution_count": 29,
   "id": "8f337d80-7e67-4e02-b9cd-2f68836ed3a3",
   "metadata": {},
   "outputs": [],
   "source": [
    "search_img = driver.find_element(By.CSS_SELECTOR, \"#nx_query\")\n",
    "search_img.send_keys(\"아이유\")\n",
    "search_img.send_keys(Keys.ENTER)"
   ]
  },
  {
   "cell_type": "code",
   "execution_count": 36,
   "id": "f255efa2-5630-48f1-8467-0303d773a857",
   "metadata": {},
   "outputs": [],
   "source": [
    "# img 태그를 전부 가져와서 img_list에 저장\n",
    "img_list = driver.find_elements(By.CSS_SELECTOR, \"img\")\n",
    "# 첫 번째 이미지의 src속성 값을 가져와라\n",
    "url = img_list[3].get_attribute(\"src\")"
   ]
  },
  {
   "cell_type": "code",
   "execution_count": 38,
   "id": "716d5fcb-dfad-4ea4-a688-080009c1cd18",
   "metadata": {},
   "outputs": [],
   "source": [
    "import requests\n",
    "response = requests.get(url)\n",
    "# 응답 결과를 처리하는 3가지 방식\n",
    "# response.text : html, xml, 문자열\n",
    "# response.content : file, 이미지\n",
    "# response.json() : json, 딕셔너리\n",
    "result = response.content # 이미지를 byte로 다루고 있음\n",
    "with open(\"아이유1.jpg\", \"wb\") as file:\n",
    "    file.write(result)"
   ]
  },
  {
   "cell_type": "code",
   "execution_count": null,
   "id": "38166a94-279f-4a39-94b3-7f88f439a17c",
   "metadata": {},
   "outputs": [],
   "source": [
    "# 해당 url을 통해 get방식으로 요청\n",
    "# 응답 온 결과를 byte형태로 받아서 로컬에 저장"
   ]
  },
  {
   "cell_type": "code",
   "execution_count": 39,
   "id": "e015017f-2673-457f-a114-c198068014b0",
   "metadata": {},
   "outputs": [],
   "source": [
    "driver.close()"
   ]
  },
  {
   "cell_type": "code",
   "execution_count": null,
   "id": "e27b89d3-4af9-47eb-b223-1da6205dda2e",
   "metadata": {},
   "outputs": [],
   "source": [
    "# 연습을 한 번 더 하고\n",
    "# PyQT로 실제 프로그램 구성"
   ]
  },
  {
   "cell_type": "code",
   "execution_count": 57,
   "id": "d25c09b0-b2d7-4684-a3bc-fe7b63d480d5",
   "metadata": {},
   "outputs": [
    {
     "name": "stdout",
     "output_type": "stream",
     "text": [
      "포켓몬0.jpg 저장 완료\n",
      "포켓몬1.jpg 저장 완료\n",
      "포켓몬2.jpg 저장 완료\n",
      "포켓몬3.jpg 저장 완료\n",
      "포켓몬4.jpg 저장 완료\n",
      "포켓몬5.jpg 저장 완료\n",
      "포켓몬6.jpg 저장 완료\n",
      "포켓몬7.jpg 저장 완료\n",
      "포켓몬8.jpg 저장 완료\n",
      "포켓몬9.jpg 저장 완료\n",
      "포켓몬10.jpg 저장 완료\n",
      "포켓몬11.jpg 저장 완료\n",
      "포켓몬12.jpg 저장 완료\n",
      "포켓몬13.jpg 저장 완료\n",
      "포켓몬14.jpg 저장 완료\n",
      "포켓몬15.jpg 저장 완료\n",
      "포켓몬16.jpg 저장 완료\n",
      "포켓몬17.jpg 저장 완료\n",
      "포켓몬18.jpg 저장 완료\n",
      "포켓몬19.jpg 저장 완료\n",
      "포켓몬20.jpg 저장 완료\n",
      "포켓몬21.jpg 저장 완료\n",
      "포켓몬22.jpg 저장 완료\n",
      "포켓몬23.jpg 저장 완료\n",
      "포켓몬24.jpg 저장 완료\n",
      "포켓몬25.jpg 저장 완료\n",
      "포켓몬26.jpg 저장 완료\n",
      "포켓몬27.jpg 저장 완료\n",
      "포켓몬28.jpg 저장 완료\n",
      "포켓몬29.jpg 저장 완료\n",
      "포켓몬30.jpg 저장 완료\n",
      "포켓몬31.jpg 저장 완료\n",
      "포켓몬32.jpg 저장 완료\n",
      "포켓몬33.jpg 저장 완료\n",
      "포켓몬34.jpg 저장 완료\n",
      "포켓몬35.jpg 저장 완료\n",
      "포켓몬36.jpg 저장 완료\n",
      "포켓몬37.jpg 저장 완료\n",
      "포켓몬38.jpg 저장 완료\n",
      "포켓몬39.jpg 저장 완료\n",
      "포켓몬40.jpg 저장 완료\n",
      "포켓몬41.jpg 저장 완료\n",
      "포켓몬42.jpg 저장 완료\n",
      "포켓몬43.jpg 저장 완료\n",
      "포켓몬44.jpg 저장 완료\n",
      "포켓몬45.jpg 저장 완료\n",
      "포켓몬46.jpg 저장 완료\n",
      "포켓몬47.jpg 저장 완료\n",
      "포켓몬48.jpg 저장 완료\n",
      "포켓몬49.jpg 저장 완료\n",
      "포켓몬50.jpg 저장 완료\n",
      "포켓몬51.jpg 저장 완료\n",
      "포켓몬52.jpg 저장 완료\n",
      "포켓몬53.jpg 저장 완료\n",
      "포켓몬54.jpg 저장 완료\n",
      "포켓몬55.jpg 저장 완료\n",
      "포켓몬56.jpg 저장 완료\n",
      "포켓몬57.jpg 저장 완료\n",
      "포켓몬58.jpg 저장 완료\n",
      "포켓몬59.jpg 저장 완료\n",
      "포켓몬60.jpg 저장 완료\n",
      "포켓몬61.jpg 저장 완료\n",
      "포켓몬62.jpg 저장 완료\n",
      "포켓몬63.jpg 저장 완료\n",
      "포켓몬64.jpg 저장 완료\n",
      "포켓몬65.jpg 저장 완료\n",
      "포켓몬66.jpg 저장 완료\n",
      "포켓몬67.jpg 저장 완료\n",
      "포켓몬68.jpg 저장 완료\n",
      "포켓몬69.jpg 저장 완료\n",
      "포켓몬70.jpg 저장 완료\n",
      "포켓몬71.jpg 저장 완료\n",
      "포켓몬72.jpg 저장 완료\n",
      "포켓몬73.jpg 저장 완료\n",
      "포켓몬74.jpg 저장 완료\n",
      "포켓몬75.jpg 저장 완료\n",
      "포켓몬76.jpg 저장 완료\n",
      "포켓몬77.jpg 저장 완료\n",
      "포켓몬78.jpg 저장 완료\n",
      "포켓몬79.jpg 저장 완료\n",
      "포켓몬80.jpg 저장 완료\n",
      "포켓몬81.jpg 저장 완료\n",
      "포켓몬82.jpg 저장 완료\n",
      "포켓몬83.jpg 저장 완료\n",
      "포켓몬84.jpg 저장 완료\n",
      "포켓몬85.jpg 저장 완료\n",
      "포켓몬86.jpg 저장 완료\n",
      "포켓몬87.jpg 저장 완료\n",
      "포켓몬88.jpg 저장 완료\n",
      "포켓몬89.jpg 저장 완료\n",
      "포켓몬90.jpg 저장 완료\n",
      "포켓몬91.jpg 저장 완료\n",
      "포켓몬92.jpg 저장 완료\n",
      "포켓몬93.jpg 저장 완료\n",
      "포켓몬94.jpg 저장 완료\n",
      "포켓몬95.jpg 저장 완료\n",
      "포켓몬96.jpg 저장 완료\n",
      "포켓몬97.jpg 저장 완료\n",
      "포켓몬98.jpg 저장 완료\n",
      "포켓몬99.jpg 저장 완료\n",
      "포켓몬100.jpg 저장 완료\n",
      "포켓몬101.jpg 저장 완료\n",
      "포켓몬102.jpg 저장 완료\n",
      "포켓몬103.jpg 저장 완료\n",
      "포켓몬104.jpg 저장 완료\n",
      "포켓몬105.jpg 저장 완료\n",
      "포켓몬106.jpg 저장 완료\n",
      "포켓몬107.jpg 저장 완료\n",
      "포켓몬108.jpg 저장 완료\n",
      "포켓몬109.jpg 저장 완료\n",
      "포켓몬110.jpg 저장 완료\n",
      "포켓몬111.jpg 저장 완료\n",
      "포켓몬112.jpg 저장 완료\n",
      "포켓몬113.jpg 저장 완료\n",
      "포켓몬114.jpg 저장 완료\n",
      "포켓몬115.jpg 저장 완료\n",
      "포켓몬116.jpg 저장 완료\n",
      "포켓몬117.jpg 저장 완료\n",
      "포켓몬118.jpg 저장 완료\n",
      "포켓몬119.jpg 저장 완료\n",
      "포켓몬120.jpg 저장 완료\n",
      "포켓몬121.jpg 저장 완료\n",
      "포켓몬122.jpg 저장 완료\n",
      "포켓몬123.jpg 저장 완료\n",
      "포켓몬124.jpg 저장 완료\n",
      "포켓몬125.jpg 저장 완료\n",
      "포켓몬126.jpg 저장 완료\n",
      "포켓몬127.jpg 저장 완료\n",
      "포켓몬128.jpg 저장 완료\n",
      "포켓몬129.jpg 저장 완료\n",
      "포켓몬130.jpg 저장 완료\n",
      "포켓몬131.jpg 저장 완료\n",
      "포켓몬132.jpg 저장 완료\n",
      "포켓몬133.jpg 저장 완료\n",
      "포켓몬134.jpg 저장 완료\n",
      "포켓몬135.jpg 저장 완료\n",
      "포켓몬136.jpg 저장 완료\n",
      "포켓몬137.jpg 저장 완료\n",
      "포켓몬138.jpg 저장 완료\n",
      "포켓몬139.jpg 저장 완료\n",
      "포켓몬140.jpg 저장 완료\n",
      "포켓몬141.jpg 저장 완료\n",
      "포켓몬142.jpg 저장 완료\n",
      "포켓몬143.jpg 저장 완료\n",
      "포켓몬144.jpg 저장 완료\n",
      "포켓몬145.jpg 저장 완료\n",
      "포켓몬146.jpg 저장 완료\n",
      "포켓몬147.jpg 저장 완료\n",
      "포켓몬148.jpg 저장 완료\n",
      "포켓몬149.jpg 저장 완료\n",
      "포켓몬150.jpg 저장 완료\n",
      "포켓몬151.jpg 저장 완료\n",
      "포켓몬152.jpg 저장 완료\n",
      "포켓몬153.jpg 저장 완료\n",
      "포켓몬154.jpg 저장 완료\n",
      "포켓몬155.jpg 저장 완료\n",
      "포켓몬156.jpg 저장 완료\n",
      "포켓몬157.jpg 저장 완료\n",
      "포켓몬158.jpg 저장 완료\n",
      "포켓몬159.jpg 저장 완료\n",
      "포켓몬160.jpg 저장 완료\n",
      "포켓몬161.jpg 저장 완료\n",
      "포켓몬162.jpg 저장 완료\n",
      "포켓몬163.jpg 저장 완료\n",
      "포켓몬164.jpg 저장 완료\n",
      "포켓몬165.jpg 저장 완료\n",
      "포켓몬166.jpg 저장 완료\n",
      "포켓몬167.jpg 저장 완료\n",
      "포켓몬168.jpg 저장 완료\n",
      "포켓몬169.jpg 저장 완료\n",
      "포켓몬170.jpg 저장 완료\n",
      "포켓몬171.jpg 저장 완료\n",
      "포켓몬172.jpg 저장 완료\n",
      "포켓몬173.jpg 저장 완료\n",
      "포켓몬174.jpg 저장 완료\n",
      "포켓몬175.jpg 저장 완료\n",
      "포켓몬176.jpg 저장 완료\n",
      "포켓몬177.jpg 저장 완료\n",
      "포켓몬178.jpg 저장 완료\n",
      "포켓몬179.jpg 저장 완료\n",
      "포켓몬180.jpg 저장 완료\n",
      "포켓몬181.jpg 저장 완료\n",
      "포켓몬182.jpg 저장 완료\n",
      "포켓몬183.jpg 저장 완료\n",
      "포켓몬184.jpg 저장 완료\n",
      "포켓몬185.jpg 저장 완료\n",
      "포켓몬186.jpg 저장 완료\n",
      "포켓몬187.jpg 저장 완료\n",
      "포켓몬188.jpg 저장 완료\n",
      "포켓몬189.jpg 저장 완료\n",
      "포켓몬190.jpg 저장 완료\n",
      "포켓몬191.jpg 저장 완료\n",
      "포켓몬192.jpg 저장 완료\n",
      "포켓몬193.jpg 저장 완료\n",
      "포켓몬194.jpg 저장 완료\n",
      "포켓몬195.jpg 저장 완료\n",
      "포켓몬196.jpg 저장 완료\n",
      "포켓몬197.jpg 저장 완료\n",
      "포켓몬198.jpg 저장 완료\n",
      "포켓몬199.jpg 저장 완료\n",
      "포켓몬200.jpg 저장 완료\n",
      "포켓몬201.jpg 저장 완료\n",
      "포켓몬202.jpg 저장 완료\n",
      "포켓몬203.jpg 저장 완료\n",
      "포켓몬204.jpg 저장 완료\n",
      "포켓몬205.jpg 저장 완료\n",
      "포켓몬206.jpg 저장 완료\n",
      "포켓몬207.jpg 저장 완료\n",
      "포켓몬208.jpg 저장 완료\n",
      "포켓몬209.jpg 저장 완료\n",
      "포켓몬210.jpg 저장 완료\n",
      "포켓몬211.jpg 저장 완료\n",
      "포켓몬212.jpg 저장 완료\n",
      "포켓몬213.jpg 저장 완료\n",
      "포켓몬214.jpg 저장 완료\n",
      "포켓몬215.jpg 저장 완료\n",
      "포켓몬216.jpg 저장 완료\n",
      "포켓몬217.jpg 저장 완료\n",
      "포켓몬218.jpg 저장 완료\n",
      "포켓몬219.jpg 저장 완료\n",
      "포켓몬220.jpg 저장 완료\n",
      "포켓몬221.jpg 저장 완료\n",
      "포켓몬222.jpg 저장 완료\n",
      "포켓몬223.jpg 저장 완료\n",
      "포켓몬224.jpg 저장 완료\n",
      "포켓몬225.jpg 저장 완료\n",
      "포켓몬226.jpg 저장 완료\n",
      "포켓몬227.jpg 저장 완료\n",
      "포켓몬228.jpg 저장 완료\n",
      "포켓몬229.jpg 저장 완료\n",
      "포켓몬230.jpg 저장 완료\n",
      "포켓몬231.jpg 저장 완료\n",
      "포켓몬232.jpg 저장 완료\n",
      "포켓몬233.jpg 저장 완료\n",
      "포켓몬234.jpg 저장 완료\n",
      "포켓몬235.jpg 저장 완료\n",
      "포켓몬236.jpg 저장 완료\n",
      "포켓몬237.jpg 저장 완료\n",
      "포켓몬238.jpg 저장 완료\n",
      "포켓몬239.jpg 저장 완료\n",
      "포켓몬240.jpg 저장 완료\n",
      "포켓몬241.jpg 저장 완료\n",
      "포켓몬242.jpg 저장 완료\n",
      "포켓몬243.jpg 저장 완료\n",
      "포켓몬244.jpg 저장 완료\n",
      "포켓몬245.jpg 저장 완료\n",
      "포켓몬246.jpg 저장 완료\n",
      "포켓몬247.jpg 저장 완료\n",
      "포켓몬248.jpg 저장 완료\n",
      "포켓몬249.jpg 저장 완료\n",
      "포켓몬250.jpg 저장 완료\n",
      "포켓몬251.jpg 저장 완료\n"
     ]
    }
   ],
   "source": [
    "# 사용자가 \"아이유\" 입력하면 500장 출력하는 프로그램 설계\n",
    "from selenium import webdriver as wb             # 인터넷창 제어, url 이동\n",
    "from selenium.webdriver.common.by import By      # 선택자\n",
    "from selenium.webdriver.common.keys import Keys  # 키보드 키 전송\n",
    "import os         # 폴더 만들기\n",
    "import requests   # 이미지 url 통해 byte 받아 올 때\n",
    "import time       # 페이지 이동 시 코드 지연\n",
    "\n",
    "driver = wb.Chrome()\n",
    "url_pokemon = \"https://pokemonkorea.co.kr/pokedex\"\n",
    "driver.maximize_window() # 간혹가다 창 크기에 따라 태그가 변하는 경우가 있음...\n",
    "driver.get(url_pokemon)\n",
    "time.sleep(0.2)\n",
    "\n",
    "keyword = \"포켓몬\"\n",
    "if not os.path.exists(keyword):\n",
    "    os.mkdir(keyword)\n",
    "\n",
    "# 현재 화면에서 스크롤을 한 20번 내려볼까?\n",
    "for _ in range(20):\n",
    "    body = driver.find_element(By.CSS_SELECTOR, \"body\")\n",
    "    body.send_keys(Keys.END)\n",
    "    time.sleep(0.2)\n",
    "\n",
    "# 계층 선택자 4개만 잠깐 설명\n",
    "# 자식 선택자 \">\" 예) img태그에 클래스 이름은 A 그 자식 태그에 a태그 -> img.A>a\n",
    "# 자손 선택자 \" \" 예) a태그에 클래스 이름은 B 그 자손 태그 li 선택 -> a.B li\n",
    "# 근접 후행 선택자 \"+\" 예) h1태그 클래스 이름은 C 그 바로 다음에 오는 h2 태그 선택 -> h1.C+h2\n",
    "# 후행 선택자 \"~\" 예) h3태그 클래스 이름은 D 그 다음에 오는 h4 태그 -> h3.D~h4\n",
    "\n",
    "img_list = driver.find_elements(By.CSS_SELECTOR, \"img.img-fluid\") # 태그.클래스이름\n",
    "for i, img in enumerate(img_list):\n",
    "    url = img.get_attribute(\"src\")\n",
    "    if url[ : 4] == \"data\":\n",
    "        continue\n",
    "\n",
    "    result = requests.get(url).content\n",
    "    with open(f\"{keyword}/{keyword}{i}.jpg\", \"wb\") as file:\n",
    "        file.write(result)\n",
    "        print(f\"{keyword}{i}.jpg 저장 완료\")\n",
    "\n",
    "        time.sleep(0.1)\n",
    "        \n",
    "driver.close()"
   ]
  },
  {
   "cell_type": "code",
   "execution_count": null,
   "id": "b1dc6398-5664-4b77-a046-0ebe484183d2",
   "metadata": {},
   "outputs": [],
   "source": [
    "# 사용자가 \"아이유\" 입력하면 500장 출력하는 프로그램 설계\n",
    "from selenium import webdriver as wb             # 인터넷창 제어, url 이동\n",
    "from selenium.webdriver.common.by import By      # 선택자\n",
    "from selenium.webdriver.common.keys import Keys  # 키보드 키 전송\n",
    "import os         # 폴더 만들기\n",
    "import requests   # 이미지 url 통해 byte 받아 올 때\n",
    "import time       # 페이지 이동 시 코드 지연\n",
    "\n",
    "driver = wb.Chrome()\n",
    "url_image = \"https://search.naver.com/search.naver?where=image\"\n",
    "driver.maximize_window() # 간혹가다 창 크기에 따라 태그가 변하는 경우가 있음...\n",
    "driver.get(url_image)\n",
    "time.sleep(0.2)\n",
    "\n",
    "# 사용자에게 입력하는 문구\n",
    "keyword = input(\"검색어를 입력하세요 : \")\n",
    "\n",
    "# 아이유라는 폴더를 만들자\n",
    "if not os.path.exists(keyword):\n",
    "    os.mkdir(keyword)\n",
    "\n",
    "search = driver.find_element(By.CSS_SELECTOR, \"#nx_query\")\n",
    "search.send_keys(keyword)\n",
    "search.send_keys(Keys.ENTER)\n",
    "time.sleep(0.2)\n",
    "\n",
    "# 현재 화면에서 스크롤을 한 20번 내려볼까?\n",
    "for _ in range(20):\n",
    "    body = driver.find_element(By.CSS_SELECTOR, \"body\")\n",
    "    body.send_keys(Keys.END)\n",
    "    time.sleep(0.2)\n",
    "\n",
    "img_list = driver.find_elements(By.CSS_SELECTOR, \"img\")\n",
    "for i, img in enumerate(img_list):\n",
    "    url = img.get_attribute(\"src\")\n",
    "    # get방식은 http, https 요청할 수 있어서\n",
    "    # data:로 출발하는 url은 버리자\n",
    "    if url[ : 4] == \"data\":\n",
    "        continue\n",
    "\n",
    "    result = requests.get(url).content\n",
    "    with open(f\"{keyword}/{keyword}{i}.jpg\", \"wb\") as file:\n",
    "        file.write(result)\n",
    "        print(f\"{keyword}{i}.jpg 저장 완료\")\n",
    "\n",
    "        time.sleep(0.1)"
   ]
  },
  {
   "cell_type": "code",
   "execution_count": null,
   "id": "6ac67d2b-9b2c-4c9e-baa1-8acc954b5dab",
   "metadata": {},
   "outputs": [],
   "source": [
    "img_list = driver.find_elements(By.CSS_SELECTOR, \"img\")\n",
    "for i, img in enumerate(img_list):\n",
    "    url = img.get_attribute(\"src\")\n",
    "    # get방식은 http, https 요청할 수 있어서\n",
    "    # data:로 출발하는 url은 버리자\n",
    "    if url[ : 4] == \"data\":\n",
    "        continue\n",
    "\n",
    "    result = requests.get(url).content\n",
    "    with open(f\"{keyword}/{keyword}{i}.jpg\", \"wb\") as file:\n",
    "        file.write(result)\n",
    "        print(f\"{keyword}{i}.jpg 저장 완료\")\n",
    "\n",
    "        time.sleep(0.1)"
   ]
  },
  {
   "cell_type": "code",
   "execution_count": 43,
   "id": "be651370-6ae1-40aa-b3c7-867e6b078ac8",
   "metadata": {},
   "outputs": [
    {
     "name": "stdout",
     "output_type": "stream",
     "text": [
      "C:\\Users\\Intel Master\\Desktop\\workspace\n"
     ]
    },
    {
     "name": "stderr",
     "output_type": "stream",
     "text": [
      "C:\\ProgramData\\anaconda3\\envs\\detect\\lib\\site-packages\\IPython\\core\\magics\\osm.py:417: UserWarning: using dhist requires you to install the `pickleshare` library.\n",
      "  self.shell.db['dhist'] = compress_dhist(dhist)[-100:]\n"
     ]
    }
   ],
   "source": [
    "# workspace 폴더로\n",
    "%cd .."
   ]
  },
  {
   "cell_type": "code",
   "execution_count": 55,
   "id": "09ba8e91-d789-4e43-98af-cbb2dfeb75e5",
   "metadata": {},
   "outputs": [],
   "source": [
    "driver.close()"
   ]
  },
  {
   "cell_type": "code",
   "execution_count": null,
   "id": "8503dac1-d325-4316-aa75-d65d7ec77ccd",
   "metadata": {},
   "outputs": [],
   "source": [
    "# 사용자가 \"아이유\" 입력하면 500장 출력하는 프로그램 설계\n",
    "from selenium import webdriver as wb             # 인터넷창 제어, url 이동\n",
    "from selenium.webdriver.common.by import By      # 선택자\n",
    "from selenium.webdriver.common.keys import Keys  # 키보드 키 전송\n",
    "import os         # 폴더 만들기\n",
    "import requests   # 이미지 url 통해 byte 받아 올 때\n",
    "import time       # 페이지 이동 시 코드 지연\n",
    "\n",
    "# PyQt5 사용해서 \n",
    "\n",
    "def img_download():\n",
    "    driver = wb.Chrome()\n",
    "    url_image = \"https://search.naver.com/search.naver?where=image\"\n",
    "    driver.maximize_window() # 간혹가다 창 크기에 따라 태그가 변하는 경우가 있음...\n",
    "    driver.get(url_image)\n",
    "    time.sleep(0.2)\n",
    "    \n",
    "    # 사용자에게 입력하는 문구\n",
    "    keyword = input(\"검색어를 입력하세요 : \")\n",
    "    \n",
    "    # 아이유라는 폴더를 만들자\n",
    "    if not os.path.exists(keyword):\n",
    "        os.mkdir(keyword)\n",
    "    \n",
    "    search = driver.find_element(By.CSS_SELECTOR, \"#nx_query\")\n",
    "    search.send_keys(keyword)\n",
    "    search.send_keys(Keys.ENTER)\n",
    "    time.sleep(0.2)\n",
    "    \n",
    "    # 현재 화면에서 스크롤을 한 20번 내려볼까?\n",
    "    for _ in range(20):\n",
    "        body = driver.find_element(By.CSS_SELECTOR, \"body\")\n",
    "        body.send_keys(Keys.END)\n",
    "        time.sleep(0.2)\n",
    "    \n",
    "    img_list = driver.find_elements(By.CSS_SELECTOR, \"img\")\n",
    "    for i, img in enumerate(img_list):\n",
    "        url = img.get_attribute(\"src\")\n",
    "        # get방식은 http, https 요청할 수 있어서\n",
    "        # data:로 출발하는 url은 버리자\n",
    "        if url[ : 4] == \"data\":\n",
    "            continue\n",
    "    \n",
    "        result = requests.get(url).content\n",
    "        with open(f\"{keyword}/{keyword}{i}.jpg\", \"wb\") as file:\n",
    "            file.write(result)\n",
    "            print(f\"{keyword}{i}.jpg 저장 완료\")\n",
    "    \n",
    "            time.sleep(0.1)\n",
    "    driver.close()\n",
    "\n",
    "if __name__ == \"__main__\":\n",
    "    img_download()"
   ]
  },
  {
   "cell_type": "code",
   "execution_count": null,
   "id": "14992e5c-ab0b-4cad-b1f4-4de5992c3327",
   "metadata": {},
   "outputs": [],
   "source": [
    "!pip install pyinstaller"
   ]
  },
  {
   "cell_type": "code",
   "execution_count": null,
   "id": "a9b985ae-8282-4427-9b8f-32f5718bd237",
   "metadata": {},
   "outputs": [],
   "source": [
    "!pyinstaller --onefile img_crawling.py"
   ]
  },
  {
   "cell_type": "code",
   "execution_count": null,
   "id": "babb9a86-c12f-4f7d-aa4f-dafd1efc619b",
   "metadata": {},
   "outputs": [],
   "source": []
  },
  {
   "cell_type": "code",
   "execution_count": null,
   "id": "52473b36-c710-4d27-8e1c-5b42f647dee2",
   "metadata": {},
   "outputs": [],
   "source": []
  },
  {
   "cell_type": "code",
   "execution_count": null,
   "id": "ac0a7d28-59db-4569-a70c-5ea8b3b89c4d",
   "metadata": {},
   "outputs": [],
   "source": []
  },
  {
   "cell_type": "code",
   "execution_count": null,
   "id": "a924f6a3-1f5d-43c9-b690-f703dec93209",
   "metadata": {},
   "outputs": [],
   "source": []
  },
  {
   "cell_type": "code",
   "execution_count": null,
   "id": "651e6639-53f8-4754-a45f-005f348cbfea",
   "metadata": {},
   "outputs": [],
   "source": []
  }
 ],
 "metadata": {
  "kernelspec": {
   "display_name": "Python 3 (ipykernel)",
   "language": "python",
   "name": "python3"
  },
  "language_info": {
   "codemirror_mode": {
    "name": "ipython",
    "version": 3
   },
   "file_extension": ".py",
   "mimetype": "text/x-python",
   "name": "python",
   "nbconvert_exporter": "python",
   "pygments_lexer": "ipython3",
   "version": "3.9.23"
  }
 },
 "nbformat": 4,
 "nbformat_minor": 5
}
