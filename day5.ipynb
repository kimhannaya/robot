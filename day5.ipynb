{
 "cells": [
  {
   "cell_type": "code",
   "execution_count": 8,
   "id": "5fc85605-9835-4ccd-8964-38075bd97e61",
   "metadata": {},
   "outputs": [
    {
     "name": "stdout",
     "output_type": "stream",
     "text": [
      "Requirement already satisfied: numpy in c:\\programdata\\anaconda3\\envs\\myenv\\lib\\site-packages (2.0.2)\n",
      "Requirement already satisfied: scipy in c:\\programdata\\anaconda3\\envs\\myenv\\lib\\site-packages (1.13.1)\n",
      "Requirement already satisfied: matplotlib in c:\\programdata\\anaconda3\\envs\\myenv\\lib\\site-packages (3.9.4)\n",
      "Requirement already satisfied: ipython in c:\\programdata\\anaconda3\\envs\\myenv\\lib\\site-packages (8.18.1)\n",
      "Requirement already satisfied: scikit-learn in c:\\programdata\\anaconda3\\envs\\myenv\\lib\\site-packages (1.6.1)\n",
      "Requirement already satisfied: pandas in c:\\programdata\\anaconda3\\envs\\myenv\\lib\\site-packages (2.3.2)\n",
      "Requirement already satisfied: pillow in c:\\programdata\\anaconda3\\envs\\myenv\\lib\\site-packages (11.3.0)\n",
      "Requirement already satisfied: imageio in c:\\programdata\\anaconda3\\envs\\myenv\\lib\\site-packages (2.37.0)\n",
      "Requirement already satisfied: contourpy>=1.0.1 in c:\\programdata\\anaconda3\\envs\\myenv\\lib\\site-packages (from matplotlib) (1.3.0)\n",
      "Requirement already satisfied: cycler>=0.10 in c:\\programdata\\anaconda3\\envs\\myenv\\lib\\site-packages (from matplotlib) (0.12.1)\n",
      "Requirement already satisfied: fonttools>=4.22.0 in c:\\programdata\\anaconda3\\envs\\myenv\\lib\\site-packages (from matplotlib) (4.59.2)\n",
      "Requirement already satisfied: kiwisolver>=1.3.1 in c:\\programdata\\anaconda3\\envs\\myenv\\lib\\site-packages (from matplotlib) (1.4.7)\n",
      "Requirement already satisfied: packaging>=20.0 in c:\\programdata\\anaconda3\\envs\\myenv\\lib\\site-packages (from matplotlib) (25.0)\n",
      "Requirement already satisfied: pyparsing>=2.3.1 in c:\\programdata\\anaconda3\\envs\\myenv\\lib\\site-packages (from matplotlib) (3.2.3)\n",
      "Requirement already satisfied: python-dateutil>=2.7 in c:\\programdata\\anaconda3\\envs\\myenv\\lib\\site-packages (from matplotlib) (2.9.0.post0)\n",
      "Requirement already satisfied: importlib-resources>=3.2.0 in c:\\programdata\\anaconda3\\envs\\myenv\\lib\\site-packages (from matplotlib) (6.5.2)\n",
      "Requirement already satisfied: decorator in c:\\programdata\\anaconda3\\envs\\myenv\\lib\\site-packages (from ipython) (5.2.1)\n",
      "Requirement already satisfied: jedi>=0.16 in c:\\programdata\\anaconda3\\envs\\myenv\\lib\\site-packages (from ipython) (0.19.2)\n",
      "Requirement already satisfied: matplotlib-inline in c:\\programdata\\anaconda3\\envs\\myenv\\lib\\site-packages (from ipython) (0.1.7)\n",
      "Requirement already satisfied: prompt-toolkit<3.1.0,>=3.0.41 in c:\\programdata\\anaconda3\\envs\\myenv\\lib\\site-packages (from ipython) (3.0.52)\n",
      "Requirement already satisfied: pygments>=2.4.0 in c:\\programdata\\anaconda3\\envs\\myenv\\lib\\site-packages (from ipython) (2.19.2)\n",
      "Requirement already satisfied: stack-data in c:\\programdata\\anaconda3\\envs\\myenv\\lib\\site-packages (from ipython) (0.6.3)\n",
      "Requirement already satisfied: traitlets>=5 in c:\\programdata\\anaconda3\\envs\\myenv\\lib\\site-packages (from ipython) (5.14.3)\n",
      "Requirement already satisfied: typing-extensions in c:\\programdata\\anaconda3\\envs\\myenv\\lib\\site-packages (from ipython) (4.15.0)\n",
      "Requirement already satisfied: exceptiongroup in c:\\programdata\\anaconda3\\envs\\myenv\\lib\\site-packages (from ipython) (1.3.0)\n",
      "Requirement already satisfied: colorama in c:\\programdata\\anaconda3\\envs\\myenv\\lib\\site-packages (from ipython) (0.4.6)\n",
      "Requirement already satisfied: wcwidth in c:\\programdata\\anaconda3\\envs\\myenv\\lib\\site-packages (from prompt-toolkit<3.1.0,>=3.0.41->ipython) (0.2.13)\n",
      "Requirement already satisfied: joblib>=1.2.0 in c:\\programdata\\anaconda3\\envs\\myenv\\lib\\site-packages (from scikit-learn) (1.5.2)\n",
      "Requirement already satisfied: threadpoolctl>=3.1.0 in c:\\programdata\\anaconda3\\envs\\myenv\\lib\\site-packages (from scikit-learn) (3.6.0)\n",
      "Requirement already satisfied: pytz>=2020.1 in c:\\programdata\\anaconda3\\envs\\myenv\\lib\\site-packages (from pandas) (2025.2)\n",
      "Requirement already satisfied: tzdata>=2022.7 in c:\\programdata\\anaconda3\\envs\\myenv\\lib\\site-packages (from pandas) (2025.2)\n",
      "Requirement already satisfied: zipp>=3.1.0 in c:\\programdata\\anaconda3\\envs\\myenv\\lib\\site-packages (from importlib-resources>=3.2.0->matplotlib) (3.23.0)\n",
      "Requirement already satisfied: parso<0.9.0,>=0.8.4 in c:\\programdata\\anaconda3\\envs\\myenv\\lib\\site-packages (from jedi>=0.16->ipython) (0.8.5)\n",
      "Requirement already satisfied: six>=1.5 in c:\\programdata\\anaconda3\\envs\\myenv\\lib\\site-packages (from python-dateutil>=2.7->matplotlib) (1.17.0)\n",
      "Requirement already satisfied: executing>=1.2.0 in c:\\programdata\\anaconda3\\envs\\myenv\\lib\\site-packages (from stack-data->ipython) (2.2.1)\n",
      "Requirement already satisfied: asttokens>=2.1.0 in c:\\programdata\\anaconda3\\envs\\myenv\\lib\\site-packages (from stack-data->ipython) (3.0.0)\n",
      "Requirement already satisfied: pure-eval in c:\\programdata\\anaconda3\\envs\\myenv\\lib\\site-packages (from stack-data->ipython) (0.2.3)\n"
     ]
    }
   ],
   "source": [
    "!pip install numpy scipy matplotlib ipython scikit-learn pandas pillow imageio"
   ]
  },
  {
   "cell_type": "code",
   "execution_count": 9,
   "id": "fcc2108b-3dbb-41a3-8216-613d48c4b219",
   "metadata": {},
   "outputs": [
    {
     "name": "stdout",
     "output_type": "stream",
     "text": [
      "Jupyter detected...\n",
      "3 channel Terms of Service accepted\n"
     ]
    },
    {
     "name": "stderr",
     "output_type": "stream",
     "text": [
      "\n",
      "PackageNotInstalledError: Package is not installed in prefix.\n",
      "  prefix: C:\\ProgramData\\anaconda3\\envs\\myenv\n",
      "  package name: scikit-learn\n",
      "\n",
      "\n"
     ]
    }
   ],
   "source": [
    "!conda update scikit-learn"
   ]
  },
  {
   "cell_type": "code",
   "execution_count": null,
   "id": "ef12778f-d64e-481f-ab04-597cd3477129",
   "metadata": {},
   "outputs": [],
   "source": [
    "# 데이터 \n",
    "# Python 자료구조\n",
    "# 리스트, 튜플, 딕셔너리, 세트"
   ]
  },
  {
   "cell_type": "code",
   "execution_count": 26,
   "id": "ed692055-acc3-455d-884a-b6b4cb4404e9",
   "metadata": {},
   "outputs": [
    {
     "name": "stdout",
     "output_type": "stream",
     "text": [
      "4\n",
      "[4, 5]\n",
      "[1, 2, 3, 4, 5, 6, 7]\n",
      "[1, 2, 3, 4, 500, 6, 7]\n",
      "[1, 2, 3, 4, 7]\n",
      "5\n"
     ]
    }
   ],
   "source": [
    "# 리스트\n",
    "list2 = [2, 3, 4, 5, 6]\n",
    "# 인덱싱 : 특정 위치에 요소 가져오기\n",
    "# 리스트명[인덱스 번호]\n",
    "print(list2[2]) # 3번째 요소 가져오기\n",
    "# 슬라이싱 : 특정 범위의 요소 가져오기\n",
    "print(list2[2 : 4]) # 3 ~ 4번째 요소 가져오기\n",
    "# 요소 추가하기 : append(요소), insert(인덱스 번호, 요소)\n",
    "list2.append(7) # 가장 마지막에 요소 추가\n",
    "list2.insert(0, 1) # 해당 인덱스에 요소 추가\n",
    "print(list2)\n",
    "list2[4] = 500 # 요소 수정\n",
    "print(list2)\n",
    "# 요소 삭제하기 del 리스트명[인덱스 번호], 리스트명.remove(요소)\n",
    "del list2[5]\n",
    "list2.remove(500)\n",
    "print(list2)\n",
    "# 리스트 길이 반환\n",
    "print(len(list2))"
   ]
  },
  {
   "cell_type": "code",
   "execution_count": 27,
   "id": "406d791b-a336-4041-919f-7f75ef4f6fe6",
   "metadata": {},
   "outputs": [
    {
     "name": "stdout",
     "output_type": "stream",
     "text": [
      "4\n",
      "tuple[slice(2, 4, None)]\n",
      "5\n"
     ]
    }
   ],
   "source": [
    "# 튜플\n",
    "# 리스트 대비 추가, 수정, 삭제가 되지 않음\n",
    "tuple2 = (2, 3, 4, 5, 6)\n",
    "print(tuple2[2])    # 튜플 인덱싱\n",
    "print(tuple[2 : 4]) # 튜플 슬라이싱\n",
    "print(len(tuple2)) # 튜플의 길이\n"
   ]
  },
  {
   "cell_type": "code",
   "execution_count": 28,
   "id": "aa85d562-4527-46e8-9b7c-7b4fe2ced792",
   "metadata": {},
   "outputs": [
    {
     "name": "stdout",
     "output_type": "stream",
     "text": [
      "{'이름': '김한나', '나이': 23, 'mbti': 'ENTP', 'course': ['python', '프로젝트']}\n",
      "ENTP\n",
      "23\n",
      "{'이름': '김한나', '나이': 23, 'mbti': 'ENTP', 'course': ['python', '프로젝트'], '점심 메뉴': '돈가스'}\n",
      "{'이름': '김한나', '나이': 23, 'mbti': 'ENTP', 'course': ['python', '프로젝트'], '점심 메뉴': '짬뽕'}\n",
      "{'이름': '김한나', 'mbti': 'ENTP', 'course': ['python', '프로젝트'], '점심 메뉴': '짬뽕'}\n",
      "['이름', 'mbti', 'course', '점심 메뉴']\n",
      "['김한나', 'ENTP', ['python', '프로젝트'], '짬뽕']\n",
      "[('이름', '김한나'), ('mbti', 'ENTP'), ('course', ['python', '프로젝트']), ('점심 메뉴', '짬뽕')]\n",
      "True\n"
     ]
    }
   ],
   "source": [
    "# 딕셔너리 \n",
    "# key-value 쌍으로 이루어진 자료구조\n",
    "# {}로 이루어져 있음\n",
    "# API 통신에 사용됨\n",
    "dic2 = {\n",
    "    \"이름\" : \"김한나\",\n",
    "    \"나이\" : 23,\n",
    "    \"mbti\" : \"ENTP\",\n",
    "    \"course\" : [\"python\", \"프로젝트\"]\n",
    "}\n",
    "print(dic2)\n",
    "\n",
    "# key를 통해 value 접근\n",
    "print(dic2[\"mbti\"])\n",
    "print(dic2.get(\"나이\"))\n",
    "\n",
    "# 새로운 key-value 쌍 추가\n",
    "dic2[\"점심 메뉴\"] = \"돈가스\"\n",
    "print(dic2)\n",
    "\n",
    "# key를 통해 value 수정\n",
    "dic2[\"점심 메뉴\"] = \"짬뽕\"\n",
    "print(dic2)\n",
    "\n",
    "# 딕셔너리 key-value 삭제\n",
    "del dic2[\"나이\"]\n",
    "print(dic2)\n",
    "\n",
    "# 딕셔너리 모든 key 가져오기\n",
    "print(list(dic2.keys()))\n",
    "\n",
    "# 딕셔너리 모든 value 가져오기\n",
    "print(list(dic2.values()))\n",
    "\n",
    "# 딕셔너리 모든 key-value 가져오기\n",
    "print(list(dic2.items()))\n",
    "\n",
    "# 딕셔너리 특정 key가 있나요?\n",
    "print(\"이름\" in dic2)"
   ]
  },
  {
   "cell_type": "code",
   "execution_count": 29,
   "id": "a91427ba-420e-41e5-98f8-99a994ba8695",
   "metadata": {},
   "outputs": [
    {
     "name": "stdout",
     "output_type": "stream",
     "text": [
      "{1, 2, 3, 4, 5}\n",
      "중복 제거 전 : [1, 2, 3, 3, 4, 5, 5, 5]\n",
      "중복 제거 후 : [1, 2, 3, 4, 5]\n",
      "교집합 :  {4, 5}\n",
      "합집합 :  {1, 2, 3, 4, 5, 6, 7, 8}\n",
      "차집합 :  {1, 2, 3}\n"
     ]
    }
   ],
   "source": [
    "# 세트(set)\n",
    "# 중복을 허용하지 않는 자료구조\n",
    "# 순서가 없음 : 메모리상에 올라갈 때 주소값이 연속적이지 않음\n",
    "# {}로 표기하면서 key-value가 없음\n",
    "# 중복 제거, 교집합, 합집합, 차집합\n",
    "\n",
    "set2 = {1, 2, 3, 3, 4, 5, 5, 5}\n",
    "print(set2)\n",
    "\n",
    "# 중복 제거 용도로 사용!!\n",
    "list3 = [1, 2, 3, 3, 4, 5, 5, 5]\n",
    "print(\"중복 제거 전 :\", list3)\n",
    "list3 = list(set(list3))\n",
    "print(\"중복 제거 후 :\", list3)\n",
    "\n",
    "set_A = {1, 2, 3, 4, 5}\n",
    "set_B = {4, 5, 6, 7, 8}\n",
    "\n",
    "# 교집합 (&)\n",
    "print(\"교집합 : \", set_A & set_B)\n",
    "\n",
    "# 합집합 (|)\n",
    "print(\"합집합 : \", set_A | set_B)\n",
    "\n",
    "# 차집합 (-)\n",
    "print(\"차집합 : \", set_A - set_B)"
   ]
  },
  {
   "cell_type": "code",
   "execution_count": 30,
   "id": "d2cbf05d-24d8-4591-882a-a3809f6c713e",
   "metadata": {},
   "outputs": [],
   "source": [
    "# numpy (Numerical Python)\n",
    "# 계산 및 데이터 분석 라이브러리\n",
    "# 다차원 배열(ndarray)\n",
    "# N-dimensional Array : 벡터 연산을 통해 리스트보다 빠름\n",
    "# 대량 데이터 기준 100배 이상\n",
    "# 백만개 기준 75배\n",
    "# C언어 기반 Logic, 모든 요소에 대해 동시 연산"
   ]
  },
  {
   "cell_type": "code",
   "execution_count": 31,
   "id": "c37910f5-a1e5-4505-85a3-d6764c2c27ac",
   "metadata": {},
   "outputs": [
    {
     "name": "stdout",
     "output_type": "stream",
     "text": [
      "걸린 시간 : 0.14292초\n"
     ]
    }
   ],
   "source": [
    "# 눈으로 시간 확인해보자\n",
    "import time\n",
    "list_C = list(range(1000000))\n",
    "list_D = list(range(1000000))\n",
    "\n",
    "list_result = [0] * 1000000\n",
    "\n",
    "list_start = time.time()\n",
    "for i in range(len(list_C)):\n",
    "    list_result = list_C[i] + list_D[i]\n",
    "list_end = time.time()\n",
    "print(f\"걸린 시간 : {list_end - list_start :.5f}초\")"
   ]
  },
  {
   "cell_type": "code",
   "execution_count": 34,
   "id": "3995ba13-4133-4fc2-8a7c-7750609e10de",
   "metadata": {},
   "outputs": [
    {
     "name": "stdout",
     "output_type": "stream",
     "text": [
      "걸린 시간 : 0.00305초\n"
     ]
    }
   ],
   "source": [
    "arr_C = np.arange(1000000)\n",
    "arr_D = np.arange(1000000)\n",
    "\n",
    "arr_start = time.time()\n",
    "arr_result = arr_C + arr_D\n",
    "arr_end = time.time()\n",
    "print(f\"걸린 시간 : {arr_end - arr_start :.5f}초\")"
   ]
  },
  {
   "cell_type": "code",
   "execution_count": 33,
   "id": "7aced677-a0e3-48c1-82c3-b6691a771738",
   "metadata": {},
   "outputs": [
    {
     "name": "stdout",
     "output_type": "stream",
     "text": [
      "[1 2 3 4 5]\n",
      "[[1 2 3]\n",
      " [4 5 6]]\n",
      "arr2의 (행, 열) :  (2, 3)\n",
      "arr2의 차원 :  2\n",
      "arr2의 요소 타입 :  int64\n",
      "[[0. 0. 0.]\n",
      " [0. 0. 0.]]\n",
      "[[1. 1. 1.]\n",
      " [1. 1. 1.]]\n",
      "[0 1 2 3 4 5 6 7 8 9]\n"
     ]
    }
   ],
   "source": [
    "import numpy as np\n",
    "# as (alias) 별칭 : 해당 라이브러리를 다음과 같이 부르겠다\n",
    "# 리스트로부터 ndarray 만들기\n",
    "# ndarray를 ad어레이, 배열\n",
    "\n",
    "list4 = [1, 2, 3, 4, 5]\n",
    "arr1 = np.array(list4)\n",
    "print(arr1)\n",
    "\n",
    "# 2차원 배열 만들기\n",
    "list5 = [[1, 2, 3], [4, 5, 6]]\n",
    "arr2 = np.array(list5)\n",
    "print(arr2)\n",
    "\n",
    "# 배열의 속성 확인하기\n",
    "# shape : (행, 열)\n",
    "print(\"arr2의 (행, 열) : \", arr2.shape) \n",
    "# ndim : 차원\n",
    "print(\"arr2의 차원 : \", arr2.ndim) \n",
    "# dtype : 배열 요소의 타입\n",
    "print(\"arr2의 요소 타입 : \", arr2.dtype) \n",
    "\n",
    "# 특별한 형태의 배열 형성\n",
    "# 모든 요소가 0인 배열\n",
    "zeros_arr = np.zeros((2,3))\n",
    "print(zeros_arr)\n",
    "\n",
    "ones_arr = np.ones((2,3))\n",
    "print(ones_arr)\n",
    "\n",
    "range_arr = np.arange((10))\n",
    "print(range_arr)"
   ]
  },
  {
   "cell_type": "code",
   "execution_count": 35,
   "id": "58716dbc-de0a-4ac7-b3ef-8f95414ec0b9",
   "metadata": {},
   "outputs": [
    {
     "name": "stdout",
     "output_type": "stream",
     "text": [
      "[[1 2 3]\n",
      " [4 5 6]\n",
      " [7 8 9]]\n",
      "arr3의 1행 2열 :  2\n",
      "arr3의 2행 2열 ~ 3행 3열 : \n",
      " [[5 6]\n",
      " [8 9]]\n",
      "arr3의 1행의 모든 열 : \n",
      " [1 2 3]\n",
      "bool\n",
      "arr3 요소 중 5이상: \n",
      " [6 7 8 9]\n",
      "arr3 요소 중 짝수: \n",
      " [2 4 6 8]\n",
      "배열 덧셈 :\n",
      "  [[ 6  8]\n",
      " [10 12]]\n",
      "배열 뺄셈 :\n",
      "  [[-4 -4]\n",
      " [-4 -4]]\n",
      "배열 곱셈 :\n",
      "  [[ 5 12]\n",
      " [21 32]]\n",
      "배열 나눗셈 :\n",
      "  [[0.2        0.33333333]\n",
      " [0.42857143 0.5       ]]\n",
      "배열에 10 더하기 :\n",
      "  [[11 12]\n",
      " [13 14]]\n"
     ]
    }
   ],
   "source": [
    "# 배열의 인덱싱 및 슬라이싱\n",
    "# 리스트의 인덱싱 및 슬라이싱과 유사\n",
    "# 배열에서는 차원별 접근\n",
    "\n",
    "arr3 = np.array([[1, 2, 3],\n",
    "                [4, 5, 6],\n",
    "                [7, 8, 9]])\n",
    "\n",
    "print(arr3)\n",
    "\n",
    "# 1) 인덱싱\n",
    "# 1행 2열의 요소 가져오기\n",
    "# 인덱스 번호가 0부터 시작함\n",
    "print(\"arr3의 1행 2열 : \", arr3[0, 1])\n",
    "\n",
    "# 2) 슬라이싱\n",
    "# 2행 2열 ~ 3행 3열\n",
    "print(\"arr3의 2행 2열 ~ 3행 3열 : \\n\", arr3[1 : ,1 :])\n",
    "# 행만 따졌을 때, 2행 ~ 3행 (인덱스 1부터 인덱스 3 미만)\n",
    "# 열만 따졌을 때, 2열 ~ 3열 (인덱스 1부터 인덱스 3 미만)\n",
    "\n",
    "# 1행의 모든 열\n",
    "print(\"arr3의 1행의 모든 열 : \\n\", arr3[0, 0 : 3])\n",
    "# 슬라이싱 시 : 기준 [시작 인덱스 : 끝 인덱스], 시작 생략 시 처음부터, 끝 생략시 끝까지\n",
    "\n",
    "# 3) Boolean 인덱싱 (중요!!)\n",
    "# 특정 조건을 만족하는 요소들만 추출\n",
    "arr3 >= 5 # 해당 결과는 동일한 (행, 열)을 가지는 True, False 논리형 배열\n",
    "print((arr3 > 5).dtype) # 모든 요소가 boolean 타입\n",
    "print(\"arr3 요소 중 5이상: \\n\", arr3[arr3 > 5]) # 해당 Boolean 연산 시 True만 가져올 수 있음\n",
    "\n",
    "# Q. arr3의 요소 중 짝수만 출력\n",
    "print(\"arr3 요소 중 짝수: \\n\", arr3[arr3 % 2 == 0])\n",
    "\n",
    "# 4) 배열 간 연산\n",
    "arr_A = np.array([[1, 2], [3, 4]])\n",
    "arr_B = np.array([[5, 6], [7, 8]])\n",
    "\n",
    "# 배열 덧셈\n",
    "print(\"배열 덧셈 :\\n \", arr_A + arr_B) # 배열 덧셈\n",
    "print(\"배열 뺄셈 :\\n \", arr_A - arr_B) # 배열 뺄셈\n",
    "print(\"배열 곱셈 :\\n \", arr_A * arr_B) # 배열 곱셈\n",
    "print(\"배열 나눗셈 :\\n \", arr_A / arr_B) # 배열 나눗셈\n",
    "\n",
    "# 스칼라 연산\n",
    "print(\"배열에 10 더하기 :\\n \", arr_A + 10) # 배열 덧셈"
   ]
  },
  {
   "cell_type": "code",
   "execution_count": 36,
   "id": "fa74bcfb-ac3f-4d57-908f-8d9b7a8b9305",
   "metadata": {},
   "outputs": [
    {
     "name": "stdout",
     "output_type": "stream",
     "text": [
      "원본 배열 : [ 0  1  2  3  4  5  6  7  8  9 10 11]\n",
      "3행 4열 : \n",
      " [ 0  1  2  3  4  5  6  7  8  9 10 11]\n",
      "[[ 0  1  2  3  4  5]\n",
      " [ 6  7  8  9 10 11]]\n",
      "전체 합계 :  66\n",
      "전체 평균 :  5.5\n",
      "최댓값 :  11\n",
      "최솟값 :  0\n",
      "각 행의 합계 : [ 6 22 38]\n",
      "각 열의 합계 : [12 15 18 21]\n",
      "랜덤 배열(0 ~ 1) :\n",
      " [[0.83943096 0.30400243 0.5640266 ]\n",
      " [0.35062787 0.74678999 0.80723982]\n",
      " [0.93732787 0.99127853 0.60552676]]\n",
      "표준정규분포(0 ~ 1) :\n",
      " [[0.9453458  0.09395621 0.571767  ]\n",
      " [0.18543032 0.63269138 0.60646967]\n",
      " [0.64247237 0.73734927 0.88062511]]\n"
     ]
    }
   ],
   "source": [
    "# 배열 응용 함수\n",
    "# 형태 변경 reshape()\n",
    "\n",
    "arr4 = np.arange(12) # 0~11, 1차원 배열\n",
    "print(\"원본 배열 :\", arr4)\n",
    "\n",
    "arr5 = arr4.reshape(3, 4) # 3행 4열\n",
    "print(\"3행 4열 : \\n\", arr4)\n",
    "\n",
    "arr6 = arr4.reshape(2, -1) # 모를 때 -1을 쓰자\n",
    "print(arr6)\n",
    "\n",
    "# 기본 통계 함수\n",
    "print(\"전체 합계 : \", arr5.sum())\n",
    "print(\"전체 평균 : \", arr5.mean())\n",
    "print(\"최댓값 : \", arr5.max())\n",
    "print(\"최솟값 : \", arr5.min())\n",
    "\n",
    "# 축(axis)을 이용한 연산\n",
    "print(\"각 행의 합계 :\", arr5.sum(axis=1)) # 행끼리 연산(axis=1)\n",
    "print(\"각 열의 합계 :\", arr5.sum(axis=0)) # 열끼리 연산(axis=0)\n",
    "\n",
    "# 난수 생경\n",
    "# 3 x 3 배열을 0 ~ 1 사이에서 생성\n",
    "arr7 = np.random.rand(3, 3)\n",
    "print(\"랜덤 배열(0 ~ 1) :\\n\", arr7)\n",
    "\n",
    "arr8 = np.random.rand(3, 3)\n",
    "print(\"표준정규분포(0 ~ 1) :\\n\", arr8)"
   ]
  },
  {
   "cell_type": "code",
   "execution_count": 37,
   "id": "f160d8d2-9778-4c2d-9e6e-4dc72f13e23b",
   "metadata": {},
   "outputs": [
    {
     "name": "stdin",
     "output_type": "stream",
     "text": [
      "첫 번째 정수 입력 :  10\n",
      "두 번째 정수 입력 :  0\n"
     ]
    },
    {
     "name": "stdout",
     "output_type": "stream",
     "text": [
      "0으로 나눌 수 없습니다\n",
      "프로그램 종료\n"
     ]
    }
   ],
   "source": [
    "# python에서 예외 처리\n",
    "# Error class\n",
    "# 두 개의 정수를 입력 받아\n",
    "# 두 번째 정수가 첫 번째 정수의 약수이면\n",
    "# \"약수입니다\"\n",
    "# 아니면 \"약수가 아닙니다\"\n",
    "try:\n",
    "    num1 = int(input(\"첫 번째 정수 입력 : \"))\n",
    "    num2 = int(input(\"두 번째 정수 입력 : \"))\n",
    "    print(\"약수입니다\" if num1 % num2 == 0 else \"약수가 아닙니다\")\n",
    "except ZeroDivisionError:\n",
    "    print(\"0으로 나눌 수 없습니다\")\n",
    "except ValueError:\n",
    "    print(\"숫자를 입력해 주세요\")\n",
    "except :\n",
    "    print(\"내가 모르는 에러\")\n",
    "finally: # 에러가 발생하든지 발생하지 않든지 무조건 진행\n",
    "    print(\"프로그램 종료\")"
   ]
  },
  {
   "cell_type": "code",
   "execution_count": 38,
   "id": "29fc8633-1f95-4ab2-850d-a4388aba1014",
   "metadata": {},
   "outputs": [],
   "source": [
    "# 전송 Data\n",
    "# CSV, XML, JSON\n",
    "\n",
    "# 1) CSV\n",
    "import csv\n",
    "\n",
    "# 이름,나이,mbti\n",
    "# 나예호,20,ENFJ\n",
    "# 수지,30,INFP\n",
    "\n",
    "# 우리의 workspace 안에 저장\n",
    "# open(경로, 모드)\n",
    "# open()을 통해서 통로를 열었다가 반드시, close()를 통해서 닫아야 함\n",
    "# 모드 : w(write), r(read), a(파일이 없으면 write, 있으면 덮어쓰기)\n",
    "# 경로는 현재 경로부터 출발\n",
    "file = open(\"member.csv\", \"w\", newline=\"\")\n",
    "writer = csv.writer(file)\n",
    "header = [\"이름\", \"나이\", \"mbti\"]\n",
    "writer.writerow(header)\n",
    "writer.writerow([\"김한나\", 23, \"ENTP\"])\n",
    "writer.writerow([\"수지\", 30, \"INFP\"])\n",
    "\n",
    "# 필수 중요!!!\n",
    "# 통로를 열었으면 닫자\n",
    "file.close()"
   ]
  },
  {
   "cell_type": "code",
   "execution_count": 39,
   "id": "55cee968-7623-4edf-b3dd-0b019ca3f752",
   "metadata": {},
   "outputs": [
    {
     "name": "stdout",
     "output_type": "stream",
     "text": [
      "['이름', '나이', 'mbti']\n",
      "['김한나', '23', 'ENTP']\n",
      "['수지', '30', 'INFP']\n",
      "[{'이름': '김한나', '나이': '23', 'mbti': 'ENTP'}, {'이름': '수지', '나이': '30', 'mbti': 'INFP'}]\n",
      "53\n"
     ]
    }
   ],
   "source": [
    "# csv read\n",
    "# close() 사용하지 않는 이슈를 방지하기 위해 \n",
    "# with ~ open()\n",
    "with open(\"member.csv\", \"r\") as file:\n",
    "    reader = csv.reader(file)\n",
    "    for row in reader:\n",
    "        print(row)\n",
    "\n",
    "dic_list = []\n",
    "with open(\"member.csv\", \"r\") as file:\n",
    "    reader = csv.DictReader(file)\n",
    "    for row in reader:\n",
    "        dic_list.append(row)\n",
    "print(dic_list)\n",
    "\n",
    "# dic_list안에 \"나이\" key를 통해서 모든 나이의 총합\n",
    "age_total = 0\n",
    "for member in dic_list:\n",
    "    age_total += int(member[\"나이\"])\n",
    "print(age_total)"
   ]
  },
  {
   "cell_type": "code",
   "execution_count": 55,
   "id": "1e7b2aa1-9351-4a28-9feb-c0871512448d",
   "metadata": {},
   "outputs": [
    {
     "name": "stderr",
     "output_type": "stream",
     "text": [
      "  % Total    % Received % Xferd  Average Speed   Time    Time     Time  Current\n",
      "                                 Dload  Upload   Total   Spent    Left  Speed\n",
      "\n",
      "  0     0    0     0    0     0      0      0 --:--:-- --:--:-- --:--:--     0\n",
      "  0     0    0     0    0     0      0      0 --:--:-- --:--:-- --:--:--     0\n",
      "\n",
      "100 44028  100 44028    0     0  85266      0 --:--:-- --:--:-- --:--:-- 85266\n"
     ]
    }
   ],
   "source": [
    "!curl -L https://gist.github.com/armgilles/194bcff35001e7eb53a2a8b441e8b2c6/raw/92200bc0a673d5ce2110aaad4544ed6c4010f687/pokemon.csv -o pokemon.csv"
   ]
  },
  {
   "cell_type": "code",
   "execution_count": 53,
   "id": "fb9f0528-ada7-470b-9647-7e01fb386ec3",
   "metadata": {},
   "outputs": [
    {
     "name": "stdout",
     "output_type": "stream",
     "text": [
      "1세대 포켓몬 Total 평균 : \n",
      "426.81325301204816\n"
     ]
    }
   ],
   "source": [
    "pokemon_list = []\n",
    "with open(\"pokemon.csv\", \"r\", encoding=\"UTF-8\") as file:\n",
    "    reader = csv.DictReader(file)\n",
    "    for row in reader:\n",
    "        pokemon_list.append(row)\n",
    "# 1세대 포켓몬의 Total의 평균 구해주세요\n",
    "print(\"1세대 포켓몬 Total 평균 : \")\n",
    "\n",
    "total_generation_1 = 0\n",
    "count_generation_1 = 0\n",
    "# 첫 번째 포켓몬이 만약, 1세대라면 Total\n",
    "for i in range(len(pokemon_list)):\n",
    "    if pokemon_list[i][\"Generation\"] == \"1\":\n",
    "        total_generation_1 += int(pokemon_list[i][\"Total\"])\n",
    "        count_generation_1 += 1\n",
    "print(total_generation_1/count_generation_1)"
   ]
  },
  {
   "cell_type": "code",
   "execution_count": 42,
   "id": "7ed017f7-f013-4ab3-91e5-372d1a2e1d7f",
   "metadata": {},
   "outputs": [
    {
     "data": {
      "text/plain": [
       "<Response [200]>"
      ]
     },
     "execution_count": 42,
     "metadata": {},
     "output_type": "execute_result"
    }
   ],
   "source": [
    "# XML재밌는 실습\n",
    "\n",
    "import requests\n",
    "MY_API_KEY = \"7077141e402b34395ff1bda2f711ff5c\"\n",
    "date = \"20250907\"\n",
    "url_movie = f\"https://kobis.or.kr/kobisopenapi/webservice/rest/boxoffice/searchDailyBoxOfficeList.xml?key={MY_API_KEY}&targetDt={date}\"\n",
    "\n",
    "response = requests.get(url_movie)\n",
    "response"
   ]
  },
  {
   "cell_type": "code",
   "execution_count": 43,
   "id": "df4d8093-2b23-43e4-98c6-9784ab528fa2",
   "metadata": {},
   "outputs": [
    {
     "data": {
      "text/plain": [
       "'<?xml version=\"1.0\" encoding=\"utf-8\" standalone=\"yes\"?><boxOfficeResult><boxofficeType>일별 박스오피스</boxofficeType><showRange>20250907~20250907</showRange><dailyBoxOfficeList><dailyBoxOffice><rnum>1</rnum><rank>1</rank><rankInten>0</rankInten><rankOldAndNew>OLD</rankOldAndNew><movieCd>20253289</movieCd><movieNm>극장판 귀멸의 칼날: 무한성편</movieNm><openDt>2025-08-22</openDt><salesAmt>1922814300</salesAmt><salesShare>46.8</salesShare><salesInten>-434637800</salesInten><salesChange>-18.4</salesChange><salesAcc>42765646970</salesAcc><audiCnt>179848</audiCnt><audiInten>-39273</audiInten><audiChange>-17.9</audiChange><audiAcc>3957888</audiAcc><scrnCnt>1541</scrnCnt><showCnt>5156</showCnt></dailyBoxOffice><dailyBoxOffice><rnum>2</rnum><rank>2</rank><rankInten>0</rankInten><rankOldAndNew>OLD</rankOldAndNew><movieCd>20256702</movieCd><movieNm>컨저링: 마지막 의식</movieNm><openDt>2025-09-03</openDt><salesAmt>562167020</salesAmt><salesShare>13.7</salesShare><salesInten>-188522210</salesInten><salesChange>-25.1</salesChange><salesAcc>2396211040</salesAcc><audiCnt>54262</audiCnt><audiInten>-17969</audiInten><audiChange>-24.9</audiChange><audiAcc>233155</audiAcc><scrnCnt>900</scrnCnt><showCnt>2108</showCnt></dailyBoxOffice><dailyBoxOffice><rnum>3</rnum><rank>3</rank><rankInten>0</rankInten><rankOldAndNew>OLD</rankOldAndNew><movieCd>20233039</movieCd><movieNm>살인자 리포트</movieNm><openDt>2025-09-05</openDt><salesAmt>522845670</salesAmt><salesShare>12.7</salesShare><salesInten>-70933230</salesInten><salesChange>-11.9</salesChange><salesAcc>1489019300</salesAcc><audiCnt>53247</audiCnt><audiInten>-7379</audiInten><audiChange>-12.2</audiChange><audiAcc>152744</audiAcc><scrnCnt>771</scrnCnt><showCnt>2441</showCnt></dailyBoxOffice><dailyBoxOffice><rnum>4</rnum><rank>4</rank><rankInten>1</rankInten><rankOldAndNew>OLD</rankOldAndNew><movieCd>20241941</movieCd><movieNm>좀비딸</movieNm><openDt>2025-07-30</openDt><salesAmt>318832730</salesAmt><salesShare>7.8</salesShare><salesInten>-53790640</salesInten><salesChange>-14.4</salesChange><salesAcc>52112436180</salesAcc><audiCnt>33055</audiCnt><audiInten>-5455</audiInten><audiChange>-14.2</audiChange><audiAcc>5499157</audiAcc><scrnCnt>762</scrnCnt><showCnt>1639</showCnt></dailyBoxOffice><dailyBoxOffice><rnum>5</rnum><rank>5</rank><rankInten>-1</rankInten><rankOldAndNew>OLD</rankOldAndNew><movieCd>20254501</movieCd><movieNm>F1 더 무비</movieNm><openDt>2025-06-25</openDt><salesAmt>316829320</salesAmt><salesShare>7.7</salesShare><salesInten>-72889190</salesInten><salesChange>-18.7</salesChange><salesAcc>52675660350</salesAcc><audiCnt>31656</audiCnt><audiInten>-7015</audiInten><audiChange>-18.1</audiChange><audiAcc>4914297</audiAcc><scrnCnt>640</scrnCnt><showCnt>1286</showCnt></dailyBoxOffice><dailyBoxOffice><rnum>6</rnum><rank>6</rank><rankInten>0</rankInten><rankOldAndNew>OLD</rankOldAndNew><movieCd>20256281</movieCd><movieNm>첫사랑 엔딩</movieNm><openDt>2025-08-27</openDt><salesAmt>102632790</salesAmt><salesShare>2.5</salesShare><salesInten>5631370</salesInten><salesChange>5.8</salesChange><salesAcc>1041307600</salesAcc><audiCnt>10512</audiCnt><audiInten>536</audiInten><audiChange>5.4</audiChange><audiAcc>109643</audiAcc><scrnCnt>292</scrnCnt><showCnt>395</showCnt></dailyBoxOffice><dailyBoxOffice><rnum>7</rnum><rank>7</rank><rankInten>1</rankInten><rankOldAndNew>OLD</rankOldAndNew><movieCd>20256741</movieCd><movieNm>아기돼지 3형제: 도넛별 대모험</movieNm><openDt>2025-09-04</openDt><salesAmt>45342800</salesAmt><salesShare>1.1</salesShare><salesInten>4503400</salesInten><salesChange>11</salesChange><salesAcc>123764800</salesAcc><audiCnt>5168</audiCnt><audiInten>554</audiInten><audiChange>12</audiChange><audiAcc>13827</audiAcc><scrnCnt>281</scrnCnt><showCnt>312</showCnt></dailyBoxOffice><dailyBoxOffice><rnum>8</rnum><rank>8</rank><rankInten>-1</rankInten><rankOldAndNew>OLD</rankOldAndNew><movieCd>20256071</movieCd><movieNm>투게더</movieNm><openDt>2025-09-03</openDt><salesAmt>39782800</salesAmt><salesShare>1.0</salesShare><salesInten>-15372700</salesInten><salesChange>-27.9</salesChange><salesAcc>242510200</salesAcc><audiCnt>4325</audiCnt><audiInten>-1721</audiInten><audiChange>-28.5</audiChange><audiAcc>29036</audiAcc><scrnCnt>215</scrnCnt><showCnt>480</showCnt></dailyBoxOffice><dailyBoxOffice><rnum>9</rnum><rank>9</rank><rankInten>0</rankInten><rankOldAndNew>OLD</rankOldAndNew><movieCd>20256701</movieCd><movieNm>긴키 지방의 어느 장소에 대하여</movieNm><openDt>2025-08-13</openDt><salesAmt>30640330</salesAmt><salesShare>0.7</salesShare><salesInten>-7495670</salesInten><salesChange>-19.7</salesChange><salesAcc>2742780000</salesAcc><audiCnt>2957</audiCnt><audiInten>-731</audiInten><audiChange>-19.8</audiChange><audiAcc>268545</audiAcc><scrnCnt>130</scrnCnt><showCnt>171</showCnt></dailyBoxOffice><dailyBoxOffice><rnum>10</rnum><rank>10</rank><rankInten>0</rankInten><rankOldAndNew>OLD</rankOldAndNew><movieCd>20254275</movieCd><movieNm>킹 오브 킹스</movieNm><openDt>2025-07-16</openDt><salesAmt>19361200</salesAmt><salesShare>0.5</salesShare><salesInten>-4828750</salesInten><salesChange>-20</salesChange><salesAcc>12289462426</salesAcc><audiCnt>1993</audiCnt><audiInten>-538</audiInten><audiChange>-21.3</audiChange><audiAcc>1302743</audiAcc><scrnCnt>85</scrnCnt><showCnt>88</showCnt></dailyBoxOffice></dailyBoxOfficeList></boxOfficeResult>'"
      ]
     },
     "execution_count": 43,
     "metadata": {},
     "output_type": "execute_result"
    }
   ],
   "source": [
    "# 응답 객체를 다루는 3가시 방법\n",
    "response.text #문자열\n",
    "# response.content # byte (파일, 이미지)\n",
    "# response.json # json (dictionary)\n",
    "result = response.text #문자열\n",
    "result"
   ]
  },
  {
   "cell_type": "code",
   "execution_count": 44,
   "id": "61832185-3053-4e77-8f68-ade4ff910b3e",
   "metadata": {},
   "outputs": [
    {
     "name": "stdout",
     "output_type": "stream",
     "text": [
      "1위 : 극장판 귀멸의 칼날: 무한성편(179848명/3957888명)\n",
      "2위 : 컨저링: 마지막 의식(54262명/233155명)\n",
      "3위 : 살인자 리포트(53247명/152744명)\n",
      "4위 : 좀비딸(33055명/5499157명)\n",
      "5위 : F1 더 무비(31656명/4914297명)\n",
      "6위 : 첫사랑 엔딩(10512명/109643명)\n",
      "7위 : 아기돼지 3형제: 도넛별 대모험(5168명/13827명)\n",
      "8위 : 투게더(4325명/29036명)\n",
      "9위 : 긴키 지방의 어느 장소에 대하여(2957명/268545명)\n",
      "10위 : 킹 오브 킹스(1993명/1302743명)\n"
     ]
    }
   ],
   "source": [
    "import xml.etree.ElementTree as ET\n",
    "root = ET.fromstring(result)\n",
    "# find(\"태그 이름\") -> <태그 이름>내용</태그 이름>\n",
    "# findall(\"태그 이름\") -> [<태그 이름>내용</태그 이름>, <태그 이름>내용</태그 이름>, ...]\n",
    "# root.findall(\".//movieNm\")[0].text #.// <- 하위 태그 전부 탐색\n",
    "\n",
    "for movie in root.findall(\".//dailyBoxOffice\"):\n",
    "    rank = movie.find(\"rank\").text\n",
    "    movieNm = movie.find(\"movieNm\").text\n",
    "    audiCnt = movie.find(\"audiCnt\").text\n",
    "    audiAcc = movie.find(\"audiAcc\").text\n",
    "    print(f\"{rank}위 : {movieNm}({audiCnt}명/{audiAcc}명)\")\n",
    "  "
   ]
  },
  {
   "cell_type": "code",
   "execution_count": 48,
   "id": "2dc9e12e-2e80-43f2-9509-f154895f29e9",
   "metadata": {},
   "outputs": [
    {
     "name": "stdout",
     "output_type": "stream",
     "text": [
      "^C\n"
     ]
    }
   ],
   "source": [
    "!conda install pandas"
   ]
  },
  {
   "cell_type": "code",
   "execution_count": 1,
   "id": "a900e8fd-3642-45f0-81df-3a396525dfd4",
   "metadata": {},
   "outputs": [],
   "source": [
    "import pandas"
   ]
  },
  {
   "cell_type": "code",
   "execution_count": 49,
   "id": "75b89bdc-36ef-40a8-913c-5a3c537b5395",
   "metadata": {},
   "outputs": [
    {
     "data": {
      "text/html": [
       "<div>\n",
       "<style scoped>\n",
       "    .dataframe tbody tr th:only-of-type {\n",
       "        vertical-align: middle;\n",
       "    }\n",
       "\n",
       "    .dataframe tbody tr th {\n",
       "        vertical-align: top;\n",
       "    }\n",
       "\n",
       "    .dataframe thead th {\n",
       "        text-align: right;\n",
       "    }\n",
       "</style>\n",
       "<table border=\"1\" class=\"dataframe\">\n",
       "  <thead>\n",
       "    <tr style=\"text-align: right;\">\n",
       "      <th></th>\n",
       "      <th>Name</th>\n",
       "      <th>Age</th>\n",
       "      <th>MBTI</th>\n",
       "    </tr>\n",
       "  </thead>\n",
       "  <tbody>\n",
       "    <tr>\n",
       "      <th>0</th>\n",
       "      <td>김한나</td>\n",
       "      <td>20</td>\n",
       "      <td>ENTP</td>\n",
       "    </tr>\n",
       "    <tr>\n",
       "      <th>1</th>\n",
       "      <td>류이현</td>\n",
       "      <td>21</td>\n",
       "      <td>INTJ</td>\n",
       "    </tr>\n",
       "    <tr>\n",
       "      <th>2</th>\n",
       "      <td>노재웅</td>\n",
       "      <td>22</td>\n",
       "      <td>ESFP</td>\n",
       "    </tr>\n",
       "    <tr>\n",
       "      <th>3</th>\n",
       "      <td>김정우</td>\n",
       "      <td>23</td>\n",
       "      <td>ISTP</td>\n",
       "    </tr>\n",
       "  </tbody>\n",
       "</table>\n",
       "</div>"
      ],
      "text/plain": [
       "  Name  Age  MBTI\n",
       "0  김한나   20  ENTP\n",
       "1  류이현   21  INTJ\n",
       "2  노재웅   22  ESFP\n",
       "3  김정우   23  ISTP"
      ]
     },
     "execution_count": 49,
     "metadata": {},
     "output_type": "execute_result"
    }
   ],
   "source": [
    "# Pandas\n",
    "# 2차원 데이터(테이블 형태)를 다루는 데 특화된 라이브러리\n",
    "# 2차원 데이터 : DataFrame\n",
    "# 1차원 데이터 : Series\n",
    "import pandas as pd\n",
    "s1 = pd.Series([10, 20, 30, 40], index=['a', 'b', 'c', 'd'])\n",
    "# 인덱스를 따로 설정하지 않는다면 0부터 차례로 정해진다\n",
    "# pandas의 Series, DataFrame은 보통 그냥 출력\n",
    "s1['c'] # 시리즈의 인덱스 'c' 가져오기!!\n",
    "\n",
    "# DataFrame 다루기!!\n",
    "\n",
    "data = {\n",
    "    \"Name\" : [\"김한나\", \"류이현\", \"노재웅\", \"김정우\"],\n",
    "    \"Age\" : [20, 21, 22, 23],\n",
    "    \"MBTI\" : [\"ENTP\", \"INTJ\", \"ESFP\", \"ISTP\"]\n",
    "}\n",
    "df = pd.DataFrame(data)\n",
    "df"
   ]
  },
  {
   "cell_type": "code",
   "execution_count": 58,
   "id": "addd8c48-201c-4004-8a88-77247e75984d",
   "metadata": {},
   "outputs": [
    {
     "name": "stdout",
     "output_type": "stream",
     "text": [
      "<class 'pandas.core.frame.DataFrame'>\n",
      "RangeIndex: 800 entries, 0 to 799\n",
      "Data columns (total 13 columns):\n",
      " #   Column      Non-Null Count  Dtype \n",
      "---  ------      --------------  ----- \n",
      " 0   #           800 non-null    int64 \n",
      " 1   Name        800 non-null    object\n",
      " 2   Type 1      800 non-null    object\n",
      " 3   Type 2      414 non-null    object\n",
      " 4   Total       800 non-null    int64 \n",
      " 5   HP          800 non-null    int64 \n",
      " 6   Attack      800 non-null    int64 \n",
      " 7   Defense     800 non-null    int64 \n",
      " 8   Sp. Atk     800 non-null    int64 \n",
      " 9   Sp. Def     800 non-null    int64 \n",
      " 10  Speed       800 non-null    int64 \n",
      " 11  Generation  800 non-null    int64 \n",
      " 12  Legendary   800 non-null    bool  \n",
      "dtypes: bool(1), int64(9), object(3)\n",
      "memory usage: 75.9+ KB\n"
     ]
    },
    {
     "data": {
      "text/html": [
       "<div>\n",
       "<style scoped>\n",
       "    .dataframe tbody tr th:only-of-type {\n",
       "        vertical-align: middle;\n",
       "    }\n",
       "\n",
       "    .dataframe tbody tr th {\n",
       "        vertical-align: top;\n",
       "    }\n",
       "\n",
       "    .dataframe thead th {\n",
       "        text-align: right;\n",
       "    }\n",
       "</style>\n",
       "<table border=\"1\" class=\"dataframe\">\n",
       "  <thead>\n",
       "    <tr style=\"text-align: right;\">\n",
       "      <th></th>\n",
       "      <th>#</th>\n",
       "      <th>Name</th>\n",
       "      <th>Type 1</th>\n",
       "      <th>Type 2</th>\n",
       "      <th>Total</th>\n",
       "      <th>HP</th>\n",
       "      <th>Attack</th>\n",
       "      <th>Defense</th>\n",
       "      <th>Sp. Atk</th>\n",
       "      <th>Sp. Def</th>\n",
       "      <th>Speed</th>\n",
       "      <th>Generation</th>\n",
       "      <th>Legendary</th>\n",
       "    </tr>\n",
       "  </thead>\n",
       "  <tbody>\n",
       "    <tr>\n",
       "      <th>781</th>\n",
       "      <td>710</td>\n",
       "      <td>PumpkabooSmall Size</td>\n",
       "      <td>Ghost</td>\n",
       "      <td>Grass</td>\n",
       "      <td>335</td>\n",
       "      <td>44</td>\n",
       "      <td>66</td>\n",
       "      <td>70</td>\n",
       "      <td>44</td>\n",
       "      <td>55</td>\n",
       "      <td>56</td>\n",
       "      <td>6</td>\n",
       "      <td>False</td>\n",
       "    </tr>\n",
       "    <tr>\n",
       "      <th>514</th>\n",
       "      <td>463</td>\n",
       "      <td>Lickilicky</td>\n",
       "      <td>Normal</td>\n",
       "      <td>NaN</td>\n",
       "      <td>515</td>\n",
       "      <td>110</td>\n",
       "      <td>85</td>\n",
       "      <td>95</td>\n",
       "      <td>80</td>\n",
       "      <td>95</td>\n",
       "      <td>50</td>\n",
       "      <td>4</td>\n",
       "      <td>False</td>\n",
       "    </tr>\n",
       "    <tr>\n",
       "      <th>362</th>\n",
       "      <td>331</td>\n",
       "      <td>Cacnea</td>\n",
       "      <td>Grass</td>\n",
       "      <td>NaN</td>\n",
       "      <td>335</td>\n",
       "      <td>50</td>\n",
       "      <td>85</td>\n",
       "      <td>40</td>\n",
       "      <td>85</td>\n",
       "      <td>40</td>\n",
       "      <td>35</td>\n",
       "      <td>3</td>\n",
       "      <td>False</td>\n",
       "    </tr>\n",
       "  </tbody>\n",
       "</table>\n",
       "</div>"
      ],
      "text/plain": [
       "       #                 Name  Type 1 Type 2  Total   HP  Attack  Defense  \\\n",
       "781  710  PumpkabooSmall Size   Ghost  Grass    335   44      66       70   \n",
       "514  463           Lickilicky  Normal    NaN    515  110      85       95   \n",
       "362  331               Cacnea   Grass    NaN    335   50      85       40   \n",
       "\n",
       "     Sp. Atk  Sp. Def  Speed  Generation  Legendary  \n",
       "781       44       55     56           6      False  \n",
       "514       80       95     50           4      False  \n",
       "362       85       40     35           3      False  "
      ]
     },
     "execution_count": 58,
     "metadata": {},
     "output_type": "execute_result"
    }
   ],
   "source": [
    "# csv로부터 DataFrame 만들기\n",
    "df_pokemon = pd.read_csv(\"pokemon.csv\", encoding=\"UTF-8\")\n",
    "df_pokemon.head()      # 상위 5개 데이터 출력\n",
    "df_pokemon.head(2)     # 상위 n개 데이터 출력\n",
    "df_pokemon.tail()      # 하위 5개 데이터 출력\n",
    "df_pokemon.tail(2)     # 하위 n개 데이터 출력\n",
    "df_pokemon.info()      # df의 전반적인 정보\n",
    "df_pokemon.describe()  # df의 통계적 정보\n",
    "df_pokemon.dtypes      # df의 요소별 타입 정보\n",
    "df_pokemon.sample()    # df 데이터 중 랜덤한 데이터 1개 출력\n",
    "df_pokemon.sample(3)   # df 데이터 중 랜덤한 데이터 n개 출력"
   ]
  },
  {
   "cell_type": "code",
   "execution_count": 59,
   "id": "9a95b754-b891-470b-8103-d7c9cb1887d1",
   "metadata": {},
   "outputs": [
    {
     "data": {
      "text/html": [
       "<div>\n",
       "<style scoped>\n",
       "    .dataframe tbody tr th:only-of-type {\n",
       "        vertical-align: middle;\n",
       "    }\n",
       "\n",
       "    .dataframe tbody tr th {\n",
       "        vertical-align: top;\n",
       "    }\n",
       "\n",
       "    .dataframe thead th {\n",
       "        text-align: right;\n",
       "    }\n",
       "</style>\n",
       "<table border=\"1\" class=\"dataframe\">\n",
       "  <thead>\n",
       "    <tr style=\"text-align: right;\">\n",
       "      <th></th>\n",
       "      <th>Name</th>\n",
       "      <th>Type 1</th>\n",
       "      <th>Type 2</th>\n",
       "      <th>Total</th>\n",
       "      <th>HP</th>\n",
       "      <th>Attack</th>\n",
       "      <th>Defense</th>\n",
       "    </tr>\n",
       "  </thead>\n",
       "  <tbody>\n",
       "    <tr>\n",
       "      <th>2</th>\n",
       "      <td>Venusaur</td>\n",
       "      <td>Grass</td>\n",
       "      <td>Poison</td>\n",
       "      <td>525</td>\n",
       "      <td>80</td>\n",
       "      <td>82</td>\n",
       "      <td>83</td>\n",
       "    </tr>\n",
       "    <tr>\n",
       "      <th>3</th>\n",
       "      <td>VenusaurMega Venusaur</td>\n",
       "      <td>Grass</td>\n",
       "      <td>Poison</td>\n",
       "      <td>625</td>\n",
       "      <td>80</td>\n",
       "      <td>100</td>\n",
       "      <td>123</td>\n",
       "    </tr>\n",
       "    <tr>\n",
       "      <th>4</th>\n",
       "      <td>Charmander</td>\n",
       "      <td>Fire</td>\n",
       "      <td>NaN</td>\n",
       "      <td>309</td>\n",
       "      <td>39</td>\n",
       "      <td>52</td>\n",
       "      <td>43</td>\n",
       "    </tr>\n",
       "    <tr>\n",
       "      <th>5</th>\n",
       "      <td>Charmeleon</td>\n",
       "      <td>Fire</td>\n",
       "      <td>NaN</td>\n",
       "      <td>405</td>\n",
       "      <td>58</td>\n",
       "      <td>64</td>\n",
       "      <td>58</td>\n",
       "    </tr>\n",
       "    <tr>\n",
       "      <th>6</th>\n",
       "      <td>Charizard</td>\n",
       "      <td>Fire</td>\n",
       "      <td>Flying</td>\n",
       "      <td>534</td>\n",
       "      <td>78</td>\n",
       "      <td>84</td>\n",
       "      <td>78</td>\n",
       "    </tr>\n",
       "    <tr>\n",
       "      <th>7</th>\n",
       "      <td>CharizardMega Charizard X</td>\n",
       "      <td>Fire</td>\n",
       "      <td>Dragon</td>\n",
       "      <td>634</td>\n",
       "      <td>78</td>\n",
       "      <td>130</td>\n",
       "      <td>111</td>\n",
       "    </tr>\n",
       "    <tr>\n",
       "      <th>8</th>\n",
       "      <td>CharizardMega Charizard Y</td>\n",
       "      <td>Fire</td>\n",
       "      <td>Flying</td>\n",
       "      <td>634</td>\n",
       "      <td>78</td>\n",
       "      <td>104</td>\n",
       "      <td>78</td>\n",
       "    </tr>\n",
       "    <tr>\n",
       "      <th>9</th>\n",
       "      <td>Squirtle</td>\n",
       "      <td>Water</td>\n",
       "      <td>NaN</td>\n",
       "      <td>314</td>\n",
       "      <td>44</td>\n",
       "      <td>48</td>\n",
       "      <td>65</td>\n",
       "    </tr>\n",
       "  </tbody>\n",
       "</table>\n",
       "</div>"
      ],
      "text/plain": [
       "                        Name Type 1  Type 2  Total  HP  Attack  Defense\n",
       "2                   Venusaur  Grass  Poison    525  80      82       83\n",
       "3      VenusaurMega Venusaur  Grass  Poison    625  80     100      123\n",
       "4                 Charmander   Fire     NaN    309  39      52       43\n",
       "5                 Charmeleon   Fire     NaN    405  58      64       58\n",
       "6                  Charizard   Fire  Flying    534  78      84       78\n",
       "7  CharizardMega Charizard X   Fire  Dragon    634  78     130      111\n",
       "8  CharizardMega Charizard Y   Fire  Flying    634  78     104       78\n",
       "9                   Squirtle  Water     NaN    314  44      48       65"
      ]
     },
     "execution_count": 59,
     "metadata": {},
     "output_type": "execute_result"
    }
   ],
   "source": [
    "# 포켓몬의 df 활용해서 데이터 가져오기\n",
    "\n",
    "# 해당 열 가져오기 -> Series로 반환\n",
    "# 데이터프레임명[\"컬럼명\"]\n",
    "# 데이터프레임명.컬럼명\n",
    "df_pokemon[\"Name\"]\n",
    "df_pokemon.Name\n",
    "\n",
    "# 해당 행 가져오기\n",
    "# Loc(Location)\n",
    "# 데이터프레임명.Loc[인덱스명(번호X)]\n",
    "df_pokemon.loc[0]\n",
    "# iloc(inteager Location)\n",
    "# 데이터프레임명.iloc[인덱스번호]\n",
    "df_pokemon.iloc[0]\n",
    "\n",
    "# 행, 열 동시에 접근\n",
    "# 첫 번째 포켓몬의 이름\n",
    "df_pokemon.loc[0, \"Name\"] # 인덱스 명 : 0, 컬럼명 : Name\n",
    "df_pokemon.iloc[0, 1] # 인덱스 번호 : 0, 컬럼 인덱스 : 1 (앞에서부터 두 번째 컬럼)\n",
    "\n",
    "# 슬라이싱 -> 인덱싱 부분에 : 쓰기\n",
    "# 3번째 포켓몬부터 10번째 포켓몬까지\n",
    "df_pokemon.loc[2 : 9] # 슬라이싱 시 인덱스명이기 때문에 둘 다 포함함(both include)\n",
    "df_pokemon.iloc[2 : 11] # 정수형이기 때문에 끝 인덱스 미만\n",
    "\n",
    "df_pokemon.loc[2 : 9, \"Name\" : \"Defense\"]\n",
    "df_pokemon.iloc[2 : 10, 1 : 8] # 3번째 ~ 10(인덱스 11미만)번째까지 컬럼 인덱스 1 ~ 7"
   ]
  },
  {
   "cell_type": "code",
   "execution_count": 62,
   "id": "3b2eda58-2bb8-4bfc-811c-03bca93637b2",
   "metadata": {},
   "outputs": [
    {
     "data": {
      "text/plain": [
       "np.float64(407.0794701986755)"
      ]
     },
     "execution_count": 62,
     "metadata": {},
     "output_type": "execute_result"
    }
   ],
   "source": [
    "# Boolean Indexing\n",
    "df_pokemon[df_pokemon[\"Total\"] >= 500] # Total이 500이상인 데이터만 추출!!\n",
    "df_temp = df_pokemon[(df_pokemon[\"Total\"] >= 500) & (df_pokemon[\"Generation\"] == 1)]\n",
    "df_temp[\"Total\"].mean()\n",
    "\n",
    "# csv에서 문자열이라 하더라도\n",
    "# df에서는 정수형태로 취급!!\n",
    "# 문자열 20이 df에서는 정수형 20\n",
    "\n",
    "# 1세대 포켓몬의 평균 Total\n",
    "df_pokemon[df_pokemon[\"Generation\"] == 1][\"Total\"].mean()\n",
    "\n",
    "# 만약, Mega를 뺀다면\n",
    "df_pokemon[(df_pokemon[\"Generation\"] == 1) & (~df_pokemon[\"Name\"].str.contains(\"Mega\"))][\"Total\"].mean()"
   ]
  },
  {
   "cell_type": "code",
   "execution_count": 69,
   "id": "de3d6723-c7fb-4ea0-9258-618ed75738c2",
   "metadata": {},
   "outputs": [
    {
     "data": {
      "text/html": [
       "<div>\n",
       "<style scoped>\n",
       "    .dataframe tbody tr th:only-of-type {\n",
       "        vertical-align: middle;\n",
       "    }\n",
       "\n",
       "    .dataframe tbody tr th {\n",
       "        vertical-align: top;\n",
       "    }\n",
       "\n",
       "    .dataframe thead th {\n",
       "        text-align: right;\n",
       "    }\n",
       "</style>\n",
       "<table border=\"1\" class=\"dataframe\">\n",
       "  <thead>\n",
       "    <tr style=\"text-align: right;\">\n",
       "      <th></th>\n",
       "      <th>mean</th>\n",
       "      <th>median</th>\n",
       "    </tr>\n",
       "    <tr>\n",
       "      <th>Generation</th>\n",
       "      <th></th>\n",
       "      <th></th>\n",
       "    </tr>\n",
       "  </thead>\n",
       "  <tbody>\n",
       "    <tr>\n",
       "      <th>1</th>\n",
       "      <td>426.813253</td>\n",
       "      <td>436.5</td>\n",
       "    </tr>\n",
       "    <tr>\n",
       "      <th>2</th>\n",
       "      <td>418.283019</td>\n",
       "      <td>422.5</td>\n",
       "    </tr>\n",
       "    <tr>\n",
       "      <th>3</th>\n",
       "      <td>436.225000</td>\n",
       "      <td>435.0</td>\n",
       "    </tr>\n",
       "    <tr>\n",
       "      <th>4</th>\n",
       "      <td>459.016529</td>\n",
       "      <td>485.0</td>\n",
       "    </tr>\n",
       "    <tr>\n",
       "      <th>5</th>\n",
       "      <td>434.987879</td>\n",
       "      <td>465.0</td>\n",
       "    </tr>\n",
       "    <tr>\n",
       "      <th>6</th>\n",
       "      <td>436.378049</td>\n",
       "      <td>464.0</td>\n",
       "    </tr>\n",
       "  </tbody>\n",
       "</table>\n",
       "</div>"
      ],
      "text/plain": [
       "                  mean  median\n",
       "Generation                    \n",
       "1           426.813253   436.5\n",
       "2           418.283019   422.5\n",
       "3           436.225000   435.0\n",
       "4           459.016529   485.0\n",
       "5           434.987879   465.0\n",
       "6           436.378049   464.0"
      ]
     },
     "execution_count": 69,
     "metadata": {},
     "output_type": "execute_result"
    }
   ],
   "source": [
    "# 그룹 별 통계 수치 확인\n",
    "# 세대 별(1 ~ 6) Total의 평균\n",
    "df_pokemon.groupby(\"Generation\")[\"Total\"].mean()\n",
    "\n",
    "# Type1별 토탈의 평균\n",
    "df_pokemon.groupby(\"Type 1\")[\"Total\"].mean()\n",
    "\n",
    "# 어떤 통계 함수 사용할 수 있는지?\n",
    "df_pokemon.groupby(\"Generation\")[\"Total\"].max()    # 최댓값\n",
    "df_pokemon.groupby(\"Generation\")[\"Total\"].min()    # 최솟값\n",
    "df_pokemon.groupby(\"Generation\")[\"Total\"].median() # 중앙값\n",
    "df_pokemon.groupby(\"Generation\")[\"Total\"].sum()    # 총합\n",
    "df_pokemon.groupby(\"Generation\")[\"Total\"].count()  # 총합\n",
    "\n",
    "# 세대 별 Total의 평균치와 중앙값 동시에 출력\n",
    "df_pokemon.groupby(\"Generation\")[\"Total\"].agg([\"mean\", \"median\"])"
   ]
  },
  {
   "cell_type": "code",
   "execution_count": 71,
   "id": "12d9c549-a042-4db8-97b8-5ef3891cc85e",
   "metadata": {},
   "outputs": [
    {
     "name": "stderr",
     "output_type": "stream",
     "text": [
      "  % Total    % Received % Xferd  Average Speed   Time    Time     Time  Current\n",
      "                                 Dload  Upload   Total   Spent    Left  Speed\n",
      "\n",
      "  0     0    0     0    0     0      0      0 --:--:-- --:--:-- --:--:--     0\n",
      "  0     0    0     0    0     0      0      0 --:--:-- --:--:-- --:--:--     0\n",
      "\n",
      "100 61194  100 61194    0     0  80692      0 --:--:-- --:--:-- --:--:-- 80692\n"
     ]
    }
   ],
   "source": [
    "# 타이타닉 데이터\n",
    "!curl -L https://github.com/nayeho/harman2/raw/refs/heads/main/train.csv -o titanic.csv"
   ]
  },
  {
   "cell_type": "code",
   "execution_count": 84,
   "id": "706d91d2-df45-4d25-b7f6-d4efccdc12de",
   "metadata": {},
   "outputs": [
    {
     "data": {
      "text/plain": [
       "np.int64(342)"
      ]
     },
     "execution_count": 84,
     "metadata": {},
     "output_type": "execute_result"
    }
   ],
   "source": [
    "# 탑승객 중 생존한 사람의 수 (Survived == 1)\n",
    "# 데이터를 Table형태로 다룰 때\n",
    "# 각각의 column은 후보 key라는 개념을 갖는다!!\n",
    "# 타이타닉의 10번째 승객과 20번째 승객이 다른 Data임을 나타내는 column이 필요\n",
    "# PassengerId는 titanic data를 구분하기 위한 대표 column(primary key)이기 때문에\n",
    "# 모든 data가 가지고 있다(즉, 결측치가 없다)\n",
    "df_titanic[df_titanic[\"Survived\"] == 1][\"PassengerId\"].count()\n",
    "\n",
    "# 우리 5175만명의 국민\n",
    "# 각각을 구분하는 column\n",
    "# 5175만명의 정보 중 중복되지 않는 정보들 찾기 어렵다\n",
    "# 그렇다면 우리가 부여해버리자!! -> 주민등록번호\n",
    "\n",
    "\n",
    "# robot과정의 사람들 data -> 이름으로 구분 -> 중복 X -> 대표 column -> primary key\n",
    "# 대표 column이 될 가능성이 있는 column들을 후보 key\n",
    "# 이름 나이 MBTI\n",
    "# 나예호 20 ENFJ\n",
    "# 24명 \n",
    "\n"
   ]
  },
  {
   "cell_type": "code",
   "execution_count": 118,
   "id": "9a4c28a6-4a8e-47fe-a162-4b1190e85a9b",
   "metadata": {},
   "outputs": [
    {
     "name": "stdout",
     "output_type": "stream",
     "text": [
      "남성의 수: 577\n",
      "여성의 수: 314\n",
      "생존자 수: 342\n",
      "사망자 수: 549\n",
      "남성 + 생존 : 109\n",
      "여성 생존자 수: 274\n",
      "남성 사망자의 수: 513\n",
      "여성 사망자의 수: 32\n"
     ]
    },
    {
     "data": {
      "text/html": [
       "<div>\n",
       "<style scoped>\n",
       "    .dataframe tbody tr th:only-of-type {\n",
       "        vertical-align: middle;\n",
       "    }\n",
       "\n",
       "    .dataframe tbody tr th {\n",
       "        vertical-align: top;\n",
       "    }\n",
       "\n",
       "    .dataframe thead th {\n",
       "        text-align: right;\n",
       "    }\n",
       "</style>\n",
       "<table border=\"1\" class=\"dataframe\">\n",
       "  <thead>\n",
       "    <tr style=\"text-align: right;\">\n",
       "      <th></th>\n",
       "      <th>count</th>\n",
       "      <th>sum</th>\n",
       "    </tr>\n",
       "    <tr>\n",
       "      <th>Sex</th>\n",
       "      <th></th>\n",
       "      <th></th>\n",
       "    </tr>\n",
       "  </thead>\n",
       "  <tbody>\n",
       "    <tr>\n",
       "      <th>female</th>\n",
       "      <td>314</td>\n",
       "      <td>233</td>\n",
       "    </tr>\n",
       "    <tr>\n",
       "      <th>male</th>\n",
       "      <td>577</td>\n",
       "      <td>109</td>\n",
       "    </tr>\n",
       "  </tbody>\n",
       "</table>\n",
       "</div>"
      ],
      "text/plain": [
       "        count  sum\n",
       "Sex               \n",
       "female    314  233\n",
       "male      577  109"
      ]
     },
     "execution_count": 118,
     "metadata": {},
     "output_type": "execute_result"
    }
   ],
   "source": [
    "# 탑승객 중 \n",
    "# 1) 남성의 수 (Sex == \"male\")\n",
    "print(f\"\"\"남성의 수: {df_titanic[df_titanic[\"Sex\"] == \"male\"][\"PassengerId\"].count()\n",
    "}\"\"\")\n",
    "\n",
    "# 2) 여성의 수 (Sex == \"female\")\n",
    "print(f\"\"\"여성의 수: {df_titanic[df_titanic[\"Sex\"] == \"female\"][\"PassengerId\"].count()\n",
    "}\"\"\")\n",
    "\n",
    "# 3) 생존자 수 (Survived == 1)\n",
    "print(f\"\"\"생존자 수: {df_titanic[df_titanic[\"Survived\"] == 1][\"PassengerId\"].count()\n",
    "}\"\"\")\n",
    "\n",
    "# 4) 사망자 수 (Survived == 0)\n",
    "print(f\"\"\"사망자 수: {df_titanic[df_titanic[\"Survived\"] == 0][\"PassengerId\"].count()\n",
    "}\"\"\")\n",
    "\n",
    "# 5) 남성 + 생존\n",
    "print(f\"\"\"남성 + 생존 : {\n",
    "df_titanic[(df_titanic[\"Sex\"] == \"male\") & (df_titanic[\"Survived\"] == 1)][\"PassengerId\"].count()\n",
    "}\"\"\")\n",
    "\n",
    "\n",
    "# 6) 여성 + 생존\n",
    "print(f\"\"\"여성 생존자 수: {df_titanic[df_titanic[\"Sex\"] == \"female\"][\"PassengerId\"].count() & df_titanic[df_titanic[\"Survived\"] == 1][\"PassengerId\"].count()\n",
    "}\"\"\")\n",
    "\n",
    "# 7) 남성 + 사망\n",
    "print(f\"\"\"남성 사망자의 수: {df_titanic[df_titanic[\"Sex\"] == \"male\"][\"PassengerId\"].count() & df_titanic[df_titanic[\"Survived\"] == 0][\"PassengerId\"].count()\n",
    "}\"\"\")\n",
    "\n",
    "# 8) 여성 + 사망\n",
    "print(f\"\"\"여성 사망자의 수: {df_titanic[df_titanic[\"Sex\"] == \"female\"][\"PassengerId\"].count() \n",
    "& df_titanic[df_titanic[\"Survived\"] == 0][\"PassengerId\"].count()\n",
    "}\"\"\")\n",
    "\n",
    "# groupby()\n",
    "# 성별별 생존 column(생존1, 사망0)\n",
    "# count, sum\n",
    "df_titanic.groupby(\"Sex\")[\"Survived\"].agg([\"count\", \"sum\"])\n",
    "\n"
   ]
  },
  {
   "cell_type": "code",
   "execution_count": 119,
   "id": "0d30fff1-214e-4924-8dff-2721fe3e63dc",
   "metadata": {},
   "outputs": [
    {
     "data": {
      "text/html": [
       "<div>\n",
       "<style scoped>\n",
       "    .dataframe tbody tr th:only-of-type {\n",
       "        vertical-align: middle;\n",
       "    }\n",
       "\n",
       "    .dataframe tbody tr th {\n",
       "        vertical-align: top;\n",
       "    }\n",
       "\n",
       "    .dataframe thead th {\n",
       "        text-align: right;\n",
       "    }\n",
       "</style>\n",
       "<table border=\"1\" class=\"dataframe\">\n",
       "  <thead>\n",
       "    <tr style=\"text-align: right;\">\n",
       "      <th></th>\n",
       "      <th>count</th>\n",
       "      <th>sum</th>\n",
       "      <th>mean</th>\n",
       "    </tr>\n",
       "    <tr>\n",
       "      <th>Pclass</th>\n",
       "      <th></th>\n",
       "      <th></th>\n",
       "      <th></th>\n",
       "    </tr>\n",
       "  </thead>\n",
       "  <tbody>\n",
       "    <tr>\n",
       "      <th>1</th>\n",
       "      <td>216</td>\n",
       "      <td>136</td>\n",
       "      <td>0.629630</td>\n",
       "    </tr>\n",
       "    <tr>\n",
       "      <th>2</th>\n",
       "      <td>184</td>\n",
       "      <td>87</td>\n",
       "      <td>0.472826</td>\n",
       "    </tr>\n",
       "    <tr>\n",
       "      <th>3</th>\n",
       "      <td>491</td>\n",
       "      <td>119</td>\n",
       "      <td>0.242363</td>\n",
       "    </tr>\n",
       "  </tbody>\n",
       "</table>\n",
       "</div>"
      ],
      "text/plain": [
       "        count  sum      mean\n",
       "Pclass                      \n",
       "1         216  136  0.629630\n",
       "2         184   87  0.472826\n",
       "3         491  119  0.242363"
      ]
     },
     "execution_count": 119,
     "metadata": {},
     "output_type": "execute_result"
    }
   ],
   "source": [
    "# Pclass 객실등급\n",
    "# 객실등급별 총 인원, 생존자 수 확인!!\n",
    "\n",
    "df_titanic.groupby(\"Pclass\")[\"Survived\"].agg([\"count\", \"sum\", \"mean\"])"
   ]
  },
  {
   "cell_type": "code",
   "execution_count": 122,
   "id": "b18775f7-ea4b-4113-97ba-582a641cd362",
   "metadata": {},
   "outputs": [
    {
     "data": {
      "text/plain": [
       "Pclass\n",
       "3    491\n",
       "1    216\n",
       "2    184\n",
       "Name: count, dtype: int64"
      ]
     },
     "execution_count": 122,
     "metadata": {},
     "output_type": "execute_result"
    }
   ],
   "source": [
    "# 남성의 수, 여성의 수\n",
    "df_titanic[\"Sex\"].value_counts()\n",
    "\n",
    "# 생존, 사망 여부\n",
    "df_titanic[\"Survived\"].value_counts()\n",
    "\n",
    "# 객실 등급별 인원\n",
    "df_titanic[\"Pclass\"].value_counts()"
   ]
  },
  {
   "cell_type": "code",
   "execution_count": 212,
   "id": "b93f92f7-edfc-4b72-b45a-8af4576feadd",
   "metadata": {},
   "outputs": [
    {
     "ename": "KeyError",
     "evalue": "\"['SibSp', 'Parch', 'Ticket', 'Fare', 'Cabin', 'Embarked'] not found in axis\"",
     "output_type": "error",
     "traceback": [
      "\u001b[1;31m---------------------------------------------------------------------------\u001b[0m",
      "\u001b[1;31mKeyError\u001b[0m                                  Traceback (most recent call last)",
      "Cell \u001b[1;32mIn[212], line 6\u001b[0m\n\u001b[0;32m      1\u001b[0m \u001b[38;5;66;03m# 통계적인 데이터는 문자열 나오지 않는다!\u001b[39;00m\n\u001b[0;32m      2\u001b[0m \u001b[38;5;66;03m# 타이타닉의 male, female을 1, 0으로 변환 적용\u001b[39;00m\n\u001b[0;32m      3\u001b[0m \n\u001b[0;32m      4\u001b[0m \u001b[38;5;66;03m# 필요 없는 column 지우고 가자\u001b[39;00m\n\u001b[0;32m      5\u001b[0m \u001b[38;5;66;03m# 데이터프레임명.drop\u001b[39;00m\n\u001b[1;32m----> 6\u001b[0m \u001b[43mdf_titanic\u001b[49m\u001b[38;5;241;43m.\u001b[39;49m\u001b[43mdrop\u001b[49m\u001b[43m(\u001b[49m\u001b[43mcolumns\u001b[49m\u001b[38;5;241;43m=\u001b[39;49m\u001b[43m[\u001b[49m\u001b[38;5;124;43m\"\u001b[39;49m\u001b[38;5;124;43mSibSp\u001b[39;49m\u001b[38;5;124;43m\"\u001b[39;49m\u001b[43m,\u001b[49m\u001b[43m \u001b[49m\u001b[38;5;124;43m\"\u001b[39;49m\u001b[38;5;124;43mParch\u001b[39;49m\u001b[38;5;124;43m\"\u001b[39;49m\u001b[43m,\u001b[49m\u001b[43m \u001b[49m\u001b[38;5;124;43m\"\u001b[39;49m\u001b[38;5;124;43mTicket\u001b[39;49m\u001b[38;5;124;43m\"\u001b[39;49m\u001b[43m,\u001b[49m\u001b[43m \u001b[49m\u001b[38;5;124;43m\"\u001b[39;49m\u001b[38;5;124;43mFare\u001b[39;49m\u001b[38;5;124;43m\"\u001b[39;49m\u001b[43m,\u001b[49m\u001b[43m \u001b[49m\u001b[38;5;124;43m\"\u001b[39;49m\u001b[38;5;124;43mCabin\u001b[39;49m\u001b[38;5;124;43m\"\u001b[39;49m\u001b[43m,\u001b[49m\u001b[43m \u001b[49m\u001b[38;5;124;43m\"\u001b[39;49m\u001b[38;5;124;43mEmbarked\u001b[39;49m\u001b[38;5;124;43m\"\u001b[39;49m\u001b[43m]\u001b[49m\u001b[43m,\u001b[49m\u001b[43m \u001b[49m\u001b[43minplace\u001b[49m\u001b[38;5;241;43m=\u001b[39;49m\u001b[38;5;28;43;01mTrue\u001b[39;49;00m\u001b[43m)\u001b[49m\n\u001b[0;32m      7\u001b[0m df_titanic\n",
      "File \u001b[1;32mC:\\ProgramData\\anaconda3\\envs\\myenv\\lib\\site-packages\\pandas\\core\\frame.py:5588\u001b[0m, in \u001b[0;36mDataFrame.drop\u001b[1;34m(self, labels, axis, index, columns, level, inplace, errors)\u001b[0m\n\u001b[0;32m   5440\u001b[0m \u001b[38;5;28;01mdef\u001b[39;00m\u001b[38;5;250m \u001b[39m\u001b[38;5;21mdrop\u001b[39m(\n\u001b[0;32m   5441\u001b[0m     \u001b[38;5;28mself\u001b[39m,\n\u001b[0;32m   5442\u001b[0m     labels: IndexLabel \u001b[38;5;241m|\u001b[39m \u001b[38;5;28;01mNone\u001b[39;00m \u001b[38;5;241m=\u001b[39m \u001b[38;5;28;01mNone\u001b[39;00m,\n\u001b[1;32m   (...)\u001b[0m\n\u001b[0;32m   5449\u001b[0m     errors: IgnoreRaise \u001b[38;5;241m=\u001b[39m \u001b[38;5;124m\"\u001b[39m\u001b[38;5;124mraise\u001b[39m\u001b[38;5;124m\"\u001b[39m,\n\u001b[0;32m   5450\u001b[0m ) \u001b[38;5;241m-\u001b[39m\u001b[38;5;241m>\u001b[39m DataFrame \u001b[38;5;241m|\u001b[39m \u001b[38;5;28;01mNone\u001b[39;00m:\n\u001b[0;32m   5451\u001b[0m \u001b[38;5;250m    \u001b[39m\u001b[38;5;124;03m\"\"\"\u001b[39;00m\n\u001b[0;32m   5452\u001b[0m \u001b[38;5;124;03m    Drop specified labels from rows or columns.\u001b[39;00m\n\u001b[0;32m   5453\u001b[0m \n\u001b[1;32m   (...)\u001b[0m\n\u001b[0;32m   5586\u001b[0m \u001b[38;5;124;03m            weight  1.0     0.8\u001b[39;00m\n\u001b[0;32m   5587\u001b[0m \u001b[38;5;124;03m    \"\"\"\u001b[39;00m\n\u001b[1;32m-> 5588\u001b[0m     \u001b[38;5;28;01mreturn\u001b[39;00m \u001b[38;5;28;43msuper\u001b[39;49m\u001b[43m(\u001b[49m\u001b[43m)\u001b[49m\u001b[38;5;241;43m.\u001b[39;49m\u001b[43mdrop\u001b[49m\u001b[43m(\u001b[49m\n\u001b[0;32m   5589\u001b[0m \u001b[43m        \u001b[49m\u001b[43mlabels\u001b[49m\u001b[38;5;241;43m=\u001b[39;49m\u001b[43mlabels\u001b[49m\u001b[43m,\u001b[49m\n\u001b[0;32m   5590\u001b[0m \u001b[43m        \u001b[49m\u001b[43maxis\u001b[49m\u001b[38;5;241;43m=\u001b[39;49m\u001b[43maxis\u001b[49m\u001b[43m,\u001b[49m\n\u001b[0;32m   5591\u001b[0m \u001b[43m        \u001b[49m\u001b[43mindex\u001b[49m\u001b[38;5;241;43m=\u001b[39;49m\u001b[43mindex\u001b[49m\u001b[43m,\u001b[49m\n\u001b[0;32m   5592\u001b[0m \u001b[43m        \u001b[49m\u001b[43mcolumns\u001b[49m\u001b[38;5;241;43m=\u001b[39;49m\u001b[43mcolumns\u001b[49m\u001b[43m,\u001b[49m\n\u001b[0;32m   5593\u001b[0m \u001b[43m        \u001b[49m\u001b[43mlevel\u001b[49m\u001b[38;5;241;43m=\u001b[39;49m\u001b[43mlevel\u001b[49m\u001b[43m,\u001b[49m\n\u001b[0;32m   5594\u001b[0m \u001b[43m        \u001b[49m\u001b[43minplace\u001b[49m\u001b[38;5;241;43m=\u001b[39;49m\u001b[43minplace\u001b[49m\u001b[43m,\u001b[49m\n\u001b[0;32m   5595\u001b[0m \u001b[43m        \u001b[49m\u001b[43merrors\u001b[49m\u001b[38;5;241;43m=\u001b[39;49m\u001b[43merrors\u001b[49m\u001b[43m,\u001b[49m\n\u001b[0;32m   5596\u001b[0m \u001b[43m    \u001b[49m\u001b[43m)\u001b[49m\n",
      "File \u001b[1;32mC:\\ProgramData\\anaconda3\\envs\\myenv\\lib\\site-packages\\pandas\\core\\generic.py:4807\u001b[0m, in \u001b[0;36mNDFrame.drop\u001b[1;34m(self, labels, axis, index, columns, level, inplace, errors)\u001b[0m\n\u001b[0;32m   4805\u001b[0m \u001b[38;5;28;01mfor\u001b[39;00m axis, labels \u001b[38;5;129;01min\u001b[39;00m axes\u001b[38;5;241m.\u001b[39mitems():\n\u001b[0;32m   4806\u001b[0m     \u001b[38;5;28;01mif\u001b[39;00m labels \u001b[38;5;129;01mis\u001b[39;00m \u001b[38;5;129;01mnot\u001b[39;00m \u001b[38;5;28;01mNone\u001b[39;00m:\n\u001b[1;32m-> 4807\u001b[0m         obj \u001b[38;5;241m=\u001b[39m \u001b[43mobj\u001b[49m\u001b[38;5;241;43m.\u001b[39;49m\u001b[43m_drop_axis\u001b[49m\u001b[43m(\u001b[49m\u001b[43mlabels\u001b[49m\u001b[43m,\u001b[49m\u001b[43m \u001b[49m\u001b[43maxis\u001b[49m\u001b[43m,\u001b[49m\u001b[43m \u001b[49m\u001b[43mlevel\u001b[49m\u001b[38;5;241;43m=\u001b[39;49m\u001b[43mlevel\u001b[49m\u001b[43m,\u001b[49m\u001b[43m \u001b[49m\u001b[43merrors\u001b[49m\u001b[38;5;241;43m=\u001b[39;49m\u001b[43merrors\u001b[49m\u001b[43m)\u001b[49m\n\u001b[0;32m   4809\u001b[0m \u001b[38;5;28;01mif\u001b[39;00m inplace:\n\u001b[0;32m   4810\u001b[0m     \u001b[38;5;28mself\u001b[39m\u001b[38;5;241m.\u001b[39m_update_inplace(obj)\n",
      "File \u001b[1;32mC:\\ProgramData\\anaconda3\\envs\\myenv\\lib\\site-packages\\pandas\\core\\generic.py:4849\u001b[0m, in \u001b[0;36mNDFrame._drop_axis\u001b[1;34m(self, labels, axis, level, errors, only_slice)\u001b[0m\n\u001b[0;32m   4847\u001b[0m         new_axis \u001b[38;5;241m=\u001b[39m axis\u001b[38;5;241m.\u001b[39mdrop(labels, level\u001b[38;5;241m=\u001b[39mlevel, errors\u001b[38;5;241m=\u001b[39merrors)\n\u001b[0;32m   4848\u001b[0m     \u001b[38;5;28;01melse\u001b[39;00m:\n\u001b[1;32m-> 4849\u001b[0m         new_axis \u001b[38;5;241m=\u001b[39m \u001b[43maxis\u001b[49m\u001b[38;5;241;43m.\u001b[39;49m\u001b[43mdrop\u001b[49m\u001b[43m(\u001b[49m\u001b[43mlabels\u001b[49m\u001b[43m,\u001b[49m\u001b[43m \u001b[49m\u001b[43merrors\u001b[49m\u001b[38;5;241;43m=\u001b[39;49m\u001b[43merrors\u001b[49m\u001b[43m)\u001b[49m\n\u001b[0;32m   4850\u001b[0m     indexer \u001b[38;5;241m=\u001b[39m axis\u001b[38;5;241m.\u001b[39mget_indexer(new_axis)\n\u001b[0;32m   4852\u001b[0m \u001b[38;5;66;03m# Case for non-unique axis\u001b[39;00m\n\u001b[0;32m   4853\u001b[0m \u001b[38;5;28;01melse\u001b[39;00m:\n",
      "File \u001b[1;32mC:\\ProgramData\\anaconda3\\envs\\myenv\\lib\\site-packages\\pandas\\core\\indexes\\base.py:7136\u001b[0m, in \u001b[0;36mIndex.drop\u001b[1;34m(self, labels, errors)\u001b[0m\n\u001b[0;32m   7134\u001b[0m \u001b[38;5;28;01mif\u001b[39;00m mask\u001b[38;5;241m.\u001b[39many():\n\u001b[0;32m   7135\u001b[0m     \u001b[38;5;28;01mif\u001b[39;00m errors \u001b[38;5;241m!=\u001b[39m \u001b[38;5;124m\"\u001b[39m\u001b[38;5;124mignore\u001b[39m\u001b[38;5;124m\"\u001b[39m:\n\u001b[1;32m-> 7136\u001b[0m         \u001b[38;5;28;01mraise\u001b[39;00m \u001b[38;5;167;01mKeyError\u001b[39;00m(\u001b[38;5;124mf\u001b[39m\u001b[38;5;124m\"\u001b[39m\u001b[38;5;132;01m{\u001b[39;00mlabels[mask]\u001b[38;5;241m.\u001b[39mtolist()\u001b[38;5;132;01m}\u001b[39;00m\u001b[38;5;124m not found in axis\u001b[39m\u001b[38;5;124m\"\u001b[39m)\n\u001b[0;32m   7137\u001b[0m     indexer \u001b[38;5;241m=\u001b[39m indexer[\u001b[38;5;241m~\u001b[39mmask]\n\u001b[0;32m   7138\u001b[0m \u001b[38;5;28;01mreturn\u001b[39;00m \u001b[38;5;28mself\u001b[39m\u001b[38;5;241m.\u001b[39mdelete(indexer)\n",
      "\u001b[1;31mKeyError\u001b[0m: \"['SibSp', 'Parch', 'Ticket', 'Fare', 'Cabin', 'Embarked'] not found in axis\""
     ]
    }
   ],
   "source": [
    "# 통계적인 데이터는 문자열 나오지 않는다!\n",
    "# 타이타닉의 male, female을 1, 0으로 변환 적용\n",
    "\n",
    "# 필요 없는 column 지우고 가자\n",
    "# 데이터프레임명.drop\n",
    "df_titanic.drop(columns=[\"SibSp\", \"Parch\", \"Ticket\", \"Fare\", \"Cabin\", \"Embarked\"], inplace=True)\n",
    "df_titanic"
   ]
  },
  {
   "cell_type": "code",
   "execution_count": 133,
   "id": "def0bac3-9035-4321-b97f-ee61cfba2441",
   "metadata": {},
   "outputs": [
    {
     "data": {
      "text/html": [
       "<div>\n",
       "<style scoped>\n",
       "    .dataframe tbody tr th:only-of-type {\n",
       "        vertical-align: middle;\n",
       "    }\n",
       "\n",
       "    .dataframe tbody tr th {\n",
       "        vertical-align: top;\n",
       "    }\n",
       "\n",
       "    .dataframe thead th {\n",
       "        text-align: right;\n",
       "    }\n",
       "</style>\n",
       "<table border=\"1\" class=\"dataframe\">\n",
       "  <thead>\n",
       "    <tr style=\"text-align: right;\">\n",
       "      <th></th>\n",
       "      <th>PassengerId</th>\n",
       "      <th>Survived</th>\n",
       "      <th>Pclass</th>\n",
       "      <th>Name</th>\n",
       "      <th>Sex</th>\n",
       "      <th>Age</th>\n",
       "      <th>Male</th>\n",
       "    </tr>\n",
       "  </thead>\n",
       "  <tbody>\n",
       "    <tr>\n",
       "      <th>0</th>\n",
       "      <td>1</td>\n",
       "      <td>0</td>\n",
       "      <td>3</td>\n",
       "      <td>Braund, Mr. Owen Harris</td>\n",
       "      <td>male</td>\n",
       "      <td>22.0</td>\n",
       "      <td>1</td>\n",
       "    </tr>\n",
       "    <tr>\n",
       "      <th>1</th>\n",
       "      <td>2</td>\n",
       "      <td>1</td>\n",
       "      <td>1</td>\n",
       "      <td>Cumings, Mrs. John Bradley (Florence Briggs Th...</td>\n",
       "      <td>female</td>\n",
       "      <td>38.0</td>\n",
       "      <td>0</td>\n",
       "    </tr>\n",
       "    <tr>\n",
       "      <th>2</th>\n",
       "      <td>3</td>\n",
       "      <td>1</td>\n",
       "      <td>3</td>\n",
       "      <td>Heikkinen, Miss. Laina</td>\n",
       "      <td>female</td>\n",
       "      <td>26.0</td>\n",
       "      <td>0</td>\n",
       "    </tr>\n",
       "    <tr>\n",
       "      <th>3</th>\n",
       "      <td>4</td>\n",
       "      <td>1</td>\n",
       "      <td>1</td>\n",
       "      <td>Futrelle, Mrs. Jacques Heath (Lily May Peel)</td>\n",
       "      <td>female</td>\n",
       "      <td>35.0</td>\n",
       "      <td>0</td>\n",
       "    </tr>\n",
       "    <tr>\n",
       "      <th>4</th>\n",
       "      <td>5</td>\n",
       "      <td>0</td>\n",
       "      <td>3</td>\n",
       "      <td>Allen, Mr. William Henry</td>\n",
       "      <td>male</td>\n",
       "      <td>35.0</td>\n",
       "      <td>1</td>\n",
       "    </tr>\n",
       "    <tr>\n",
       "      <th>...</th>\n",
       "      <td>...</td>\n",
       "      <td>...</td>\n",
       "      <td>...</td>\n",
       "      <td>...</td>\n",
       "      <td>...</td>\n",
       "      <td>...</td>\n",
       "      <td>...</td>\n",
       "    </tr>\n",
       "    <tr>\n",
       "      <th>886</th>\n",
       "      <td>887</td>\n",
       "      <td>0</td>\n",
       "      <td>2</td>\n",
       "      <td>Montvila, Rev. Juozas</td>\n",
       "      <td>male</td>\n",
       "      <td>27.0</td>\n",
       "      <td>1</td>\n",
       "    </tr>\n",
       "    <tr>\n",
       "      <th>887</th>\n",
       "      <td>888</td>\n",
       "      <td>1</td>\n",
       "      <td>1</td>\n",
       "      <td>Graham, Miss. Margaret Edith</td>\n",
       "      <td>female</td>\n",
       "      <td>19.0</td>\n",
       "      <td>0</td>\n",
       "    </tr>\n",
       "    <tr>\n",
       "      <th>888</th>\n",
       "      <td>889</td>\n",
       "      <td>0</td>\n",
       "      <td>3</td>\n",
       "      <td>Johnston, Miss. Catherine Helen \"Carrie\"</td>\n",
       "      <td>female</td>\n",
       "      <td>NaN</td>\n",
       "      <td>0</td>\n",
       "    </tr>\n",
       "    <tr>\n",
       "      <th>889</th>\n",
       "      <td>890</td>\n",
       "      <td>1</td>\n",
       "      <td>1</td>\n",
       "      <td>Behr, Mr. Karl Howell</td>\n",
       "      <td>male</td>\n",
       "      <td>26.0</td>\n",
       "      <td>1</td>\n",
       "    </tr>\n",
       "    <tr>\n",
       "      <th>890</th>\n",
       "      <td>891</td>\n",
       "      <td>0</td>\n",
       "      <td>3</td>\n",
       "      <td>Dooley, Mr. Patrick</td>\n",
       "      <td>male</td>\n",
       "      <td>32.0</td>\n",
       "      <td>1</td>\n",
       "    </tr>\n",
       "  </tbody>\n",
       "</table>\n",
       "<p>891 rows × 7 columns</p>\n",
       "</div>"
      ],
      "text/plain": [
       "     PassengerId  Survived  Pclass  \\\n",
       "0              1         0       3   \n",
       "1              2         1       1   \n",
       "2              3         1       3   \n",
       "3              4         1       1   \n",
       "4              5         0       3   \n",
       "..           ...       ...     ...   \n",
       "886          887         0       2   \n",
       "887          888         1       1   \n",
       "888          889         0       3   \n",
       "889          890         1       1   \n",
       "890          891         0       3   \n",
       "\n",
       "                                                  Name     Sex   Age  Male  \n",
       "0                              Braund, Mr. Owen Harris    male  22.0     1  \n",
       "1    Cumings, Mrs. John Bradley (Florence Briggs Th...  female  38.0     0  \n",
       "2                               Heikkinen, Miss. Laina  female  26.0     0  \n",
       "3         Futrelle, Mrs. Jacques Heath (Lily May Peel)  female  35.0     0  \n",
       "4                             Allen, Mr. William Henry    male  35.0     1  \n",
       "..                                                 ...     ...   ...   ...  \n",
       "886                              Montvila, Rev. Juozas    male  27.0     1  \n",
       "887                       Graham, Miss. Margaret Edith  female  19.0     0  \n",
       "888           Johnston, Miss. Catherine Helen \"Carrie\"  female   NaN     0  \n",
       "889                              Behr, Mr. Karl Howell    male  26.0     1  \n",
       "890                                Dooley, Mr. Patrick    male  32.0     1  \n",
       "\n",
       "[891 rows x 7 columns]"
      ]
     },
     "execution_count": 133,
     "metadata": {},
     "output_type": "execute_result"
    }
   ],
   "source": [
    "def is_male(sex):\n",
    "    if sex == \"male\":\n",
    "        return 1\n",
    "    else:\n",
    "        return 0\n",
    "\n",
    "df_titanic[\"Male\"] = df_titanic[\"Sex\"].apply(is_male)\n",
    "df_titanic"
   ]
  },
  {
   "cell_type": "code",
   "execution_count": 135,
   "id": "3218c3ef-536e-4bfd-972c-ff0a9fd8a20c",
   "metadata": {},
   "outputs": [
    {
     "name": "stdout",
     "output_type": "stream",
     "text": [
      "30\n"
     ]
    },
    {
     "data": {
      "text/plain": [
       "300"
      ]
     },
     "execution_count": 135,
     "metadata": {},
     "output_type": "execute_result"
    }
   ],
   "source": [
    "# Python에서\n",
    "# 함수 정의(메모리에 올라감) -> 사용\n",
    "# 메모리에 올라가는 함수가 지속적으로 사용하지 않고 일회성으로 사용되는 함수\n",
    "# 만들자마자 쓰고 버림\n",
    "# Lambda Expression (람다 표현식)\n",
    "\n",
    "def add(num1, num2):\n",
    "    return num1 + num2\n",
    "print(add(10, 20))\n",
    "\n",
    "# (함수명(매개변수) : 리턴값)(전달 인자)\n",
    "(lambda num1, num2 : num1 + num2)(100, 200)"
   ]
  },
  {
   "cell_type": "code",
   "execution_count": 147,
   "id": "a1832790-b43c-4598-bb30-49e12afbca76",
   "metadata": {},
   "outputs": [
    {
     "data": {
      "text/html": [
       "<div>\n",
       "<style scoped>\n",
       "    .dataframe tbody tr th:only-of-type {\n",
       "        vertical-align: middle;\n",
       "    }\n",
       "\n",
       "    .dataframe tbody tr th {\n",
       "        vertical-align: top;\n",
       "    }\n",
       "\n",
       "    .dataframe thead th {\n",
       "        text-align: right;\n",
       "    }\n",
       "</style>\n",
       "<table border=\"1\" class=\"dataframe\">\n",
       "  <thead>\n",
       "    <tr style=\"text-align: right;\">\n",
       "      <th></th>\n",
       "      <th>Survived</th>\n",
       "      <th>Age</th>\n",
       "      <th>Male</th>\n",
       "      <th>Female</th>\n",
       "    </tr>\n",
       "  </thead>\n",
       "  <tbody>\n",
       "    <tr>\n",
       "      <th>Survived</th>\n",
       "      <td>1.000000</td>\n",
       "      <td>-0.077221</td>\n",
       "      <td>-0.543351</td>\n",
       "      <td>0.543351</td>\n",
       "    </tr>\n",
       "    <tr>\n",
       "      <th>Age</th>\n",
       "      <td>-0.077221</td>\n",
       "      <td>1.000000</td>\n",
       "      <td>0.093254</td>\n",
       "      <td>-0.093254</td>\n",
       "    </tr>\n",
       "    <tr>\n",
       "      <th>Male</th>\n",
       "      <td>-0.543351</td>\n",
       "      <td>0.093254</td>\n",
       "      <td>1.000000</td>\n",
       "      <td>-1.000000</td>\n",
       "    </tr>\n",
       "    <tr>\n",
       "      <th>Female</th>\n",
       "      <td>0.543351</td>\n",
       "      <td>-0.093254</td>\n",
       "      <td>-1.000000</td>\n",
       "      <td>1.000000</td>\n",
       "    </tr>\n",
       "  </tbody>\n",
       "</table>\n",
       "</div>"
      ],
      "text/plain": [
       "          Survived       Age      Male    Female\n",
       "Survived  1.000000 -0.077221 -0.543351  0.543351\n",
       "Age      -0.077221  1.000000  0.093254 -0.093254\n",
       "Male     -0.543351  0.093254  1.000000 -1.000000\n",
       "Female    0.543351 -0.093254 -1.000000  1.000000"
      ]
     },
     "execution_count": 147,
     "metadata": {},
     "output_type": "execute_result"
    }
   ],
   "source": [
    "df_titanic[\"Female\"] = df_titanic[\"Sex\"].apply(lambda x : 1 if x == \"female\" else 0)\n",
    "df_titanic.describe()\n",
    "\n",
    "# correlation (상관분석)\n",
    "df_titanic[[\"Survived\", \"Age\", \"Male\", \"Female\"]].corr()\n",
    "\n",
    "# 비가 오면 우산 판매량이 늘어난다\n",
    "# 여름이 되면 빙그레 주가가 올라간다\n",
    "# +1에 가까울 수록 상관관계가 높다\n",
    "# +0.7 이상이면 강한 상관관계가 있다\n",
    "# +0.7 ~ 0.4 상관관계가 있다\n",
    "\n",
    "# -1에 가까울 수록 음의 상관관계가 있다 \n",
    "# -0.7 이하이면 강한 음의 상관관계가 있다\n",
    "# -0.4 ~ -0.7 상관관계가 있다"
   ]
  },
  {
   "cell_type": "code",
   "execution_count": 149,
   "id": "f64b10e0-ff07-4d74-926d-8b931cc69429",
   "metadata": {},
   "outputs": [
    {
     "data": {
      "text/html": [
       "<div>\n",
       "<style scoped>\n",
       "    .dataframe tbody tr th:only-of-type {\n",
       "        vertical-align: middle;\n",
       "    }\n",
       "\n",
       "    .dataframe tbody tr th {\n",
       "        vertical-align: top;\n",
       "    }\n",
       "\n",
       "    .dataframe thead th {\n",
       "        text-align: right;\n",
       "    }\n",
       "</style>\n",
       "<table border=\"1\" class=\"dataframe\">\n",
       "  <thead>\n",
       "    <tr style=\"text-align: right;\">\n",
       "      <th></th>\n",
       "      <th>Total</th>\n",
       "      <th>Generation</th>\n",
       "      <th>Legend</th>\n",
       "    </tr>\n",
       "  </thead>\n",
       "  <tbody>\n",
       "    <tr>\n",
       "      <th>Total</th>\n",
       "      <td>1.000000</td>\n",
       "      <td>0.048384</td>\n",
       "      <td>0.501758</td>\n",
       "    </tr>\n",
       "    <tr>\n",
       "      <th>Generation</th>\n",
       "      <td>0.048384</td>\n",
       "      <td>1.000000</td>\n",
       "      <td>0.079794</td>\n",
       "    </tr>\n",
       "    <tr>\n",
       "      <th>Legend</th>\n",
       "      <td>0.501758</td>\n",
       "      <td>0.079794</td>\n",
       "      <td>1.000000</td>\n",
       "    </tr>\n",
       "  </tbody>\n",
       "</table>\n",
       "</div>"
      ],
      "text/plain": [
       "               Total  Generation    Legend\n",
       "Total       1.000000    0.048384  0.501758\n",
       "Generation  0.048384    1.000000  0.079794\n",
       "Legend      0.501758    0.079794  1.000000"
      ]
     },
     "execution_count": 149,
     "metadata": {},
     "output_type": "execute_result"
    }
   ],
   "source": [
    "df_pokemon[\"Legend\"] = df_pokemon[\"Legendary\"].apply(lambda x : 1 if x else 0)\n",
    "df_pokemon[[\"Total\", \"Generation\", \"Legend\"]].corr()"
   ]
  },
  {
   "cell_type": "code",
   "execution_count": 154,
   "id": "9c74457e-8f4d-4565-bc82-77fb8a7f3089",
   "metadata": {},
   "outputs": [
    {
     "name": "stdout",
     "output_type": "stream",
     "text": [
      "원본 : ['솔의 눈', '데자와', '닥터페퍼', 'ZICO']\n",
      "복사본 : ['솔의 눈', '데자와', '닥터페퍼', 'ZICO']\n",
      "복사본 : ['솔의 눈', '실론티', '닥터페퍼', 'ZICO']\n",
      "원본 : ['솔의 눈', '실론티', '닥터페퍼', 'ZICO']\n",
      "원본 : ['솔의 눈', '실론티', '닥터페퍼', 'ZICO']\n",
      "복사본2 : ['솔의 눈', '실론티', '닥터페퍼', 'ZICO']\n",
      "복사본2 : ['솔의 눈', '실론티', '닥터페퍼', '아침햇살']\n",
      "원본 : ['솔의 눈', '실론티', '닥터페퍼', 'ZICO']\n"
     ]
    }
   ],
   "source": [
    "list_drink = [\"솔의 눈\", \"데자와\", \"닥터페퍼\", \"ZICO\"]\n",
    "print(\"원본 :\", list_drink)\n",
    "\n",
    "list_copy = list_drink # 얕은 복사!! (주소만 복사)\n",
    "print(\"복사본 :\", list_copy)\n",
    "list_copy[1] = \"실론티\"\n",
    "print(\"복사본 :\", list_copy)\n",
    "\n",
    "print(\"원본 :\", list_drink)\n",
    "\n",
    "# 깊은 복사\n",
    "list_copy2 = list_drink.copy() # 깊은 복사 (주소 따로, 값 복사!!)\n",
    "# copy2 내용이 변경되더라도 원본에 영향 X\n",
    "print(\"원본 :\", list_drink)\n",
    "print(\"복사본2 :\", list_copy2)\n",
    "list_copy2[3] = \"아침햇살\"\n",
    "print(\"복사본2 :\", list_copy2)\n",
    "print(\"원본 :\", list_drink)"
   ]
  },
  {
   "cell_type": "code",
   "execution_count": null,
   "id": "35ce35e8-f551-4f27-bfec-6cc3ba3217f6",
   "metadata": {},
   "outputs": [],
   "source": [
    "df_tt = df_titanic # 얕은 복사\n",
    "# df_tt의 내용 변경 -> 원본까지 영향\n",
    "df_tt2 = df_titanic.copy() # 깊은 복사\n",
    "\n",
    "# 이상치 결측치 9/9 진행"
   ]
  },
  {
   "cell_type": "code",
   "execution_count": 168,
   "id": "6b213496-06d7-47fb-b3c4-96996f0a1854",
   "metadata": {},
   "outputs": [
    {
     "data": {
      "image/png": "[encoded data removed]",
      "text/plain": [
       "<Figure size 640x480 with 1 Axes>"
      ]
     },
     "metadata": {},
     "output_type": "display_data"
    }
   ],
   "source": [
    "# 시각화 (Visualization)\n",
    "# matplotlib\n",
    "import matplotlib.pyplot as plt\n",
    "\n",
    "# 선 그래프(line-plot)\n",
    "# plt.figure(figsize=(6, 3)) # 크기 정하기\n",
    "x = [1, 2, 3, 4, 5]\n",
    "y = [10, 20, 30, 35, 40]\n",
    "plt.xlabel(\"study time(hour)\")\n",
    "plt.ylabel(\"python score by study time\")\n",
    "plt.grid(True)\n",
    "plt.plot(x, y, marker=\"o\", color=\"purple\", linestyle=\":\")\n",
    "plt.show()\n"
   ]
  },
  {
   "cell_type": "code",
   "execution_count": 170,
   "id": "e404f5e4-6d3a-440f-9378-bf824cd2ea11",
   "metadata": {},
   "outputs": [
    {
     "data": {
      "image/png": "[encoded data removed]",
      "text/plain": [
       "<Figure size 300x200 with 1 Axes>"
      ]
     },
     "metadata": {},
     "output_type": "display_data"
    }
   ],
   "source": [
    "# 막대 그래프 (Bar Plot)\n",
    "categories = [\"A\", \"B\", \"C\", \"D\"]\n",
    "values = [15, 22, 30, 18]\n",
    "\n",
    "plt.figure(figsize=(3,2))\n",
    "plt.bar(categories, values)\n",
    "plt.show()"
   ]
  },
  {
   "cell_type": "code",
   "execution_count": 171,
   "id": "682b8f6d-9598-40c2-bbbc-2c69c96b6be6",
   "metadata": {},
   "outputs": [
    {
     "data": {
      "image/png": "[encoded data removed]",
      "text/plain": [
       "<Figure size 300x200 with 1 Axes>"
      ]
     },
     "metadata": {},
     "output_type": "display_data"
    }
   ],
   "source": [
    "# 포켓몬 세대별 Total 평균\n",
    "x_pokemon = df_pokemon[\"Generation\"].unique()\n",
    "y_pokemon = df_pokemon.groupby(\"Generation\")[\"Total\"].mean()\n",
    "\n",
    "plt.figure(figsize=(3, 2))\n",
    "plt.bar(x_pokemon, y_pokemon)\n",
    "plt.show()"
   ]
  },
  {
   "cell_type": "code",
   "execution_count": 177,
   "id": "61a72d61-0d23-4521-9d2a-6e012d8d7afd",
   "metadata": {},
   "outputs": [
    {
     "data": {
      "image/png": "[encoded data removed]",
      "text/plain": [
       "<Figure size 1800x1000 with 1 Axes>"
      ]
     },
     "metadata": {},
     "output_type": "display_data"
    }
   ],
   "source": [
    "# 포켓몬 Type 1별 Total 평균을 막대 그래프로 표현\n",
    "x_type1 = df_pokemon[\"Type 1\"].unique()\n",
    "y_type2 = df_pokemon.groupby(\"Type 1\")[\"Total\"].mean()\n",
    "\n",
    "plt.figure(figsize=(18, 10))\n",
    "plt.bar(x_type1, y_type2)\n",
    "plt.show()"
   ]
  },
  {
   "cell_type": "code",
   "execution_count": 188,
   "id": "67f876bd-3400-41b2-99ee-81957727e2bb",
   "metadata": {},
   "outputs": [
    {
     "data": {
      "image/png": "[encoded data removed]",
      "text/plain": [
       "<Figure size 640x480 with 1 Axes>"
      ]
     },
     "metadata": {},
     "output_type": "display_data"
    }
   ],
   "source": [
    "# 파이 차트(Pie Chart)\n",
    "# 포켓몬 레전더리 유무\n",
    "legend_count = df_pokemon[\"Legend\"].value_counts()\n",
    "plt.pie(legend_count, labels=legend_count.index, autopct=\"%.1f%%\", startangle=90)\n",
    "plt.show()"
   ]
  },
  {
   "cell_type": "code",
   "execution_count": 201,
   "id": "14448d7c-e1be-48ce-875f-e308cccc1c22",
   "metadata": {},
   "outputs": [
    {
     "data": {
      "image/png": "[encoded data removed]",
      "text/plain": [
       "<Figure size 640x480 with 1 Axes>"
      ]
     },
     "metadata": {},
     "output_type": "display_data"
    }
   ],
   "source": [
    "# 산정도 (Scatter Plot)\n",
    "# 키, 몸무게 데이터 (가상)\n",
    "np.random.seed(41) # 재현성을 위해 시드 고정\n",
    "height = np.random.normal(172, 12, 100) # 평균 172, 표준편차 12, 100개 데이터\n",
    "weight = height- 110 + np.random.normal(0, 5, 100)\n",
    "\n",
    "plt.xlabel(\"height (cm)\")\n",
    "plt.ylabel(\"weight (kg)\")\n",
    "plt.scatter(height, weight, c=weight, s=50, alpha=0.7) # c = 색깔, s = 점크기, alpha = 투명도\n",
    "plt.show()"
   ]
  },
  {
   "cell_type": "code",
   "execution_count": 209,
   "id": "52709c32-e899-4939-98ec-91d64da4f8f4",
   "metadata": {},
   "outputs": [
    {
     "data": {
      "image/png": "[encoded data removed]",
      "text/plain": [
       "<Figure size 640x480 with 1 Axes>"
      ]
     },
     "metadata": {},
     "output_type": "display_data"
    }
   ],
   "source": [
    "# 히스토그램 (Histogram)\n",
    "data2 = np.random.randn(1000) # 정규분포를 따르는 데이터 1000개\n",
    "plt.hist(data2, edgecolor=\"red\")\n",
    "plt.show()"
   ]
  },
  {
   "cell_type": "code",
   "execution_count": 211,
   "id": "0d1b264a-5004-43b4-a58b-382d10dbe186",
   "metadata": {},
   "outputs": [
    {
     "data": {
      "text/plain": [
       "(array([  9.,  22.,  64., 166., 188., 222., 186.,  94.,  34.,  15.]),\n",
       " array([-3.04303572, -2.45862626, -1.8742168 , -1.28980734, -0.70539788,\n",
       "        -0.12098842,  0.46342103,  1.04783049,  1.63223995,  2.21664941,\n",
       "         2.80105887]),\n",
       " <BarContainer object of 10 artists>)"
      ]
     },
     "execution_count": 211,
     "metadata": {},
     "output_type": "execute_result"
    },
    {
     "data": {
      "image/png": "[encoded data removed]",
      "text/plain": [
       "<Figure size 800x600 with 4 Axes>"
      ]
     },
     "metadata": {},
     "output_type": "display_data"
    }
   ],
   "source": [
    "# plt.show()\n",
    "# 여러개의 plot를 보고 싶을 때\n",
    "# subplot\n",
    "fig, axes = plt.subplots(2, 2, figsize=(8, 6))\n",
    "axes[0, 0].bar(x_type1, y_type2)\n",
    "axes[0, 1].pie(legend_count, labels=legend_count.index, autopct=\"%.1f%%\", startangle=90)\n",
    "axes[1, 0].scatter(height, weight, c=weight, s=50, alpha=0.7)\n",
    "axes[1, 1].hist(data2, edgecolor=\"red\")"
   ]
  },
  {
   "cell_type": "code",
   "execution_count": null,
   "id": "b6c6d73e-d372-4e18-8e05-d25c47395e26",
   "metadata": {},
   "outputs": [],
   "source": []
  },
  {
   "cell_type": "code",
   "execution_count": null,
   "id": "7289ac1d-a16e-4459-a4af-f063035478e8",
   "metadata": {},
   "outputs": [],
   "source": []
  },
  {
   "cell_type": "code",
   "execution_count": null,
   "id": "b1008bed-0c05-4ab7-9a1a-7bc0a9b2a4fa",
   "metadata": {},
   "outputs": [],
   "source": []
  },
  {
   "cell_type": "code",
   "execution_count": null,
   "id": "60084793-e364-495c-8456-8bbdd5d03b49",
   "metadata": {},
   "outputs": [],
   "source": []
  }
 ],
 "metadata": {
  "kernelspec": {
   "display_name": "Python 3 (ipykernel)",
   "language": "python",
   "name": "python3"
  },
  "language_info": {
   "codemirror_mode": {
    "name": "ipython",
    "version": 3
   },
   "file_extension": ".py",
   "mimetype": "text/x-python",
   "name": "python",
   "nbconvert_exporter": "python",
   "pygments_lexer": "ipython3",
   "version": "3.9.23"
  }
 },
 "nbformat": 4,
 "nbformat_minor": 5
}
