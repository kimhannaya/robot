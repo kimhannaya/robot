{
 "cells": [
  {
   "cell_type": "code",
   "execution_count": null,
   "id": "105ed034-ceab-45ae-aa0a-fe1e97d2dad8",
   "metadata": {},
   "outputs": [],
   "source": [
    "#인공지능 프로그래밍"
   ]
  },
  {
   "cell_type": "code",
   "execution_count": 20,
   "id": "628a86dd-7297-4ed4-974d-81a5a763930a",
   "metadata": {},
   "outputs": [
    {
     "name": "stdout",
     "output_type": "stream",
     "text": [
      "Hello World!!\n"
     ]
    }
   ],
   "source": [
    "print(\"Hello World!!\")"
   ]
  },
  {
   "cell_type": "code",
   "execution_count": 1,
   "id": "4dec1f62-f457-4e29-81b6-50e98babaf90",
   "metadata": {},
   "outputs": [
    {
     "ename": "NameError",
     "evalue": "name 'num1' is not defined",
     "output_type": "error",
     "traceback": [
      "\u001b[1;31m---------------------------------------------------------------------------\u001b[0m",
      "\u001b[1;31mNameError\u001b[0m                                 Traceback (most recent call last)",
      "Cell \u001b[1;32mIn[1], line 1\u001b[0m\n\u001b[1;32m----> 1\u001b[0m \u001b[38;5;28mprint\u001b[39m(\u001b[43mnum1\u001b[49m)\n",
      "\u001b[1;31mNameError\u001b[0m: name 'num1' is not defined"
     ]
    }
   ],
   "source": [
    "print(num1)"
   ]
  },
  {
   "cell_type": "code",
   "execution_count": 22,
   "id": "528b92a4-bedc-4cdf-93b2-5ded9b43b09b",
   "metadata": {},
   "outputs": [
    {
     "name": "stdout",
     "output_type": "stream",
     "text": [
      "43\n",
      "17\n",
      "390\n",
      "2.3076923076923075\n"
     ]
    }
   ],
   "source": [
    "num1 = 30\n",
    "num2 = 13\n",
    "print(num1 + num2)\n",
    "print(num1 - num2)\n",
    "print(num1 * num2) \n",
    "print(num1 / num2) "
   ]
  },
  {
   "cell_type": "code",
   "execution_count": 2,
   "id": "86c54ae4-14b4-40ba-aac8-d0b7c6816305",
   "metadata": {},
   "outputs": [
    {
     "name": "stdout",
     "output_type": "stream",
     "text": [
      "3\n",
      "-3\n",
      "3.141592\n",
      "Hello\n",
      "Hi\n",
      "True\n",
      "False\n"
     ]
    }
   ],
   "source": [
    "# 자료형(Data Type)\n",
    "print(3) #정수형\n",
    "print(-3)\n",
    "print(3.141592) #실수형\n",
    "print(\"Hello\") #문자열\n",
    "print('Hi') #문자열\n",
    "print(True) #논리형\n",
    "print(False)"
   ]
  },
  {
   "cell_type": "code",
   "execution_count": 10,
   "id": "c4cd5e3b-c792-4468-ab9c-d4a90f11b56b",
   "metadata": {},
   "outputs": [
    {
     "name": "stdout",
     "output_type": "stream",
     "text": [
      "2 20 3.141592 -1.25 3.0 Hello World! Hi Python True False\n"
     ]
    }
   ],
   "source": [
    "num1 = 2\n",
    "num2 = 4\n",
    "num2 = 20\n",
    "num3 = 3.141592\n",
    "num4 = -1.25\n",
    "num5 = 3.0\n",
    "str1 = \"Hello World!\"\n",
    "str2 = 'Hi Python'\n",
    "bool1 = True\n",
    "bool2 = False\n",
    "print(num1, num2, num3, num4, num5, str1, str2, bool1, bool2)"
   ]
  },
  {
   "cell_type": "code",
   "execution_count": 8,
   "id": "d12a5d4f-d4c8-4472-9f7a-76a03ad9271e",
   "metadata": {},
   "outputs": [
    {
     "name": "stdout",
     "output_type": "stream",
     "text": [
      "10 20\n",
      "['False', 'None', 'True', '__peg_parser__', 'and', 'as', 'assert', 'async', 'await', 'break', 'class', 'continue', 'def', 'del', 'elif', 'else', 'except', 'finally', 'for', 'from', 'global', 'if', 'import', 'in', 'is', 'lambda', 'nonlocal', 'not', 'or', 'pass', 'raise', 'return', 'try', 'while', 'with', 'yield']\n"
     ]
    }
   ],
   "source": [
    "# Variable Naming Rules\n",
    "# 1. 영문자, 숫자, underscore(_)\n",
    "# - 단, 영문자는 대소문자를 다르게 인식함\n",
    "# - 문자를 아스키 값으로 인지!\n",
    "# A : 65, a : 97, 0 : 48\n",
    "num = 10\n",
    "Num = 20\n",
    "print(num, Num)\n",
    "# 2. 숫자로 시작할 수 없음\n",
    "# - 값으로 인식하기 때문 \n",
    "# 1a = 30 ( X)\n",
    "# 3. 키워드(예약어)를 사용할 수 없음\n",
    "# True = 3 (X)\n",
    "# python에서 사용되는 키워드 목록\n",
    "from keyword import kwlist\n",
    "print(kwlist)"
   ]
  },
  {
   "cell_type": "code",
   "execution_count": 15,
   "id": "c8005dae-842f-4ba7-be93-90ff06579a1b",
   "metadata": {},
   "outputs": [],
   "source": [
    "# 필수는 아니지만 권장되는 변수명 규칙\n",
    "# 1. 변수의 첫 문자는 소문자\n",
    "# -> 대문자는 클래스 이름으로 사용됨\n",
    "# 2. 여러 단어를 나열할 경우 표기법 사용\n",
    "today_lunch_menu = \"보쌈\" # Snake  표기법\n",
    "todayLunchMenu = \"족발\"  # camel 표기법\n",
    "strtoday = \"볶음밥\"     # 헝가리안 표기법"
   ]
  },
  {
   "cell_type": "code",
   "execution_count": 30,
   "id": "0844dfda-814a-4cc0-b469-86f135b0b14d",
   "metadata": {},
   "outputs": [
    {
     "data": {
      "text/plain": [
       "0.49999999999999994"
      ]
     },
     "execution_count": 30,
     "metadata": {},
     "output_type": "execute_result"
    }
   ],
   "source": [
    "import math\n",
    "math.sin(math.pi * (1/6))"
   ]
  },
  {
   "cell_type": "code",
   "execution_count": 29,
   "id": "317c81aa-7627-4a50-b3df-38838335e5a2",
   "metadata": {},
   "outputs": [],
   "source": [
    "import numpy"
   ]
  },
  {
   "cell_type": "code",
   "execution_count": 32,
   "id": "1dad20d8-37e0-4935-b7f9-9b1c4853e9b1",
   "metadata": {},
   "outputs": [
    {
     "name": "stdout",
     "output_type": "stream",
     "text": [
      "True\n",
      "False\n"
     ]
    }
   ],
   "source": [
    "print(1 + 2 == 3)\n",
    "print(1.1 + 2.2 == 3.3)\n",
    "# IEEE 754 double"
   ]
  },
  {
   "cell_type": "code",
   "execution_count": 28,
   "id": "045d976a-20bf-4ae9-8a03-0a4809ee30d7",
   "metadata": {},
   "outputs": [
    {
     "name": "stdout",
     "output_type": "stream",
     "text": [
      "Requirement already satisfied: numpy in c:\\programdata\\anaconda3\\envs\\myenv\\lib\\site-packages (2.0.2)\n"
     ]
    }
   ],
   "source": [
    "!pip install numpy"
   ]
  },
  {
   "cell_type": "code",
   "execution_count": 25,
   "id": "2077f9ad-e952-4a57-b851-39e8b0ab5685",
   "metadata": {},
   "outputs": [
    {
     "data": {
      "text/plain": [
       "33"
      ]
     },
     "execution_count": 25,
     "metadata": {},
     "output_type": "execute_result"
    }
   ],
   "source": [
    "import random\n",
    "random.randint(1, 45)"
   ]
  },
  {
   "cell_type": "code",
   "execution_count": 34,
   "id": "6a002d40-8f41-45bd-8804-00e8fc536b8b",
   "metadata": {},
   "outputs": [
    {
     "name": "stdout",
     "output_type": "stream",
     "text": [
      "13\n",
      "7\n",
      "30\n",
      "3.3333333333333335\n",
      "3\n",
      "1\n",
      "HelloWorld\n",
      "HiHiHi\n",
      "1024\n"
     ]
    }
   ],
   "source": [
    "# 연산자 (operater)\n",
    "# 규칙을 갖는 연산기호\n",
    "# 1. 산술 연산자\n",
    "print(10 + 3)  #13\n",
    "print(10 - 3)  #7\n",
    "print(10 * 3)  #30\n",
    "print(10 / 3)  #3.3333\n",
    "print(10 // 3) #3 (몫 연산자)\n",
    "print(10 % 3)  #1 (나머지 연산자)\n",
    "print(\"Hello\" + \"World\") #문자열 더하기 가능\n",
    "print(\"Hi\"*3)\n",
    "\n",
    "# 2. 지수 연산자\n",
    "print(2 ** 10)"
   ]
  }
 ],
 "metadata": {
  "kernelspec": {
   "display_name": "Python 3 (ipykernel)",
   "language": "python",
   "name": "python3"
  },
  "language_info": {
   "codemirror_mode": {
    "name": "ipython",
    "version": 3
   },
   "file_extension": ".py",
   "mimetype": "text/x-python",
   "name": "python",
   "nbconvert_exporter": "python",
   "pygments_lexer": "ipython3",
   "version": "3.9.23"
  }
 },
 "nbformat": 4,
 "nbformat_minor": 5
}
