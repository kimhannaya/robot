{
 "cells": [
  {
   "cell_type": "code",
   "execution_count": null,
   "id": "9a1b3a31-bfc6-4fc7-8826-0a36b932b874",
   "metadata": {},
   "outputs": [],
   "source": [
    "# 현재 위치 : Day13"
   ]
  },
  {
   "cell_type": "code",
   "execution_count": null,
   "id": "2bfa3068-7a60-46b4-9f49-6f57f9830717",
   "metadata": {},
   "outputs": [],
   "source": [
    "# 혹시나 아래 cell 실행했을 때 없으면 설치!!\n",
    "!pip install tqdm"
   ]
  },
  {
   "cell_type": "code",
   "execution_count": 1,
   "id": "5376ddb8-d52d-40b0-ab7e-a47bb52a656e",
   "metadata": {},
   "outputs": [],
   "source": [
    "# 붓꽃 데이터를 tensorflow 말고 Pytorch에서 학습해 보자\n",
    "import torch # 텐서 생성, 연산\n",
    "import torch.nn as nn # 신경망(neural network)의 층(layer) 관련 라이브러리\n",
    "import torch.optim as optim # 최적화 알고리즘\n",
    "from torch.utils.data import DataLoader, TensorDataset # TensorDataset -> X, y를 텐서형태로 나누기\n",
    "\n",
    "import pandas as pd\n",
    "from sklearn.preprocessing import LabelEncoder # label 전처리 하자\n",
    "from tqdm.notebook import tqdm # 에포크 상황 확인하기"
   ]
  },
  {
   "cell_type": "code",
   "execution_count": 2,
   "id": "6de08c5e-ad32-449f-a9e5-1e3cfd4b0ad1",
   "metadata": {},
   "outputs": [
    {
     "data": {
      "application/vnd.jupyter.widget-view+json": {
       "model_id": "8ad66a065c014fc9b85532427a78f240",
       "version_major": 2,
       "version_minor": 0
      },
      "text/plain": [
       "  0%|          | 0/10 [00:00<?, ?it/s]"
      ]
     },
     "metadata": {},
     "output_type": "display_data"
    },
    {
     "name": "stdout",
     "output_type": "stream",
     "text": [
      "0 1 2 3 4 5 6 7 8 9 "
     ]
    }
   ],
   "source": [
    "for i in tqdm(range(10)):\n",
    "    print(i, end=\" \")"
   ]
  },
  {
   "cell_type": "code",
   "execution_count": 11,
   "id": "b3e3daa1-3454-4645-b874-017caf988915",
   "metadata": {},
   "outputs": [
    {
     "data": {
      "text/plain": [
       "tensor([0., 0., 0., 0., 0., 0., 0., 0., 0., 0., 0., 0., 0., 0., 0., 0., 0., 0.,\n",
       "        0., 0., 0., 0., 0., 0., 0., 0., 0., 0., 0., 0., 0., 0., 0., 0., 0., 0.,\n",
       "        0., 0., 0., 0., 0., 0., 0., 0., 0., 0., 0., 0., 0., 0., 1., 1., 1., 1.,\n",
       "        1., 1., 1., 1., 1., 1., 1., 1., 1., 1., 1., 1., 1., 1., 1., 1., 1., 1.,\n",
       "        1., 1., 1., 1., 1., 1., 1., 1., 1., 1., 1., 1., 1., 1., 1., 1., 1., 1.,\n",
       "        1., 1., 1., 1., 1., 1., 1., 1., 1., 1., 2., 2., 2., 2., 2., 2., 2., 2.,\n",
       "        2., 2., 2., 2., 2., 2., 2., 2., 2., 2., 2., 2., 2., 2., 2., 2., 2., 2.,\n",
       "        2., 2., 2., 2., 2., 2., 2., 2., 2., 2., 2., 2., 2., 2., 2., 2., 2., 2.,\n",
       "        2., 2., 2., 2., 2., 2.])"
      ]
     },
     "execution_count": 11,
     "metadata": {},
     "output_type": "execute_result"
    }
   ],
   "source": [
    "y_tensor"
   ]
  },
  {
   "cell_type": "code",
   "execution_count": 3,
   "id": "c68e5482-ba46-42d0-a98e-1668327f265e",
   "metadata": {},
   "outputs": [],
   "source": [
    "# 데이터 준비\n",
    "\n",
    "df = pd.read_csv(\"robot/data/iris3.csv\")\n",
    "# 0 ~ 4미만까지 X, tensor로 변환하기 용이하게 ndarray로 변환\n",
    "# 4번 인덱스 y\n",
    "X = df.iloc[ : ,  : 4].values\n",
    "y = df.iloc[ : , 4].values\n",
    "\n",
    "# 레이블들이 Iris-setosa 형식으로 클래스 이름으로 되어 있음\n",
    "# -> 0, 1, 2 등 숫자형으로 label을 변환할 필요가 있음\n",
    "# 왜...Pytorch는 정수나 숫자만 연산 가능\n",
    "label_encoder = LabelEncoder()\n",
    "y_encoded = label_encoder.fit_transform(y)\n",
    "\n",
    "# ndarray 형태의 X를 Pytorch에서 사용하기 위해 텐서 형태로 변환\n",
    "X_tensor = torch.tensor(X, dtype=torch.float32)\n",
    "y_tensor = torch.tensor(y_encoded, dtype=torch.long)"
   ]
  },
  {
   "cell_type": "code",
   "execution_count": 4,
   "id": "5df2389e-3f78-4047-ade3-f84ab6f33059",
   "metadata": {},
   "outputs": [],
   "source": [
    "# 모델 정의\n",
    "class IrisModel(nn.Module):\n",
    "    def __init__(self):\n",
    "        super().__init__()\n",
    "        # day11의 iris를 tensorflow로 진행했었던 내용 그대로!!\n",
    "        self.layer_1 = nn.Linear(4, 12)\n",
    "        self.layer_2 = nn.Linear(12, 8)\n",
    "        self.layer_3 = nn.Linear(8, 3)\n",
    "\n",
    "    # 순전파\n",
    "    def forward(self, X):\n",
    "        # 1) input 4 -> output 12\n",
    "        # 1-1) 활성화 함수 relu\n",
    "        # 2) input 12 -> output 8\n",
    "        # 2-1) 활성화 함수 relu\n",
    "        # 3) input 8 -> output 3\n",
    "        X = torch.relu(self.layer_1(X))\n",
    "        X = torch.relu(self.layer_2(X))\n",
    "        X = self.layer_3(X)\n",
    "        return X"
   ]
  },
  {
   "cell_type": "code",
   "execution_count": 6,
   "id": "6178b273-063c-4b09-9879-f51c0dcd782f",
   "metadata": {},
   "outputs": [],
   "source": [
    "# 모델 생성\n",
    "model = IrisModel()\n",
    "\n",
    "# 손실 함수\n",
    "loss_fn = nn.CrossEntropyLoss() # softmax 다중분류\n",
    "# 옵티마이저\n",
    "optimizer = optim.Adam(model.parameters(), lr=0.001)\n",
    "\n",
    "# 데이터셋 -> 텐서 형식으로 변환\n",
    "dataset = TensorDataset(X_tensor, y_tensor)\n",
    "\n",
    "dataloader = DataLoader(dataset, batch_size=5, shuffle=True)"
   ]
  },
  {
   "cell_type": "code",
   "execution_count": null,
   "id": "c6e6687f-b657-4aa2-9a75-5dd9e169c87f",
   "metadata": {},
   "outputs": [],
   "source": [
    "!pip install --upgrade ipywidgets"
   ]
  },
  {
   "cell_type": "code",
   "execution_count": 7,
   "id": "065173d3-cb5a-4fea-bc5b-19ed099e9af3",
   "metadata": {},
   "outputs": [],
   "source": [
    "from tqdm.notebook import tqdm"
   ]
  },
  {
   "cell_type": "code",
   "execution_count": 9,
   "id": "15c35712-47b3-4291-a841-7115355b92e3",
   "metadata": {},
   "outputs": [
    {
     "data": {
      "application/vnd.jupyter.widget-view+json": {
       "model_id": "56b9097c71bc4e629db708b16e9c19b5",
       "version_major": 2,
       "version_minor": 0
      },
      "text/plain": [
       "  0%|          | 0/30 [00:00<?, ?it/s]"
      ]
     },
     "metadata": {},
     "output_type": "display_data"
    }
   ],
   "source": [
    "# 모델 학습\n",
    "epochs = 30\n",
    "for epoch in tqdm(range(epochs)):\n",
    "    for input_data, label in dataloader:\n",
    "        # 1) 기울기 0으로 초기화\n",
    "        optimizer.zero_grad()\n",
    "        # 2) 모델에 input 넣어 예측 값 얻기\n",
    "        pred = model(input_data)\n",
    "        # 3) 예측 값을 통해 loss 계산\n",
    "        loss = loss_fn(pred, label)\n",
    "        # 4) loss 통해 최적화 (역전파)\n",
    "        loss.backward()\n",
    "        # 5) 가중치, 바이어스 업데이트\n",
    "        optimizer.step()"
   ]
  },
  {
   "cell_type": "code",
   "execution_count": 10,
   "id": "8ec2de4d-25bf-4491-8631-305fda7eb7df",
   "metadata": {},
   "outputs": [
    {
     "name": "stdout",
     "output_type": "stream",
     "text": [
      "정확도 : 0.95\n"
     ]
    }
   ],
   "source": [
    "# 모델 평가\n",
    "with torch.no_grad():\n",
    "    pred = model(X_tensor)\n",
    "    # pred.data의 클래스 중 가장 높은 값\n",
    "    _, predicted = torch.max(pred.data, 1)\n",
    "    # 전체 데이터셋의 크기\n",
    "    total = y_tensor.size(0)\n",
    "    # 예측값과 실제값이 같은 것들을 전부 합산하여 correct에 저장\n",
    "    correct = (predicted == y_tensor).sum().item()\n",
    "    # 정확도\n",
    "    print(f\"정확도 : {correct / total:.2f}\")"
   ]
  },
  {
   "cell_type": "code",
   "execution_count": null,
   "id": "32b2a583-eb72-490e-b34e-41b43b9bde7e",
   "metadata": {},
   "outputs": [],
   "source": [
    "# 내일 오전에 MNIST 손글씨 -> PyTorch\n",
    "# 디바이스 설정 -> to device\n",
    "# 손글씨 학습 데이터 6만개, 검증 데이터 1만개\n",
    "# 오래걸린다 -> 코랩\n",
    "# GPU 자원을 할당 -> 플랫폼\n",
    "# AI 데이터 수석 하 내일 오전에 MNIST 손글씨 -> PyTorch\n",
    "# 디바이스 설정 -> to device\n",
    "# 손글씨 학습 데이터 6만개, 검증 데이터 1만개\n",
    "# 오래걸린다 -> 코랩\n",
    "# GPU 자원을 할당 -> 플랫폼"
   ]
  },
  {
   "cell_type": "code",
   "execution_count": 11,
   "id": "70cb4a95-06eb-441f-ac5d-1c3be22930a7",
   "metadata": {},
   "outputs": [
    {
     "name": "stderr",
     "output_type": "stream",
     "text": [
      "Cloning into 'yolov5'...\n"
     ]
    }
   ],
   "source": [
    "# 20분 남았으니 온라인에서 이미지 검색해서\n",
    "# 이미지 자동 다운로드\n",
    "\n",
    "# 내일 오전 selenium\n",
    "\n",
    "# yolov5 사용\n",
    "!git clone https://github.com/ultralytics/yolov5"
   ]
  },
  {
   "cell_type": "code",
   "execution_count": null,
   "id": "4c0afc69-ab70-47a0-89f2-9483a90f34f7",
   "metadata": {},
   "outputs": [],
   "source": []
  },
  {
   "cell_type": "code",
   "execution_count": null,
   "id": "8dc62e16-23dd-4518-9e8a-2be3e4868eda",
   "metadata": {},
   "outputs": [],
   "source": []
  },
  {
   "cell_type": "code",
   "execution_count": null,
   "id": "8694d71c-65ff-4c43-a691-ea0f71b43366",
   "metadata": {},
   "outputs": [],
   "source": []
  },
  {
   "cell_type": "code",
   "execution_count": null,
   "id": "5b09afe8-0561-4235-a371-54d4a2916c9c",
   "metadata": {},
   "outputs": [],
   "source": []
  },
  {
   "cell_type": "code",
   "execution_count": null,
   "id": "c9ac8a12-781c-4c75-8401-4831fb50283c",
   "metadata": {},
   "outputs": [],
   "source": []
  },
  {
   "cell_type": "code",
   "execution_count": null,
   "id": "0c7c9a0c-acf0-48b1-9b82-3802882f8e8f",
   "metadata": {},
   "outputs": [],
   "source": []
  },
  {
   "cell_type": "code",
   "execution_count": null,
   "id": "98f891ee-1bb0-4dfe-b2ba-3fe4ab8c0eea",
   "metadata": {},
   "outputs": [],
   "source": []
  }
 ],
 "metadata": {
  "kernelspec": {
   "display_name": "Python 3 (ipykernel)",
   "language": "python",
   "name": "python3"
  },
  "language_info": {
   "codemirror_mode": {
    "name": "ipython",
    "version": 3
   },
   "file_extension": ".py",
   "mimetype": "text/x-python",
   "name": "python",
   "nbconvert_exporter": "python",
   "pygments_lexer": "ipython3",
   "version": "3.12.11"
  }
 },
 "nbformat": 4,
 "nbformat_minor": 5
}
