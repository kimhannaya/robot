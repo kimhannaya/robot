{
 "cells": [
  {
   "cell_type": "code",
   "execution_count": null,
   "id": "c613827a-faa4-4880-b740-1efa5dc07fbd",
   "metadata": {},
   "outputs": [],
   "source": [
    "# 함수\n",
    "# 반복되는 기능"
   ]
  },
  {
   "cell_type": "code",
   "execution_count": 18,
   "id": "8755dfb1-23a9-4cc2-a61a-1fd0e1ae7c52",
   "metadata": {},
   "outputs": [
    {
     "name": "stdout",
     "output_type": "stream",
     "text": [
      "True\n",
      "False\n"
     ]
    },
    {
     "data": {
      "text/plain": [
       "<function __main__.is_divisor(num1: int, num2: int)>"
      ]
     },
     "execution_count": 18,
     "metadata": {},
     "output_type": "execute_result"
    }
   ],
   "source": [
    "# 1. is_divisor(num1, num2)\n",
    "# 만약 num2가 num1의 약수라면 True\n",
    "# 약수가 아니라면 False를 반환하는 함수 정의\n",
    "\n",
    "# 함수 이름에 is -> 반환 값 놀리형\n",
    "# 변수 이름에 is -> 논리형 데이터\n",
    "def is_divisor(num1 : int, num2 : int):\n",
    "    \"\"\"num2가 num1의 약수인지 판별\"\"\" # docstring (Shift + Tab)\n",
    "    if num1 % num2 == 0:\n",
    "        return True\n",
    "    else:\n",
    "        return False\n",
    "\n",
    "print(is_divisor(10, 2))\n",
    "print(is_divisor(10, 3))\n",
    "is_divisor"
   ]
  },
  {
   "cell_type": "code",
   "execution_count": 16,
   "id": "29aefc6f-7cfd-4baf-8767-7d413cdf8c7b",
   "metadata": {},
   "outputs": [
    {
     "name": "stdout",
     "output_type": "stream",
     "text": [
      "True\n",
      "False\n"
     ]
    },
    {
     "data": {
      "text/plain": [
       "<function __main__.is_divisor(num1: int, num2)>"
      ]
     },
     "execution_count": 16,
     "metadata": {},
     "output_type": "execute_result"
    }
   ],
   "source": [
    "# 1의 다른 방식\n",
    "def is_divisor(num1 num2):\n",
    "    return num1 % num2 == 0\n",
    "\n",
    "print(is_divisor(10, 2))\n",
    "print(is_divisor(10, 3))\n",
    "is_divisor"
   ]
  },
  {
   "cell_type": "code",
   "execution_count": 22,
   "id": "f57d9343-5066-417a-ab08-4fd9dfa96732",
   "metadata": {},
   "outputs": [
    {
     "name": "stdout",
     "output_type": "stream",
     "text": [
      "1 2 5 10 \n",
      "1 2 3 4 6 12 \n"
     ]
    }
   ],
   "source": [
    "# 2. 약수를 전부 출력\n",
    "# print_divisors(num)\n",
    "# 만약, num이 10이라면\n",
    "# 10의 약수 : 1 2 5 10\n",
    "# 만약, num이 12라면\n",
    "# 12의 약수 : 1 2 3 4 6 12\n",
    "\n",
    "\n",
    "def print_divisors(num : int):\n",
    "    for i in range(1, num+1):\n",
    "        if num % i == 0:\n",
    "            print(i, end=\" \")\n",
    "    print()        \n",
    "    \n",
    "print_divisors(10)\n",
    "print_divisors(12)\n"
   ]
  },
  {
   "cell_type": "code",
   "execution_count": 58,
   "id": "8c71b01f-759c-40fd-8e06-f859bfdfd560",
   "metadata": {},
   "outputs": [
    {
     "name": "stdout",
     "output_type": "stream",
     "text": [
      "18\n",
      "28\n"
     ]
    }
   ],
   "source": [
    "# 3. 약수의 총합!!\n",
    "# get_sum_of_divisors(num)\n",
    "\n",
    "# hint: 2번 문제에서 print하는 대신\n",
    "# 누적 합하여서\n",
    "# 해당 누적합한 변수를 반환(return)\n",
    "def get_sum_of_divisors(num):\n",
    "    result = 0\n",
    "    for i in range(1, num + 1):\n",
    "        if is_divisor(num, i):\n",
    "            result += i\n",
    "    return result\n",
    "\n",
    "print(get_sum_of_divisors(10)) # 18 출력!!\n",
    "print(get_sum_of_divisors(12)) # 28 출력!!"
   ]
  },
  {
   "cell_type": "code",
   "execution_count": 54,
   "id": "aa05d756-41b9-4636-94e1-5b68e3ffceb3",
   "metadata": {},
   "outputs": [
    {
     "name": "stdout",
     "output_type": "stream",
     "text": [
      "False\n",
      "False\n",
      "True\n"
     ]
    }
   ],
   "source": [
    "# 4. 완전수를 판별하는 함수\n",
    "# is_perfect_number(num)\n",
    "# 만약, num이 완전수라면 -> True\n",
    "# 완전수가 아니라면 -> False\n",
    "\n",
    "# 완전수(perfect number)란?\n",
    "# 자기 자신을 제외한 양의 약수의 합이 \n",
    "# 다시 자기 자신이 되는 수!!!\n",
    "# 10 : 1 + 2 + 5 = 8이므로 (X)\n",
    "# 12 : 1 + 2 + 3 + 4 + 6 = 16 (X)\n",
    "# 28 : 1 + 2 + 4 + 7 + 14 = 28 (O)\n",
    "\n",
    "def is_perfect_number(num):\n",
    "    return get_sum_of_divisors(num) == num * 2\n",
    "\n",
    "print(is_perfect_number(10)) # False\n",
    "print(is_perfect_number(12)) # False\n",
    "print(is_perfect_number(28)) # True"
   ]
  },
  {
   "cell_type": "code",
   "execution_count": 57,
   "id": "5d122abb-9521-4fca-9c11-8f6fea3bd620",
   "metadata": {},
   "outputs": [
    {
     "name": "stdout",
     "output_type": "stream",
     "text": [
      "496\n",
      "8128\n"
     ]
    }
   ],
   "source": [
    "# 5. 그 다음 오는 완전수를 구해보자!!\n",
    "# 1번째 완전수 : 6 (1 + 2 + 3)\n",
    "# 2번째 완전수 : 28 (1 + 2 + 4 + 7 + 14)\n",
    "# 3번째 완전수 : ??? (세 자리 수)\n",
    "# 4번째 완전수 : ???? (네 자리 수)\n",
    "\n",
    "# 3번째 완전수\n",
    "# 4번째 완전수\n",
    "\n",
    "# 단, 5번째 완전수 : 8자리여서\n",
    "# 우리 로직으로 해결 X\n",
    "\n",
    "for i in range(100, 1000):\n",
    "    if is_perfect_number(i):\n",
    "        print(i)\n",
    "\n",
    "for i in range(497, 10000):\n",
    "    if is_perfect_number(i):\n",
    "        print(i)"
   ]
  },
  {
   "cell_type": "code",
   "execution_count": 59,
   "id": "d74315b3-abdc-4e2c-9bc9-e51d4ee41351",
   "metadata": {},
   "outputs": [
    {
     "name": "stderr",
     "output_type": "stream",
     "text": [
      " 52%|███████████████████████████████████████▎                                   | 47119/90000 [03:21<03:03, 233.38it/s]\n"
     ]
    },
    {
     "ename": "KeyboardInterrupt",
     "evalue": "",
     "output_type": "error",
     "traceback": [
      "\u001b[1;31m---------------------------------------------------------------------------\u001b[0m",
      "\u001b[1;31mKeyboardInterrupt\u001b[0m                         Traceback (most recent call last)",
      "Cell \u001b[1;32mIn[59], line 4\u001b[0m\n\u001b[0;32m      1\u001b[0m \u001b[38;5;28;01mfrom\u001b[39;00m\u001b[38;5;250m \u001b[39m\u001b[38;5;21;01mtqdm\u001b[39;00m\u001b[38;5;250m \u001b[39m\u001b[38;5;28;01mimport\u001b[39;00m tqdm\n\u001b[0;32m      3\u001b[0m \u001b[38;5;28;01mfor\u001b[39;00m i \u001b[38;5;129;01min\u001b[39;00m tqdm (\u001b[38;5;28mrange\u001b[39m(\u001b[38;5;241m10000\u001b[39m, \u001b[38;5;241m100000\u001b[39m)):\n\u001b[1;32m----> 4\u001b[0m     \u001b[38;5;28;01mif\u001b[39;00m \u001b[43mis_perfect_number\u001b[49m\u001b[43m(\u001b[49m\u001b[43mi\u001b[49m\u001b[43m)\u001b[49m:\n\u001b[0;32m      5\u001b[0m         \u001b[38;5;28mprint\u001b[39m(i)\n",
      "Cell \u001b[1;32mIn[54], line 14\u001b[0m, in \u001b[0;36mis_perfect_number\u001b[1;34m(num)\u001b[0m\n\u001b[0;32m     13\u001b[0m \u001b[38;5;28;01mdef\u001b[39;00m\u001b[38;5;250m \u001b[39m\u001b[38;5;21mis_perfect_number\u001b[39m(num):\n\u001b[1;32m---> 14\u001b[0m     \u001b[38;5;28;01mreturn\u001b[39;00m \u001b[43mget_sum_of_divisors\u001b[49m\u001b[43m(\u001b[49m\u001b[43mnum\u001b[49m\u001b[43m)\u001b[49m \u001b[38;5;241m==\u001b[39m num \u001b[38;5;241m*\u001b[39m \u001b[38;5;241m2\u001b[39m\n",
      "Cell \u001b[1;32mIn[58], line 10\u001b[0m, in \u001b[0;36mget_sum_of_divisors\u001b[1;34m(num)\u001b[0m\n\u001b[0;32m      8\u001b[0m result \u001b[38;5;241m=\u001b[39m \u001b[38;5;241m0\u001b[39m\n\u001b[0;32m      9\u001b[0m \u001b[38;5;28;01mfor\u001b[39;00m i \u001b[38;5;129;01min\u001b[39;00m \u001b[38;5;28mrange\u001b[39m(\u001b[38;5;241m1\u001b[39m, num \u001b[38;5;241m+\u001b[39m \u001b[38;5;241m1\u001b[39m):\n\u001b[1;32m---> 10\u001b[0m     \u001b[38;5;28;01mif\u001b[39;00m \u001b[43mis_divisor\u001b[49m(num, i):\n\u001b[0;32m     11\u001b[0m         result \u001b[38;5;241m+\u001b[39m\u001b[38;5;241m=\u001b[39m i\n\u001b[0;32m     12\u001b[0m \u001b[38;5;28;01mreturn\u001b[39;00m result\n",
      "\u001b[1;31mKeyboardInterrupt\u001b[0m: "
     ]
    }
   ],
   "source": [
    "from tqdm import tqdm\n",
    "\n",
    "for i in tqdm (range(10000, 100000)):\n",
    "    if is_perfect_number(i):\n",
    "        print(i)"
   ]
  },
  {
   "cell_type": "code",
   "execution_count": null,
   "id": "f9cb88df-5fa0-4697-8f20-162680053e8a",
   "metadata": {},
   "outputs": [],
   "source": [
    "# 총정리 및 수정\n",
    "\n",
    "def is_divisor(num1 : int, num2 : int) -> bool:\n",
    "    \"\"\"num2가 num1의 약수인지 판별\"\"\" # docstring (Shift + Tab)\n",
    "    return num1 % num2 == 0\n",
    "\n",
    "def print_divisors(num : int):\n",
    "    # num이 10이라면???\n",
    "    print(f\"{num}의 약수 : \", end=\"\")\n",
    "\n",
    "    for i in range(1, num + 1):\n",
    "        if num % i == 0:\n",
    "            print(i, end=\" \")\n",
    "    print()\n",
    "\n",
    "def get_sum_of_divisors(num):\n",
    "    result = 0\n",
    "    for i in range(1, num // 2 + 1):\n",
    "        if is_divisor(num, i):\n",
    "            result += i\n",
    "    result += num\n",
    "    return result\n",
    "\n",
    "def is_perfect_number(num):\n",
    "    return get_sum_of_divisors(num) == num * 2"
   ]
  },
  {
   "cell_type": "code",
   "execution_count": 64,
   "id": "e50830aa-ca93-44f2-b202-b70cc5024509",
   "metadata": {},
   "outputs": [
    {
     "data": {
      "text/plain": [
       "38"
      ]
     },
     "execution_count": 64,
     "metadata": {},
     "output_type": "execute_result"
    }
   ],
   "source": [
    "# 가변 매개변수\n",
    "def add_number(*args):\n",
    "    sum = 0\n",
    "    for num in args:\n",
    "        sum += num\n",
    "    return sum\n",
    "add_number(1, 2, 3, 4, 5, 11, 12)"
   ]
  },
  {
   "cell_type": "code",
   "execution_count": 65,
   "id": "ef0a41dd-53ea-486c-b8dc-254e9076cfae",
   "metadata": {},
   "outputs": [
    {
     "name": "stdout",
     "output_type": "stream",
     "text": [
      "(15, 5)\n"
     ]
    }
   ],
   "source": [
    "def cal_number(num1, num2):\n",
    "    return num1 + num2, num1 - num2\n",
    "\n",
    "print(cal_number(10, 5))\n",
    "\n",
    "# 함수는 리턴 값이 두 개이다 (X)\n",
    "# 함수는 리턴 값이 반드시 1개"
   ]
  },
  {
   "cell_type": "code",
   "execution_count": 70,
   "id": "04ece499-f678-424b-8c72-b0ac5323942d",
   "metadata": {},
   "outputs": [
    {
     "name": "stdout",
     "output_type": "stream",
     "text": [
      "32\n",
      "25\n"
     ]
    }
   ],
   "source": [
    "# 함수의 기본 값 설정\n",
    "\n",
    "def my_pow(num1, num2=2):\n",
    "    result = 1\n",
    "    for i in range(num2):\n",
    "        result *= num1\n",
    "    return result\n",
    "print(my_pow(2, 5))\n",
    "print(my_pow(5))"
   ]
  },
  {
   "cell_type": "code",
   "execution_count": 80,
   "id": "c2889563-9b14-4626-9d05-c35d5debd6e9",
   "metadata": {},
   "outputs": [
    {
     "name": "stdout",
     "output_type": "stream",
     "text": [
      "2.0\n",
      "2.0\n"
     ]
    }
   ],
   "source": [
    "# day4.ipynb과 cal.py가 같은 경로에 있다!!\n",
    "# 모듈화!! \n",
    "# 함수, 클래스 -> 간단하게 .py만들어서 배포 -> import \n",
    "  \n",
    "import cal # cal.py를 로드!!\n",
    "print(cal.add(10, 5))\n",
    "\n",
    "from cal import add\n",
    "print(add(20, 10))"
   ]
  },
  {
   "cell_type": "code",
   "execution_count": 92,
   "id": "f26f1da1-b3a1-48fc-8fc2-8b6b42d80558",
   "metadata": {},
   "outputs": [],
   "source": [
    "# 객체지향 프로그래밍 ( Object Oriented Programming)\n",
    "# 독립된 객체들 간의 메시지를 주고 받음으로써 프로그램을 구성하는 방식\n",
    "\n",
    "# 객체의 설계도 : class\n",
    "# class명은 대문자로 시작해야 함\n",
    "class Clock:\n",
    "    hour = 11    # 시\n",
    "    minute = 40  # 분\n",
    "    second = 50  # 초\n",
    "\n",
    "\n",
    "    # self : 클래스 이름을 반환\n",
    "    # 클래스 내 함수 정의 시 첫 번째 매개변수로 설정\n",
    "    # 클래스 내 변수 호출 시 self.변수이름\n",
    "    def show_time(self):\n",
    "        print(f\"{self.hour}시 {self.minute}분 {self.second}초\")\n",
    "\n",
    "class Banana:\n",
    "    color = \"노랗다\"\n",
    "    species = \"과일\"\n",
    "    \n",
    "    def who_many_eat(self):\n",
    "        print(\"원숭이\")\n",
    "\n",
    "    def how_eat(self):\n",
    "        print(\"껍질을 벗겨서\")\n",
    "\n",
    "    def show_info(self):\n",
    "        print(f\"색깔 : {self.color}, 종 : {self.species}\")"
   ]
  },
  {
   "cell_type": "code",
   "execution_count": 94,
   "id": "041aa967-acc8-412e-941f-0e39725181cb",
   "metadata": {},
   "outputs": [
    {
     "name": "stdout",
     "output_type": "stream",
     "text": [
      "원숭이\n",
      "껍질을 벗겨서\n",
      "색깔 : 초록색, 종 : 과일\n"
     ]
    },
    {
     "data": {
      "text/plain": [
       "<bound method Banana.show_info of <__main__.Banana object at 0x000001FBFDEACC70>>"
      ]
     },
     "execution_count": 94,
     "metadata": {},
     "output_type": "execute_result"
    }
   ],
   "source": [
    "b1 = Banana()\n",
    "b1.who_many_eat()\n",
    "b1.how_eat()\n",
    "b1.show_info\n",
    "\n",
    "b1.color = \"초록색\"\n",
    "b1.show_info()\n",
    "\n",
    "b2 = Banana()\n",
    "b2.show_info"
   ]
  },
  {
   "cell_type": "code",
   "execution_count": 85,
   "id": "efad7dc4-6162-4105-9540-40285aca3f2b",
   "metadata": {},
   "outputs": [
    {
     "name": "stdout",
     "output_type": "stream",
     "text": [
      "11시 40분 50초\n"
     ]
    }
   ],
   "source": [
    "나만의시계 = Clock()\n",
    "나만의시계.show_time()"
   ]
  },
  {
   "cell_type": "code",
   "execution_count": null,
   "id": "0c1583cb-770b-49e1-b91b-89739b31743c",
   "metadata": {},
   "outputs": [],
   "source": [
    "# 객체 지향 프로그래밍 특징\n",
    "# 1) 추상화 (Abastraction)\n",
    "# - 객체의 공통적인 속성을 추출하는 행위\n",
    "\n",
    "# 2) 캡슐화 (Encapsultation)\n",
    "# 3) 상속 (Inheritance)"
   ]
  },
  {
   "cell_type": "code",
   "execution_count": 111,
   "id": "1aa968e8-c68e-4a60-b705-2722fe815f77",
   "metadata": {},
   "outputs": [],
   "source": [
    "class Bank:\n",
    "    # 클래스에서 Data, Logic\n",
    "    # field(Data) :  멤버 변수, 속성, 특성, 특징\n",
    "    # function (Logic) : 멤버 함수 , 동작, 행위, 기능, 메소드\n",
    "\n",
    "    # field + function : memeber\n",
    "\n",
    "    # self.__money <- .(점)을 멤버 접근 연산자, \n",
    "    \n",
    "    # 접근 제어자 (Access Modifier)\n",
    "    # 외부에서 변수(함수)를 바라볼 수 있는 범위를 설정\n",
    "    # public     : 누구가 어디에서나\n",
    "    # _protected : 상속 관계 + 같은 패키지(폴더)\n",
    "    # __private  : 같은 클래스 내\n",
    "    __money = 0\n",
    "    \n",
    "    # 입금, 출금, 잔액 확인\n",
    "    def deposit(self, money):\n",
    "        self.__money += money\n",
    "\n",
    "    def withdraw(self, money):\n",
    "        self.__money -= money\n",
    "\n",
    "    def show_me_the_money(self):\n",
    "        print(f\"현재 잔액 : {self.__money}원\")"
   ]
  },
  {
   "cell_type": "code",
   "execution_count": 112,
   "id": "84c99d55-1ebf-4a10-97a0-45532215f5cc",
   "metadata": {},
   "outputs": [
    {
     "name": "stdout",
     "output_type": "stream",
     "text": [
      "현재 잔액 : 0원\n",
      "현재 잔액 : 1000000원\n",
      "현재 잔액 : 330000원\n"
     ]
    }
   ],
   "source": [
    "나만의계좌 = Bank()\n",
    "나만의계좌.show_me_the_money()\n",
    "나만의계좌.deposit(1000000)\n",
    "나만의계좌.show_me_the_money()\n",
    "\n",
    "나만의계좌.withdraw(670000)\n",
    "나만의계좌.show_me_the_money()"
   ]
  },
  {
   "cell_type": "code",
   "execution_count": 137,
   "id": "daf0821b-1e59-4e19-839d-d0ef84f79b24",
   "metadata": {},
   "outputs": [],
   "source": [
    "# 생성자 (Constructor)\n",
    "\n",
    "# 클래스를 만드는 이유\n",
    "#name = \"김한나\"\n",
    "#age = 20\n",
    "#mbti = \"ENTP\"\n",
    "\n",
    "# 나만의 사용자 정의 자료형\n",
    "# VO(Value Object)\n",
    "\n",
    "class Contact:\n",
    "    # __init__는 클래스가 생성될 때 호출\n",
    "    def __init__(self, name, age, mbti):\n",
    "        self.__name = name\n",
    "        self.__age = age\n",
    "        self.__mbti = mbti\n",
    "\n",
    "    # getter : class의 field를 반환하는 함수\n",
    "    def get_age(self):\n",
    "        return self.__age\n",
    "\n",
    "    # setter : class의 field를 외부에서 수정하는 함수\"\n",
    "    def set_age(self, age):\n",
    "        self.__age = age\n",
    "\n",
    "\n",
    "\n",
    "\n",
    "        \n",
    "    def __str__(self):\n",
    "        return f\"이름 : {self.__name}, 나이 : {self.__age}(세), MBTI : {self.__mbti}\""
   ]
  },
  {
   "cell_type": "code",
   "execution_count": 138,
   "id": "4b5944c8-d16c-434b-8746-21193ce2bb56",
   "metadata": {},
   "outputs": [
    {
     "name": "stdout",
     "output_type": "stream",
     "text": [
      "이름 : 김한나, 나이 : 24(세), MBTI : ENTP\n",
      "이름 : 수지, 나이 : 31(세), MBTI : INFP\n"
     ]
    }
   ],
   "source": [
    "c1 = Contact(\"김한나\", 23, \"ENTP\")\n",
    "c2 = Contact(\"수지\", 30, \"INFP\")\n",
    "\n",
    "c1.name = \"공유\"\n",
    "\n",
    "contact_list = [c1, c2]\n",
    "for contact in contact_list:\n",
    "    contact.set_age(contact.get_age() + 1)\n",
    "for contact in contact_list:\n",
    "    print(contact)\n",
    "#result = 0\n",
    "#for contact in contact_list:\n",
    "#    result += contact.get_age()\n",
    "#print(result)\n"
   ]
  },
  {
   "cell_type": "code",
   "execution_count": 139,
   "id": "eb0e8a51-3d28-4828-843d-ad87299f3a6d",
   "metadata": {},
   "outputs": [
    {
     "name": "stdout",
     "output_type": "stream",
     "text": [
      "이름 : 김한나, 나이 : 24(세), MBTI : ENTP\n"
     ]
    }
   ],
   "source": [
    "print(c1)"
   ]
  },
  {
   "cell_type": "code",
   "execution_count": 140,
   "id": "3c4d258b-c1cd-4420-b10d-0137860a4cdb",
   "metadata": {},
   "outputs": [],
   "source": [
    "# 상속 (Inheritance)\n",
    "# 기존에 만들어졌던 클래스의 멤버를 재사용\n",
    "\n",
    "# 부모 클래스의 멤버를 물려 받아 자식 클래스에서 재활용\n",
    "\n",
    "# 부모 클래스 (Super Class, 상위 클래스)\n",
    "# 자식 클래스 (Sub Class, 하위 클래스)\n",
    "\n",
    "# python 객체지향의 다향성\n",
    "# 함수 Overriding\n",
    "# 자식 클래스에서 부모로부터 받은 함수를 재정의\n",
    "\n",
    "# 동물\n",
    "# 강아지, 토끼, 고양이, 말\n",
    "class Dog:\n",
    "    외모 = \"귀엽다\"\n",
    "    성격 = \"충직\"\n",
    "    문 = \"척추동물\"\n",
    "    def mammal(self):\n",
    "        print(\"포유류\")\n",
    "\n",
    "    def eat(self):\n",
    "        print(\"사료 먹는다\")\n",
    "    def cry(self):\n",
    "        print(\"월왈\")\n",
    "    def __str__(self):\n",
    "        return f\"외모 : {self.외모}, 성격 : {self.성격}, 문 : {self.문}\""
   ]
  },
  {
   "cell_type": "code",
   "execution_count": 141,
   "id": "f3c074aa-4f45-48d2-957f-3f6a941b4ba0",
   "metadata": {},
   "outputs": [
    {
     "name": "stdout",
     "output_type": "stream",
     "text": [
      "외모 : 귀엽다, 성격 : 충직, 문 : 척추동물\n",
      "포유류\n",
      "월왈\n",
      "사료 먹는다\n"
     ]
    }
   ],
   "source": [
    "뽀삐 = Dog()\n",
    "print(뽀삐)\n",
    "뽀삐.mammal()\n",
    "뽀삐.cry()\n",
    "뽀삐.eat()"
   ]
  },
  {
   "cell_type": "code",
   "execution_count": 144,
   "id": "dbc56a34-eb4f-44bd-a154-364570853f19",
   "metadata": {},
   "outputs": [],
   "source": [
    "class Mammal:\n",
    "    def mammal(self):\n",
    "        print(\"포유류\")\n",
    "    def eat(self):\n",
    "        print(\"무언가 먹는다\")\n",
    "    def cry(self):\n",
    "        print(\"어케 우노\")\n",
    "    "
   ]
  },
  {
   "cell_type": "code",
   "execution_count": null,
   "id": "311bd034-fdf7-4763-a8ee-fa92622ea3ae",
   "metadata": {},
   "outputs": [],
   "source": [
    "# 부모 클래스\n",
    "# 자식 클래스"
   ]
  },
  {
   "cell_type": "code",
   "execution_count": 149,
   "id": "56bc2dbe-db7d-452d-9bf7-048f24fe802f",
   "metadata": {},
   "outputs": [],
   "source": [
    "# class 클래스명(부모 클래스)\n",
    "class Cat(Mammal):\n",
    "    외모 = \"귀엽다, 수염이 있다\"\n",
    "    성격 = \"까칠하다\"\n",
    "    문 = \"척삭동물\"\n",
    "    def cry(self):\n",
    "        print(\"야옹\")\n",
    "    def eat(self):\n",
    "        print('사료 냐밍~')\n",
    "\n",
    "    \n",
    "    def __str__(self):\n",
    "        return f\"외모 : {self.외모}, 성격 : {self.성격}, 문 : {self.문}\""
   ]
  },
  {
   "cell_type": "code",
   "execution_count": 150,
   "id": "129fb7aa-3de7-49da-8d6e-bf5fcbae096b",
   "metadata": {},
   "outputs": [
    {
     "name": "stdout",
     "output_type": "stream",
     "text": [
      "외모 : 귀엽다, 수염이 있다, 성격 : 까칠하다, 문 : 척삭동물\n",
      "포유류\n",
      "야옹\n",
      "사료 냐밍~\n"
     ]
    }
   ],
   "source": [
    "나비 = Cat()\n",
    "print(나비)\n",
    "나비.mammal()\n",
    "나비.cry()\n",
    "나비.eat()\n"
   ]
  },
  {
   "cell_type": "code",
   "execution_count": 142,
   "id": "8e1b75cb-8211-4209-951c-49d4a02bb645",
   "metadata": {},
   "outputs": [],
   "source": [
    "class Rabbit:\n",
    "    외모 = \"귀엽다, 귀가 길다\"\n",
    "    성격 = \"겁이 많다\"\n",
    "    문 = \"척삭동물\"\n",
    "    def mammal(self):\n",
    "        print(\"포유류\")\n",
    "    def eat(self):\n",
    "        print(\"풀\")`\n",
    "    def cry(self):\n",
    "        print(\"삑삑\")\n",
    "    def __str__(self):\n",
    "        return f\"외모 : {self.외모}, 성격 : {self.성격}, 문 : {self.문}\""
   ]
  },
  {
   "cell_type": "code",
   "execution_count": 143,
   "id": "d7a012f2-9943-4543-b6a1-9da4524ed4d6",
   "metadata": {},
   "outputs": [
    {
     "name": "stdout",
     "output_type": "stream",
     "text": [
      "외모 : 귀엽다, 귀가 길다, 성격 : 겁이 많다, 문 : 척삭동물\n",
      "포유류\n",
      "삑삑\n",
      "풀\n"
     ]
    }
   ],
   "source": [
    "새초미 = Rabbit()\n",
    "print(새초미)\n",
    "새초미.mammal()\n",
    "새초미.cry()\n",
    "새초미.eat()"
   ]
  },
  {
   "cell_type": "code",
   "execution_count": 151,
   "id": "9817b0ac-a23e-45b7-9b06-71ab6b228b88",
   "metadata": {},
   "outputs": [
    {
     "data": {
      "text/plain": [
       "<Response [200]>"
      ]
     },
     "execution_count": 151,
     "metadata": {},
     "output_type": "execute_result"
    }
   ],
   "source": [
    "# 딕셔너리 재밌는 실습\n",
    "\n",
    "import requests\n",
    "MY_API_KEY = \"7077141e402b34395ff1bda2f711ff5c\"\n",
    "date = \"20250904\"\n",
    "url_movie = f\"https://kobis.or.kr/kobisopenapi/webservice/rest/boxoffice/searchDailyBoxOfficeList.json?key={MY_API_KEY}&targetDt={date}\"\n",
    "\n",
    "response = requests.get(url_movie)\n",
    "response"
   ]
  },
  {
   "cell_type": "code",
   "execution_count": 153,
   "id": "7c7d03b4-2fb3-4636-9aa7-68e69cb1c26f",
   "metadata": {},
   "outputs": [],
   "source": [
    "# 영화 관련 자료형\n",
    "class Movie:\n",
    "    def __init__(self, rank, movieNm, audiCnt, audiAcc):\n",
    "        self.rank = rank       # rank : 순위\n",
    "        self.movieNm = movieNm # movieNm : 영화 이름\n",
    "        self.audiCnt = audiCnt # audiCnt : 일별 관객수\n",
    "        self.audiAcc = audiAcc # audiAcc : 누적 관객수\n",
    "\n",
    "    def __str__(self):\n",
    "        return f\"{self.rank}위 : {self.movieNm} ({self.audiCnt}명/{self.audiAcc}명)\"\n",
    "        "
   ]
  },
  {
   "cell_type": "code",
   "execution_count": 159,
   "id": "0a17eb18-5a6a-431a-b2b6-d76e83cdd1f7",
   "metadata": {},
   "outputs": [],
   "source": [
    "movie_list = []\n",
    "for i in range(10):\n",
    "    rank = result[\"boxOfficeResult\"][\"dailyBoxOfficeList\"][i][\"rank\"]\n",
    "    movieNm = result[\"boxOfficeResult\"][\"dailyBoxOfficeList\"][i][\"movieNm\"]\n",
    "    audiCnt = result[\"boxOfficeResult\"][\"dailyBoxOfficeList\"][i][\"audiCnt\"]\n",
    "    audiAcc = result[\"boxOfficeResult\"][\"dailyBoxOfficeList\"][i][\"audiAcc\"]\n",
    "\n",
    "    movie = Movie(rank, movieNm, audiCnt, audiAcc)\n",
    "    movie_list.append(movie)"
   ]
  },
  {
   "cell_type": "code",
   "execution_count": 160,
   "id": "f5141024-e360-43de-b2da-24bbe0b59d98",
   "metadata": {},
   "outputs": [
    {
     "name": "stdout",
     "output_type": "stream",
     "text": [
      "1위 : 극장판 귀멸의 칼날: 무한성편 (62691명/3458748명)\n",
      "2위 : 컨저링: 마지막 의식 (28524명/68447명)\n",
      "3위 : F1 더 무비 (13230명/4826681명)\n",
      "4위 : 좀비딸 (12983명/5411863명)\n",
      "5위 : 투게더 (4515명/15019명)\n",
      "6위 : 첫사랑 엔딩 (3468명/84391명)\n",
      "7위 : 악마가 이사왔다 (1535명/425187명)\n",
      "8위 : 긴키 지방의 어느 장소에 대하여 (1307명/260195명)\n",
      "9위 : 노바디2 (1200명/53902명)\n",
      "10위 : 이티 (1044명/11492명)\n"
     ]
    }
   ],
   "source": [
    "for movie in movie_list:\n",
    "    print(movie)"
   ]
  },
  {
   "cell_type": "code",
   "execution_count": 152,
   "id": "1c25711e-a508-49f5-b306-52c10c136d5a",
   "metadata": {},
   "outputs": [
    {
     "data": {
      "text/plain": [
       "{'boxOfficeResult': {'boxofficeType': '일별 박스오피스',\n",
       "  'showRange': '20250904~20250904',\n",
       "  'dailyBoxOfficeList': [{'rnum': '1',\n",
       "    'rank': '1',\n",
       "    'rankInten': '0',\n",
       "    'rankOldAndNew': 'OLD',\n",
       "    'movieCd': '20253289',\n",
       "    'movieNm': '극장판 귀멸의 칼날: 무한성편',\n",
       "    'openDt': '2025-08-22',\n",
       "    'salesAmt': '678112700',\n",
       "    'salesShare': '46.6',\n",
       "    'salesInten': '-159857340',\n",
       "    'salesChange': '-19.1',\n",
       "    'salesAcc': '37355740290',\n",
       "    'audiCnt': '62691',\n",
       "    'audiInten': '-16830',\n",
       "    'audiChange': '-21.2',\n",
       "    'audiAcc': '3458748',\n",
       "    'scrnCnt': '1581',\n",
       "    'showCnt': '4874'},\n",
       "   {'rnum': '2',\n",
       "    'rank': '2',\n",
       "    'rankInten': '0',\n",
       "    'rankOldAndNew': 'OLD',\n",
       "    'movieCd': '20256702',\n",
       "    'movieNm': '컨저링: 마지막 의식',\n",
       "    'openDt': '2025-09-03',\n",
       "    'salesAmt': '286788930',\n",
       "    'salesShare': '19.7',\n",
       "    'salesInten': '-110533380',\n",
       "    'salesChange': '-27.8',\n",
       "    'salesAcc': '687648240',\n",
       "    'audiCnt': '28524',\n",
       "    'audiInten': '-11054',\n",
       "    'audiChange': '-27.9',\n",
       "    'audiAcc': '68447',\n",
       "    'scrnCnt': '835',\n",
       "    'showCnt': '2151'},\n",
       "   {'rnum': '3',\n",
       "    'rank': '3',\n",
       "    'rankInten': '0',\n",
       "    'rankOldAndNew': 'OLD',\n",
       "    'movieCd': '20254501',\n",
       "    'movieNm': 'F1 더 무비',\n",
       "    'openDt': '2025-06-25',\n",
       "    'salesAmt': '132347510',\n",
       "    'salesShare': '9.1',\n",
       "    'salesInten': '-9109970',\n",
       "    'salesChange': '-6.4',\n",
       "    'salesAcc': '51794204600',\n",
       "    'audiCnt': '13230',\n",
       "    'audiInten': '-1377',\n",
       "    'audiChange': '-9.4',\n",
       "    'audiAcc': '4826681',\n",
       "    'scrnCnt': '644',\n",
       "    'showCnt': '1330'},\n",
       "   {'rnum': '4',\n",
       "    'rank': '4',\n",
       "    'rankInten': '0',\n",
       "    'rankOldAndNew': 'OLD',\n",
       "    'movieCd': '20241941',\n",
       "    'movieNm': '좀비딸',\n",
       "    'openDt': '2025-07-30',\n",
       "    'salesAmt': '119587700',\n",
       "    'salesShare': '8.2',\n",
       "    'salesInten': '-14043000',\n",
       "    'salesChange': '-10.5',\n",
       "    'salesAcc': '51273160590',\n",
       "    'audiCnt': '12983',\n",
       "    'audiInten': '-1619',\n",
       "    'audiChange': '-11.1',\n",
       "    'audiAcc': '5411863',\n",
       "    'scrnCnt': '675',\n",
       "    'showCnt': '1729'},\n",
       "   {'rnum': '5',\n",
       "    'rank': '5',\n",
       "    'rankInten': '0',\n",
       "    'rankOldAndNew': 'OLD',\n",
       "    'movieCd': '20256071',\n",
       "    'movieNm': '투게더',\n",
       "    'openDt': '2025-09-03',\n",
       "    'salesAmt': '34885600',\n",
       "    'salesShare': '2.4',\n",
       "    'salesInten': '-21448300',\n",
       "    'salesChange': '-38.1',\n",
       "    'salesAcc': '114325700',\n",
       "    'audiCnt': '4515',\n",
       "    'audiInten': '-3410',\n",
       "    'audiChange': '-43',\n",
       "    'audiAcc': '15019',\n",
       "    'scrnCnt': '239',\n",
       "    'showCnt': '603'},\n",
       "   {'rnum': '6',\n",
       "    'rank': '6',\n",
       "    'rankInten': '0',\n",
       "    'rankOldAndNew': 'OLD',\n",
       "    'movieCd': '20256281',\n",
       "    'movieNm': '첫사랑 엔딩',\n",
       "    'openDt': '2025-08-27',\n",
       "    'salesAmt': '32606400',\n",
       "    'salesShare': '2.2',\n",
       "    'salesInten': '-6098200',\n",
       "    'salesChange': '-15.8',\n",
       "    'salesAcc': '795122770',\n",
       "    'audiCnt': '3468',\n",
       "    'audiInten': '-603',\n",
       "    'audiChange': '-14.8',\n",
       "    'audiAcc': '84391',\n",
       "    'scrnCnt': '271',\n",
       "    'showCnt': '386'},\n",
       "   {'rnum': '7',\n",
       "    'rank': '7',\n",
       "    'rankInten': '3',\n",
       "    'rankOldAndNew': 'OLD',\n",
       "    'movieCd': '20210546',\n",
       "    'movieNm': '악마가 이사왔다',\n",
       "    'openDt': '2025-08-13',\n",
       "    'salesAmt': '12823700',\n",
       "    'salesShare': '0.9',\n",
       "    'salesInten': '-958400',\n",
       "    'salesChange': '-7',\n",
       "    'salesAcc': '4035317910',\n",
       "    'audiCnt': '1535',\n",
       "    'audiInten': '18',\n",
       "    'audiChange': '1.2',\n",
       "    'audiAcc': '425187',\n",
       "    'scrnCnt': '88',\n",
       "    'showCnt': '109'},\n",
       "   {'rnum': '8',\n",
       "    'rank': '8',\n",
       "    'rankInten': '1',\n",
       "    'rankOldAndNew': 'OLD',\n",
       "    'movieCd': '20256701',\n",
       "    'movieNm': '긴키 지방의 어느 장소에 대하여',\n",
       "    'openDt': '2025-08-13',\n",
       "    'salesAmt': '13145900',\n",
       "    'salesShare': '0.9',\n",
       "    'salesInten': '-2389400',\n",
       "    'salesChange': '-15.4',\n",
       "    'salesAcc': '2655711490',\n",
       "    'audiCnt': '1307',\n",
       "    'audiInten': '-251',\n",
       "    'audiChange': '-16.1',\n",
       "    'audiAcc': '260195',\n",
       "    'scrnCnt': '156',\n",
       "    'showCnt': '188'},\n",
       "   {'rnum': '9',\n",
       "    'rank': '9',\n",
       "    'rankInten': '3',\n",
       "    'rankOldAndNew': 'OLD',\n",
       "    'movieCd': '20256202',\n",
       "    'movieNm': '노바디2',\n",
       "    'openDt': '2025-08-27',\n",
       "    'salesAmt': '10973700',\n",
       "    'salesShare': '0.8',\n",
       "    'salesInten': '-1010600',\n",
       "    'salesChange': '-8.4',\n",
       "    'salesAcc': '477331800',\n",
       "    'audiCnt': '1200',\n",
       "    'audiInten': '-129',\n",
       "    'audiChange': '-9.7',\n",
       "    'audiAcc': '53902',\n",
       "    'scrnCnt': '199',\n",
       "    'showCnt': '277'},\n",
       "   {'rnum': '10',\n",
       "    'rank': '10',\n",
       "    'rankInten': '-3',\n",
       "    'rankOldAndNew': 'OLD',\n",
       "    'movieCd': '20020328',\n",
       "    'movieNm': '이티',\n",
       "    'openDt': '1984-06-23',\n",
       "    'salesAmt': '10006600',\n",
       "    'salesShare': '0.7',\n",
       "    'salesInten': '-13074100',\n",
       "    'salesChange': '-56.6',\n",
       "    'salesAcc': '94402800',\n",
       "    'audiCnt': '1044',\n",
       "    'audiInten': '-1365',\n",
       "    'audiChange': '-56.7',\n",
       "    'audiAcc': '11492',\n",
       "    'scrnCnt': '110',\n",
       "    'showCnt': '174'}]}}"
      ]
     },
     "execution_count": 152,
     "metadata": {},
     "output_type": "execute_result"
    }
   ],
   "source": [
    "result = response.json()\n",
    "result"
   ]
  },
  {
   "cell_type": "code",
   "execution_count": null,
   "id": "815a06f3-e9e2-4a91-9ad0-586d9c20f2bd",
   "metadata": {},
   "outputs": [],
   "source": [
    "# 자료구조 (Data Structure)\n",
    "# 자료들을 효율적으로 다루기 위한 방법\n",
    "# 1) 선형 : 배열, 연결, 리스트, 스택, 큐\n",
    "# 2) 비선형 : 트리, 그래프"
   ]
  },
  {
   "cell_type": "code",
   "execution_count": null,
   "id": "4b621ece-c95f-4df6-a3b2-d71f2ccfccd7",
   "metadata": {},
   "outputs": [],
   "source": [
    "# python에서 배열을 표현하기\n",
    "# 첨자를 사용\n",
    "# 인덱스 0 ~ 순차적\n",
    "# 크기가 고정\n",
    "\n",
    "Array(1, 2, 3, 4)"
   ]
  },
  {
   "cell_type": "code",
   "execution_count": 165,
   "id": "15797699-7bbd-4854-a372-a5d052a90a2c",
   "metadata": {},
   "outputs": [],
   "source": [
    "class Array:\n",
    "    def __init__(self, *args):\n",
    "        self.data = args\n",
    "    def get(self, index):\n",
    "        return self.data[index]\n",
    "    def __str__(self):\n",
    "        return str(self.data)"
   ]
  },
  {
   "cell_type": "code",
   "execution_count": 167,
   "id": "4e5434a1-0bb7-444d-b9db-e33a82b9fbe2",
   "metadata": {},
   "outputs": [
    {
     "name": "stdout",
     "output_type": "stream",
     "text": [
      "(1, 2, 3, 4)\n"
     ]
    }
   ],
   "source": [
    "arr1 = Array(1, 2, 3, 4)\n",
    "arr1.get(2)\n",
    "print(arr1)"
   ]
  },
  {
   "cell_type": "code",
   "execution_count": 186,
   "id": "79bf8169-f2e4-4e7e-8539-dec6c88870a8",
   "metadata": {},
   "outputs": [],
   "source": [
    "class Node:\n",
    "    def __init__(self, data):\n",
    "        self.data = data\n",
    "        self.next = None"
   ]
  },
  {
   "cell_type": "code",
   "execution_count": 197,
   "id": "15a33656-0f59-4603-b566-4a1918e37bba",
   "metadata": {},
   "outputs": [],
   "source": [
    "# 연결 리스트 (Linked List)\n",
    "class LinkedList:\n",
    "    def __init__(self):\n",
    "        self.head = None\n",
    "\n",
    "    def append(self, data):\n",
    "        if self.head == None:\n",
    "            self.head = Node(data)\n",
    "        else:\n",
    "            curr = self.head #현재 우리가 가리키고 있는 노드\n",
    "            while curr.next:\n",
    "                curr = curr.next\n",
    "            curr.next = Node(data)\n",
    "    def __str__(self):\n",
    "        result = \"\"\n",
    "        curr = self.head\n",
    "        \n",
    "        while True:\n",
    "            result += str(curr.data)\n",
    "\n",
    "            if curr.next == None:\n",
    "                break\n",
    "            curr = curr.next\n",
    "\n",
    "            result += \" -> \"\n",
    "\n",
    "        return result"
   ]
  },
  {
   "cell_type": "code",
   "execution_count": 200,
   "id": "971a34dc-b27e-436d-bfc1-6f5d97ac6f3f",
   "metadata": {},
   "outputs": [
    {
     "name": "stdout",
     "output_type": "stream",
     "text": [
      "1 -> 2 -> 10 -> 100 -> 50\n"
     ]
    }
   ],
   "source": [
    "list1 = LinkedList()\n",
    "list1.append(1)\n",
    "list1.append(2)\n",
    "list1.append(10)\n",
    "list1.append(100)\n",
    "print(list1)"
   ]
  },
  {
   "cell_type": "code",
   "execution_count": null,
   "id": "0663d166-ecea-4828-80f5-96f376d8ca2e",
   "metadata": {},
   "outputs": [],
   "source": [
    "# 스택!!\n",
    "# Node 활용!!\n",
    "# Last In First Out (LIFO)\n",
    "# push(10)\n",
    "# pop() -> 가장 위 노드를 제거, 노드 data를 반환!!\n",
    "# peek() -> 가장 위 노드 data 반환!!\n",
    "# is_empty() -> 만약, 스택이 비어있으면 True, 비어있지 않으면 False"
   ]
  },
  {
   "cell_type": "code",
   "execution_count": 204,
   "id": "f4c45035-c5b1-432a-a1ac-a295cd7c239b",
   "metadata": {},
   "outputs": [],
   "source": [
    "class Node:\n",
    "    def __init__(self, data):\n",
    "        self.data = data\n",
    "        self.next = None\n",
    "\n",
    "class Stack:\n",
    "    def __init__(self):\n",
    "        self.top = None\n",
    "\n",
    "    def push(self, data):\n",
    "        if self.top == None:\n",
    "            self.top = Node(data)\n",
    "        else:\n",
    "            curr = Node(data)\n",
    "            curr.next = self.top\n",
    "            self.top = curr\n",
    "\n",
    "    def pop(self):\n",
    "        # 가장 윗 노드 제거, 해당 data 반환\n",
    "        if self.top == None:\n",
    "            return None\n",
    "        else:\n",
    "            curr = self.top\n",
    "            self.top = self.top.next\n",
    "            return curr.data\n",
    "    def peek(self):\n",
    "        # 가장 윗 노드의 data 반환\n",
    "        if self.top == None:\n",
    "            return None\n",
    "        else:\n",
    "            curr = self.top\n",
    "            return curr.data\n",
    "\n",
    "    def is_empty(self):\n",
    "        return self.top == None     \n",
    "    def __str__(self):\n",
    "        result = \"\"\n",
    "        curr = self.top\n",
    "\n",
    "        while True:\n",
    "            result += str(curr.data)\n",
    "            if curr.next == None:\n",
    "                break\n",
    "            curr = curr.next\n",
    "            result += \" -> \"\n",
    "\n",
    "        \n",
    "        return result"
   ]
  },
  {
   "cell_type": "code",
   "execution_count": 205,
   "id": "16197d87-018a-453c-9571-985b0e2bc1da",
   "metadata": {},
   "outputs": [
    {
     "name": "stdout",
     "output_type": "stream",
     "text": [
      "30\n",
      "20\n",
      "20 -> 10\n"
     ]
    }
   ],
   "source": [
    "s = Stack()\n",
    "s.push(10)\n",
    "s.push(20)\n",
    "s.push(30)\n",
    "print(s.pop())\n",
    "print(s.peek())\n",
    "print(s)\n"
   ]
  },
  {
   "cell_type": "code",
   "execution_count": 216,
   "id": "1bb03698-1a8b-4b4d-b470-61dba75d5dfc",
   "metadata": {},
   "outputs": [
    {
     "name": "stdout",
     "output_type": "stream",
     "text": [
      "False\n"
     ]
    }
   ],
   "source": [
    "valid = \"((()()(()))(((())))()\"\n",
    "# continue : 반복문의 다음 바퀴 진행\n",
    "# pass : if, else의 내용 없음을 방지하여 지나침\n",
    "\n",
    "is_vps = True\n",
    "\n",
    "braket = Stack()\n",
    "for ps in valid:\n",
    "    if ps == \"(\":\n",
    "        braket.push(ps)\n",
    "    else:\n",
    "        if braket.pop() == \"(\":\n",
    "            continue\n",
    "        else:\n",
    "            is_vps = False\n",
    "            break\n",
    "if not braket.is_empty():\n",
    "    is_vps = False\n",
    "print(is_vps)"
   ]
  },
  {
   "cell_type": "code",
   "execution_count": 218,
   "id": "d9170e19-5c7a-4ba7-b026-507e0c82d06f",
   "metadata": {},
   "outputs": [],
   "source": [
    "class Node:\n",
    "    def __init__(self, data):\n",
    "        self.data = data\n",
    "        self.next = None\n",
    "\n",
    "class Stack:\n",
    "    def __init__(self):\n",
    "        self.top = None\n",
    "\n",
    "    def push(self, data):\n",
    "        if self.top == None:\n",
    "            self.top = Node(data)\n",
    "        else:\n",
    "            curr = Node(data)\n",
    "            curr.next = self.top\n",
    "            self.top = curr\n",
    "\n",
    "    def pop(self):\n",
    "        # 가장 윗 노드 제거, 해당 data 반환\n",
    "        if self.top == None:\n",
    "            return None\n",
    "        else:\n",
    "            curr = self.top\n",
    "            self.top = self.top.next\n",
    "            return curr.data\n",
    "    def peek(self):\n",
    "        # 가장 윗 노드의 data 반환\n",
    "        if self.top == None:\n",
    "            return None\n",
    "        else:\n",
    "            curr = self.top\n",
    "            return curr.data\n",
    "\n",
    "    def is_empty(self):\n",
    "        return self.top == None\n",
    "\n",
    "    def __str__(self):\n",
    "        result = \"\"\n",
    "\n",
    "        curr = self.top\n",
    "\n",
    "        while True:\n",
    "            result += str(curr.data)\n",
    "            if curr.next == None:\n",
    "                break\n",
    "            curr = curr.next\n",
    "            result += \" -> \"\n",
    "            \n",
    "        return result\n",
    "\n",
    "def is_valid(valid):\n",
    "    is_vps = True\n",
    "    \n",
    "    braket = Stack()\n",
    "    for ps in valid:\n",
    "        if ps == \"(\":\n",
    "            braket.push(ps)\n",
    "        else:\n",
    "            if braket.pop() == \"(\":\n",
    "                continue\n",
    "            else:\n",
    "                is_vps = False\n",
    "                break\n",
    "    if not braket.is_empty():\n",
    "        is_vps = False\n",
    "    print(\"YES\" if is_vps else \"NO\")\n",
    "\n",
    "T = int(input())\n",
    "for _ in range(T):\n",
    "    valid = input()\n",
    "    is_valid(valid)"
   ]
  },
  {
   "cell_type": "code",
   "execution_count": null,
   "id": "3e16989a-09e4-467e-bed9-3e5c7cafad1b",
   "metadata": {},
   "outputs": [],
   "source": []
  },
  {
   "cell_type": "code",
   "execution_count": null,
   "id": "561554e4-d599-43a0-b121-53b9c94e8110",
   "metadata": {},
   "outputs": [],
   "source": []
  },
  {
   "cell_type": "code",
   "execution_count": null,
   "id": "c3d06be1-84fb-41af-8775-fd26256132ff",
   "metadata": {},
   "outputs": [],
   "source": []
  },
  {
   "cell_type": "code",
   "execution_count": null,
   "id": "24dd5b1f-20ff-4023-8c8f-b8aea4d0c9c8",
   "metadata": {},
   "outputs": [],
   "source": []
  },
  {
   "cell_type": "code",
   "execution_count": null,
   "id": "aadfcaa9-e211-43ab-961a-945edf9f9b32",
   "metadata": {},
   "outputs": [],
   "source": []
  },
  {
   "cell_type": "code",
   "execution_count": null,
   "id": "0aa4e4dd-7b25-4eae-b7ee-f2c9a51ae610",
   "metadata": {},
   "outputs": [],
   "source": []
  }
 ],
 "metadata": {
  "kernelspec": {
   "display_name": "Python 3 (ipykernel)",
   "language": "python",
   "name": "python3"
  },
  "language_info": {
   "codemirror_mode": {
    "name": "ipython",
    "version": 3
   },
   "file_extension": ".py",
   "mimetype": "text/x-python",
   "name": "python",
   "nbconvert_exporter": "python",
   "pygments_lexer": "ipython3",
   "version": "3.9.23"
  }
 },
 "nbformat": 4,
 "nbformat_minor": 5
}
